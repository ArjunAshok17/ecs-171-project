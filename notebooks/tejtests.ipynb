{
 "cells": [
  {
   "cell_type": "code",
   "execution_count": 1,
   "metadata": {},
   "outputs": [],
   "source": [
    "from utils.model import LogClassifier\n",
    "from utils.dataset import *"
   ]
  },
  {
   "cell_type": "code",
   "execution_count": 2,
   "metadata": {},
   "outputs": [
    {
     "name": "stdout",
     "output_type": "stream",
     "text": [
      "['high_bp', 'high_chol', 'chol_check', 'bmi', 'smoker', 'stroke', 'heart_disease', 'physical_activity', 'fruits', 'veggies', 'heavy_drinker', 'healthcare', 'no_doc_bc_cost', 'general_health', 'mental_health', 'physical_health', 'diff_walk', 'sex', 'age', 'education', 'income']\n"
     ]
    }
   ],
   "source": [
    "dataset = Dataset(path=\"../datasets/pre_split_processed.parquet\")\n",
    "dataset.set_target(\"diabetes\")\n",
    "print(dataset.feature_set)"
   ]
  },
  {
   "cell_type": "code",
   "execution_count": 3,
   "metadata": {},
   "outputs": [
    {
     "name": "stdout",
     "output_type": "stream",
     "text": [
      "<Train-Test Split Report>\n",
      "Train: 202944 obs, 170962 no diabetes [0], 3705 pre-diabetes [1], 28277 diabetes [2]\n",
      "Test: 50736 obs, 42741 no diabetes [0], 926 pre-diabetes [1], 7069 diabetes [2]\n",
      "\n",
      "<Test Report>\n",
      "Precision: [no diabetes] 0.8445722702121731, [pre-diabetes] 0.340080971659919, [diabetes] 0.0\n",
      "Recall: [no diabetes] 0.9927938045436466, [pre-diabetes] 0.023765737728108645, [diabetes] 0.0\n",
      "F1-Score: [no diabetes] 0.9127044728606304, [pre-diabetes] 0.044426814756049184, [diabetes] 0.0\n",
      "Support: [no diabetes] 42741, [pre-diabetes] 7069, [diabetes] 926\n",
      "Accuracy: 83.9660%\n",
      "Macro-F1: 0.3190\n"
     ]
    },
    {
     "name": "stderr",
     "output_type": "stream",
     "text": [
      "/Library/Frameworks/Python.framework/Versions/3.12/lib/python3.12/site-packages/sklearn/metrics/_classification.py:1509: UndefinedMetricWarning: Precision is ill-defined and being set to 0.0 in labels with no predicted samples. Use `zero_division` parameter to control this behavior.\n",
      "  _warn_prf(average, modifier, f\"{metric.capitalize()} is\", len(result))\n"
     ]
    }
   ],
   "source": [
    "log_reg = LogClassifier(target=\"diabetes\", path=\"../datasets/pre_split_processed.parquet\")\n",
    "log_reg.train_model()\n",
    "log_reg.test_model()"
   ]
  }
 ],
 "metadata": {
  "kernelspec": {
   "display_name": "Python 3",
   "language": "python",
   "name": "python3"
  },
  "language_info": {
   "codemirror_mode": {
    "name": "ipython",
    "version": 3
   },
   "file_extension": ".py",
   "mimetype": "text/x-python",
   "name": "python",
   "nbconvert_exporter": "python",
   "pygments_lexer": "ipython3",
   "version": "3.12.0"
  }
 },
 "nbformat": 4,
 "nbformat_minor": 2
}
