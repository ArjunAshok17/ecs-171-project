{
 "cells": [
  {
   "cell_type": "code",
   "execution_count": 1,
   "metadata": {},
   "outputs": [],
   "source": [
    "from utils.model import LogClassifier\n",
    "from utils.dataset import *"
   ]
  },
  {
   "cell_type": "code",
   "execution_count": 4,
   "metadata": {},
   "outputs": [
    {
     "name": "stdout",
     "output_type": "stream",
     "text": [
      "<Train-Test Split Report>\n",
      "Train: 512886 obs, 170962 no diabetes [0], 170962 pre-diabetes [1], 170962 diabetes [2]\n",
      "Test: 50736 obs, 42741 no diabetes [0], 926 pre-diabetes [1], 7069 diabetes [2]\n",
      "\n",
      "<Test Report>\n",
      "Precision: [no diabetes] 0.9023346665426472, [pre-diabetes] 0.34424242424242424, [diabetes] 0.02115221088435374\n",
      "Recall: [no diabetes] 0.6809152804099109, [pre-diabetes] 0.4419295515631631, [diabetes] 0.21490280777537796\n",
      "F1-Score: [no diabetes] 0.7761420913673094, [pre-diabetes] 0.38701684836471756, [diabetes] 0.03851364428101413\n",
      "Support: [no diabetes] 42741, [pre-diabetes] 7069, [diabetes] 926\n",
      "Accuracy: 63.9112%\n"
     ]
    }
   ],
   "source": [
    "log_reg = LogClassifier(target=\"diabetes\", path=\"../datasets/pre_split_processed.parquet\")\n",
    "log_reg.train_model()\n",
    "log_reg.test_model()"
   ]
  }
 ],
 "metadata": {
  "kernelspec": {
   "display_name": "Python 3",
   "language": "python",
   "name": "python3"
  },
  "language_info": {
   "codemirror_mode": {
    "name": "ipython",
    "version": 3
   },
   "file_extension": ".py",
   "mimetype": "text/x-python",
   "name": "python",
   "nbconvert_exporter": "python",
   "pygments_lexer": "ipython3",
   "version": "3.11.5"
  }
 },
 "nbformat": 4,
 "nbformat_minor": 2
}
