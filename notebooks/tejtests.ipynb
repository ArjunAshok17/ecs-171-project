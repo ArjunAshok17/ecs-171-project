{
 "cells": [
  {
   "cell_type": "code",
   "execution_count": 1,
   "metadata": {},
   "outputs": [],
   "source": [
    "from utils.model import LogClassifier\n",
    "from utils.dataset import *"
   ]
  },
  {
   "cell_type": "code",
   "execution_count": 2,
   "metadata": {},
   "outputs": [
    {
     "name": "stdout",
     "output_type": "stream",
     "text": [
      "['high_bp', 'high_chol', 'chol_check', 'bmi', 'smoker', 'stroke', 'heart_disease', 'physical_activity', 'fruits', 'veggies', 'heavy_drinker', 'healthcare', 'no_doc_bc_cost', 'general_health', 'mental_health', 'physical_health', 'diff_walk', 'sex', 'age', 'education', 'income']\n"
     ]
    }
   ],
   "source": [
    "dataset = Dataset(path=\"../datasets/pre_split_processed.parquet\")\n",
    "dataset.set_target(\"diabetes\")\n",
    "print(dataset.feature_set)"
   ]
  },
  {
   "cell_type": "code",
   "execution_count": 3,
   "metadata": {},
   "outputs": [
    {
     "name": "stdout",
     "output_type": "stream",
     "text": [
      "<Train-Test Split Report>\n",
      "Train: 202944 obs, 170962 no diabetes [0], 3705 pre-diabetes [1], 28277 diabetes [2]\n",
      "Test: 50736 obs, 42741 no diabetes [0], 926 pre-diabetes [1], 7069 diabetes [2]\n",
      "Epoch 1, change: 1.00000000\n",
      "Epoch 2, change: 0.45102297\n",
      "Epoch 3, change: 0.20245178\n",
      "Epoch 4, change: 0.13734703\n",
      "Epoch 5, change: 0.10178922\n",
      "Epoch 6, change: 0.08759988\n",
      "Epoch 7, change: 0.02589138\n",
      "Epoch 8, change: 0.01761601\n",
      "Epoch 9, change: 0.01020403\n",
      "Epoch 10, change: 0.00885995\n",
      "Epoch 11, change: 0.00773387\n",
      "Epoch 12, change: 0.00654108\n",
      "Epoch 13, change: 0.00677541\n",
      "Epoch 14, change: 0.00602072\n",
      "Epoch 15, change: 0.00566153\n",
      "Epoch 16, change: 0.00556259\n",
      "Epoch 17, change: 0.00540596\n",
      "Epoch 18, change: 0.00533401\n",
      "Epoch 19, change: 0.00529857\n",
      "Epoch 20, change: 0.00522948\n",
      "Epoch 21, change: 0.00519887\n",
      "Epoch 22, change: 0.00515827\n",
      "Epoch 23, change: 0.00512852\n",
      "Epoch 24, change: 0.00509506\n",
      "Epoch 25, change: 0.00506331\n",
      "Epoch 26, change: 0.00503289\n",
      "Epoch 27, change: 0.00500298\n",
      "Epoch 28, change: 0.00497302\n",
      "Epoch 29, change: 0.00494289\n",
      "Epoch 30, change: 0.00491335\n",
      "Epoch 31, change: 0.00488390\n",
      "Epoch 32, change: 0.00485469\n",
      "Epoch 33, change: 0.00482563\n",
      "Epoch 34, change: 0.00479676\n",
      "Epoch 35, change: 0.00476805\n",
      "Epoch 36, change: 0.00473953\n",
      "Epoch 37, change: 0.00471117\n",
      "Epoch 38, change: 0.00468298\n",
      "Epoch 39, change: 0.00465496\n",
      "Epoch 40, change: 0.00462711\n",
      "Epoch 41, change: 0.00459942\n",
      "Epoch 42, change: 0.00457190\n",
      "Epoch 43, change: 0.00454455\n",
      "Epoch 44, change: 0.00451736\n",
      "Epoch 45, change: 0.00449033\n",
      "Epoch 46, change: 0.00446346\n",
      "Epoch 47, change: 0.00444469\n",
      "Epoch 48, change: 0.00441805\n",
      "Epoch 49, change: 0.00438488\n",
      "Epoch 50, change: 0.00435822\n",
      "Epoch 51, change: 0.00433164\n",
      "Epoch 52, change: 0.00429603\n",
      "Epoch 53, change: 0.00425222\n",
      "Epoch 54, change: 0.00420903\n",
      "Epoch 55, change: 0.00418471\n",
      "Epoch 56, change: 0.00412332\n",
      "Epoch 57, change: 0.00408302\n",
      "Epoch 58, change: 0.00404036\n",
      "Epoch 59, change: 0.00400040\n",
      "Epoch 60, change: 0.00396043\n",
      "Epoch 61, change: 0.00392130\n",
      "Epoch 62, change: 0.00388269\n",
      "Epoch 63, change: 0.00384458\n",
      "Epoch 64, change: 0.00380701\n",
      "Epoch 65, change: 0.00376997\n",
      "Epoch 66, change: 0.00373342\n",
      "Epoch 67, change: 0.00369736\n",
      "Epoch 68, change: 0.00366178\n",
      "Epoch 69, change: 0.00362667\n",
      "Epoch 70, change: 0.00359202\n",
      "Epoch 71, change: 0.00355783\n",
      "Epoch 72, change: 0.00155313\n",
      "convergence after 73 epochs took 10 seconds\n",
      "\n",
      "<Test Report>\n",
      "Precision: [no diabetes] 0.8437855645402815, [pre-diabetes] 0.23348694316436253, [diabetes] 0.0\n",
      "Recall: [no diabetes] 0.9887695655225661, [pre-diabetes] 0.02150233413495544, [diabetes] 0.0\n",
      "F1-Score: [no diabetes] 0.9105423049576628, [pre-diabetes] 0.039378238341968914, [diabetes] 0.0\n",
      "Support: [no diabetes] 42741, [pre-diabetes] 7069, [diabetes] 926\n",
      "Accuracy: 83.5955%\n",
      "Macro-F1: 0.3166\n"
     ]
    },
    {
     "name": "stderr",
     "output_type": "stream",
     "text": [
      "/Library/Frameworks/Python.framework/Versions/3.12/lib/python3.12/site-packages/sklearn/metrics/_classification.py:1509: UndefinedMetricWarning: Precision is ill-defined and being set to 0.0 in labels with no predicted samples. Use `zero_division` parameter to control this behavior.\n",
      "  _warn_prf(average, modifier, f\"{metric.capitalize()} is\", len(result))\n"
     ]
    }
   ],
   "source": [
    "log_reg = LogClassifier(target=\"diabetes\", path=\"../datasets/pre_split_processed.parquet\")\n",
    "log_reg.train_model()\n",
    "log_reg.test_model()"
   ]
  }
 ],
 "metadata": {
  "kernelspec": {
   "display_name": "Python 3",
   "language": "python",
   "name": "python3"
  },
  "language_info": {
   "codemirror_mode": {
    "name": "ipython",
    "version": 3
   },
   "file_extension": ".py",
   "mimetype": "text/x-python",
   "name": "python",
   "nbconvert_exporter": "python",
   "pygments_lexer": "ipython3",
   "version": "3.12.0"
  }
 },
 "nbformat": 4,
 "nbformat_minor": 2
}
