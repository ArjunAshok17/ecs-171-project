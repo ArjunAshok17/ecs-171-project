{
 "cells": [
  {
   "cell_type": "markdown",
   "metadata": {},
   "source": [
    "# Modeling\n",
    "In this notebook, we'll be modeling the data we've previously prepared. Out notebook will be laid out as follows:\n",
    "\n",
    "1. Model Selection & Generation\n",
    "2. Hyperparameter Optimization\n",
    "3. Fine-Tuning (if needed)\n",
    "4. Reporting Best Model(s) + Settings\n",
    "5. Interpretation\n",
    "6. Conclusion\n",
    "\n",
    "Our eventual goal here is two-fold:\n",
    "\n",
    "1. Accurately [and fairly] model the diabetes dataset\n",
    "2. Interpret the results to find something worth recommending to those wanting to reduce risk of diabetes. This can be via LIME/SHAP (i.e. some interpretable model that approximates the neural network) or via analyzing a more simple model's structure (i.e. regression coefficients, random forest decision boundaries)"
   ]
  },
  {
   "cell_type": "code",
   "execution_count": 1,
   "metadata": {},
   "outputs": [],
   "source": [
    "# Environment Setup\n",
    "from utils.model import *\n",
    "from utils.dataset import *"
   ]
  },
  {
   "cell_type": "markdown",
   "metadata": {},
   "source": [
    "***\n",
    "## Model Selection & Generation"
   ]
  },
  {
   "cell_type": "code",
   "execution_count": 2,
   "metadata": {},
   "outputs": [
    {
     "name": "stdout",
     "output_type": "stream",
     "text": [
      "<Train-Test Split Report>\n",
      "Train: 512886 obs, 170962 no diabetes [0], 170962 pre-diabetes [1], 170962 diabetes [2]\n",
      "Test: 50736 obs, 42741 no diabetes [0], 926 pre-diabetes [1], 7069 diabetes [2]\n",
      "\n",
      "<Test Report>\n",
      "Precision: [no diabetes] 0.9045211473018959, [pre-diabetes] 0.26678220681686887, [diabetes] 0.024674861927667914\n",
      "Recall: [no diabetes] 0.6529795746472942, [pre-diabetes] 0.3266374310369218, [diabetes] 0.2991360691144708\n",
      "F1-Score: [no diabetes] 0.7584379585847056, [pre-diabetes] 0.29369117272958534, [diabetes] 0.0455892034233048\n",
      "Support: [no diabetes] 42741, [pre-diabetes] 7069, [diabetes] 926\n",
      "Accuracy: 60.1053%\n",
      "Macro-F1: 0.3659\n"
     ]
    }
   ],
   "source": [
    "# generate lookup for models\n",
    "models = {\n",
    "    # \"tree\": TreeClassifier(target=\"diabetes\", path=\"../datasets/pre_split_processed.parquet\", upsample=True),\n",
    "    # \"ffnn\": MLPClassifier(target=\"diabetes\", path=\"../datasets/pre_split_processed.parquet\", upsample=False, loss_balance=False),\n",
    "    \"log\": LogClassifier(target=\"diabetes\", path=\"../datasets/pre_split_processed.parquet\", upsample=True)\n",
    "}\n",
    "\n",
    "# manual search\n",
    "# models[\"tree\"].set_hyperparams({\n",
    "#     \"loss\": \"log_loss\",\n",
    "#     \"learning_rate\": 0.01,\n",
    "#     \"n_estimators\": 100,\n",
    "#     \"criterion\": \"friedman_mse\",\n",
    "#     \"min_samples_split\": 5,\n",
    "#     \"min_samples_leaf\": 5,\n",
    "#     \"max_depth\": 8,\n",
    "#     \"n_iter_no_change\": 5,\n",
    "#     \"max_features\": \"sqrt\",\n",
    "#     \"tol\": 0.0001\n",
    "# })\n",
    "# models[\"ffnn\"].set_hyperparams({\n",
    "#     \"learning_rate\": .0005,\n",
    "#     \"batch_size\": 256,\n",
    "#     \"num_hidden\": 8,\n",
    "#     \"hidden_size\": [2048, 1024, 512, 256, 128, 64, 32, 32],\n",
    "#     \"num_epochs\": 50,\n",
    "#     \"dropout_rate\": [0.875, 0.75, 0.75, 0.5, 0.5, 0.25, 0.25],\n",
    "#     \"classify_fn\": \"sigmoid\"\n",
    "# })\n",
    "# models[\"ffnn\"].set_hyperparams({\n",
    "#     \"learning_rate\": .001,\n",
    "#     \"batch_size\": 32,\n",
    "#     \"num_hidden\": 4,\n",
    "#     \"hidden_size\": [128, 64, 64, 32],\n",
    "#     \"num_epochs\": 50,\n",
    "#     \"dropout_rate\": [0.5, 0.4, 0.3, 0.2],\n",
    "#     \"classify_fn\": \"sigmoid\"\n",
    "# # })\n",
    "# models[\"ffnn\"].set_hyperparams({\n",
    "#     \"input_size\": 21,\n",
    "#     \"output_size\": 3,\n",
    "#     \"hidden_size\": 1024,\n",
    "#     \"num_hidden\": 4,\n",
    "#     \"num_epochs\": 50,\n",
    "#     \"batch_size\": 64,\n",
    "#     \"learning_rate\": 5e-05,\n",
    "#     \"dropout_rate\": 0.9,\n",
    "#     \"classify_fn\": \"sigmoid\"\n",
    "# })\n",
    "# models[\"ffnn\"].set_hyperparams({\n",
    "#     \"input_size\": 21,\n",
    "#     \"output_size\": 3,\n",
    "#     \"hidden_size\": 512,\n",
    "#     \"num_hidden\": 2,\n",
    "#     \"num_epochs\": 50,\n",
    "#     \"batch_size\": 128,\n",
    "#     \"dropout_rate\": 0.4,\n",
    "#     \"learning_rate\": 0.0005\n",
    "# })\n",
    "\n",
    "# train & test basic model\n",
    "skip_models = []#[\"ffnn\", \"log\"]\n",
    "for mt, model in models.items():\n",
    "    # attempt to load, else train and test\n",
    "    if (mt in skip_models) or (not model.load_model()):\n",
    "        model.train_model(verbose=2)\n",
    "    model.test_model()"
   ]
  },
  {
   "cell_type": "markdown",
   "metadata": {},
   "source": [
    "***\n",
    "## Hyperparameter Optimization"
   ]
  },
  {
   "cell_type": "code",
   "execution_count": 3,
   "metadata": {},
   "outputs": [],
   "source": [
    "# optimize hyperparams\n",
    "# optimizer_results = {model_type: model.optimize_hyperparams(kfold=2) for model_type, model in models.items()}\n",
    "# print(optimizer_results)"
   ]
  },
  {
   "cell_type": "markdown",
   "metadata": {},
   "source": [
    "***\n",
    "## Fine-Tuning + Other Adjustments"
   ]
  },
  {
   "cell_type": "code",
   "execution_count": null,
   "metadata": {},
   "outputs": [],
   "source": []
  },
  {
   "cell_type": "markdown",
   "metadata": {},
   "source": [
    "***\n",
    "## Best Model Report"
   ]
  },
  {
   "cell_type": "code",
   "execution_count": 4,
   "metadata": {},
   "outputs": [
    {
     "name": "stdout",
     "output_type": "stream",
     "text": [
      "{\n",
      "    \"high_bp\": 0.002713658256150768,\n",
      "    \"high_chol\": -0.13198255760527797,\n",
      "    \"chol_check\": -0.22234891293865036,\n",
      "    \"bmi\": 0.011753968749756911,\n",
      "    \"smoker\": 0.08978099772083172,\n",
      "    \"stroke\": -0.22651736522618188,\n",
      "    \"heart_disease\": -0.007007909841112545,\n",
      "    \"physical_activity\": -0.5065999492974543,\n",
      "    \"fruits\": -0.0028655279496007553,\n",
      "    \"veggies\": 0.02779148873481901,\n",
      "    \"heavy_drinker\": 0.02192203232846939,\n",
      "    \"healthcare\": 0.027291903085658757,\n",
      "    \"no_doc_bc_cost\": -0.060057690646198744,\n",
      "    \"general_health\": -0.31966943523510644,\n",
      "    \"mental_health\": -0.05128369479380811,\n",
      "    \"physical_health\": 0.0706631119256953,\n",
      "    \"diff_walk\": -0.2925363752254724,\n",
      "    \"sex\": -0.0009257155550026452,\n",
      "    \"age\": -0.013519341477834528,\n",
      "    \"education\": 0.10230037028270968,\n",
      "    \"income\": -0.0066423898317053325\n",
      "}\n"
     ]
    },
    {
     "data": {
      "text/plain": [
       "{'high_bp': 0.002713658256150768,\n",
       " 'high_chol': -0.13198255760527797,\n",
       " 'chol_check': -0.22234891293865036,\n",
       " 'bmi': 0.011753968749756911,\n",
       " 'smoker': 0.08978099772083172,\n",
       " 'stroke': -0.22651736522618188,\n",
       " 'heart_disease': -0.007007909841112545,\n",
       " 'physical_activity': -0.5065999492974543,\n",
       " 'fruits': -0.0028655279496007553,\n",
       " 'veggies': 0.02779148873481901,\n",
       " 'heavy_drinker': 0.02192203232846939,\n",
       " 'healthcare': 0.027291903085658757,\n",
       " 'no_doc_bc_cost': -0.060057690646198744,\n",
       " 'general_health': -0.31966943523510644,\n",
       " 'mental_health': -0.05128369479380811,\n",
       " 'physical_health': 0.0706631119256953,\n",
       " 'diff_walk': -0.2925363752254724,\n",
       " 'sex': -0.0009257155550026452,\n",
       " 'age': -0.013519341477834528,\n",
       " 'education': 0.10230037028270968,\n",
       " 'income': -0.0066423898317053325}"
      ]
     },
     "execution_count": 4,
     "metadata": {},
     "output_type": "execute_result"
    }
   ],
   "source": [
    "models[\"log\"].explain_model()"
   ]
  },
  {
   "cell_type": "markdown",
   "metadata": {},
   "source": [
    "***\n",
    "## Interpretation"
   ]
  },
  {
   "cell_type": "markdown",
   "metadata": {},
   "source": []
  },
  {
   "cell_type": "markdown",
   "metadata": {},
   "source": [
    "***\n",
    "## Conclusion"
   ]
  }
 ],
 "metadata": {
  "kernelspec": {
   "display_name": "base",
   "language": "python",
   "name": "python3"
  },
  "language_info": {
   "codemirror_mode": {
    "name": "ipython",
    "version": 3
   },
   "file_extension": ".py",
   "mimetype": "text/x-python",
   "name": "python",
   "nbconvert_exporter": "python",
   "pygments_lexer": "ipython3",
   "version": "3.11.5"
  }
 },
 "nbformat": 4,
 "nbformat_minor": 2
}
