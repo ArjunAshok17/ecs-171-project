{
 "cells": [
  {
   "cell_type": "markdown",
   "metadata": {},
   "source": [
    "# Modeling\n",
    "In this notebook, we'll be modeling the data we've previously prepared. Out notebook will be laid out as follows:\n",
    "\n",
    "1. Model Selection & Generation\n",
    "2. Hyperparameter Optimization\n",
    "3. Fine-Tuning (if needed)\n",
    "4. Reporting Best Model(s) + Settings\n",
    "5. Interpretation\n",
    "6. Conclusion\n",
    "\n",
    "Our eventual goal here is two-fold:\n",
    "\n",
    "1. Accurately [and fairly] model the diabetes dataset\n",
    "2. Interpret the results to find something worth recommending to those wanting to reduce risk of diabetes. This can be via LIME/SHAP (i.e. some interpretable model that approximates the neural network) or via analyzing a more simple model's structure (i.e. regression coefficients, random forest decision boundaries)"
   ]
  },
  {
   "cell_type": "code",
   "execution_count": 1,
   "metadata": {},
   "outputs": [],
   "source": [
    "# Environment Setup\n",
    "from utils.model import *\n",
    "from utils.dataset import *"
   ]
  },
  {
   "cell_type": "markdown",
   "metadata": {},
   "source": [
    "***\n",
    "## Model Selection & Generation"
   ]
  },
  {
   "cell_type": "code",
   "execution_count": 2,
   "metadata": {},
   "outputs": [
    {
     "name": "stdout",
     "output_type": "stream",
     "text": [
      "<Train-Test Split Report>\n",
      "Train: 512886 obs, 170962 no diabetes [0], 170962 pre-diabetes [1], 170962 diabetes [2]\n",
      "Test: 50736 obs, 42741 no diabetes [0], 926 pre-diabetes [1], 7069 diabetes [2]\n",
      "\n",
      "<Test Report>\n",
      "Precision: [no diabetes] 0.8560014750169013, [pre-diabetes] 0.07317073170731707, [diabetes] 0.47493887530562345\n",
      "Recall: [no diabetes] 0.9776093212606163, [pre-diabetes] 0.02267818574514039, [diabetes] 0.10991653699250248\n",
      "F1-Score: [no diabetes] 0.9127727898289534, [pre-diabetes] 0.03462489694971146, [diabetes] 0.1785180930499713\n",
      "Support: [no diabetes] 42741, [pre-diabetes] 926, [diabetes] 7069\n",
      "Accuracy: 83.9286%\n"
     ]
    }
   ],
   "source": [
    "# generate lookup for models\n",
    "models = {\n",
    "    # \"tree\": TreeClassifier(target=\"diabetes\", path=\"../datasets/pre_split_processed.parquet\"),\n",
    "    \"ffnn\": MLPClassifier(target=\"diabetes\", path=\"../datasets/pre_split_processed.parquet\")\n",
    "}\n",
    "\n",
    "# manual search\n",
    "models[\"ffnn\"].set_hyperparams({\n",
    "    \"learning_rate\": .0005,\n",
    "    \"batch_size\": 128,\n",
    "    \"num_hidden\": 2,\n",
    "    \"hidden_size\": 2048,\n",
    "    \"num_epochs\": 50,\n",
    "    \"classify_fn\": \"sigmoid\"\n",
    "})\n",
    "\n",
    "# train & test basic model\n",
    "for mt, model in models.items():\n",
    "    # attempt to load, else train and test\n",
    "    if not model.load_model():\n",
    "        model.train_model(verbose=1)\n",
    "    model.test_model()"
   ]
  },
  {
   "cell_type": "markdown",
   "metadata": {},
   "source": [
    "***\n",
    "## Hyperparameter Optimization"
   ]
  },
  {
   "cell_type": "code",
   "execution_count": 3,
   "metadata": {},
   "outputs": [
    {
     "name": "stdout",
     "output_type": "stream",
     "text": [
      "<Grid-Search>\n",
      "Testing 216 combinations WITHOUT cross-validation\n",
      "<testing> hidden_size=64, lr=0.001, bs=1024, num_hidden=2, num_epochs=25. . . "
     ]
    },
    {
     "name": "stderr",
     "output_type": "stream",
     "text": [
      "100%|██████████| 501/501 [00:03<00:00, 127.71it/s]\n",
      "100%|██████████| 501/501 [00:03<00:00, 143.99it/s]\n",
      "100%|██████████| 501/501 [00:03<00:00, 144.11it/s]\n",
      "100%|██████████| 501/501 [00:03<00:00, 148.89it/s]\n",
      "100%|██████████| 501/501 [00:03<00:00, 144.93it/s]\n",
      "100%|██████████| 501/501 [00:03<00:00, 140.23it/s]\n",
      "100%|██████████| 501/501 [00:03<00:00, 144.09it/s]\n",
      "100%|██████████| 501/501 [00:03<00:00, 158.76it/s]\n",
      "100%|██████████| 501/501 [00:03<00:00, 133.43it/s]\n",
      "100%|██████████| 501/501 [00:03<00:00, 139.62it/s]\n",
      "100%|██████████| 501/501 [00:03<00:00, 144.18it/s]\n",
      "100%|██████████| 501/501 [00:03<00:00, 149.82it/s]\n",
      "100%|██████████| 501/501 [00:03<00:00, 154.71it/s]\n",
      "100%|██████████| 501/501 [00:03<00:00, 131.02it/s]\n",
      "100%|██████████| 501/501 [00:03<00:00, 141.31it/s]\n",
      "100%|██████████| 501/501 [00:03<00:00, 148.65it/s]\n",
      "100%|██████████| 501/501 [00:03<00:00, 144.35it/s]\n",
      "100%|██████████| 501/501 [00:03<00:00, 134.49it/s]\n",
      "100%|██████████| 501/501 [00:03<00:00, 143.58it/s]\n",
      "100%|██████████| 501/501 [00:03<00:00, 139.64it/s]\n",
      "100%|██████████| 501/501 [00:03<00:00, 139.46it/s]\n",
      "100%|██████████| 501/501 [00:03<00:00, 140.05it/s]\n",
      "100%|██████████| 501/501 [00:03<00:00, 150.08it/s]\n",
      "100%|██████████| 501/501 [00:03<00:00, 143.78it/s]\n",
      "100%|██████████| 501/501 [00:03<00:00, 133.71it/s]\n"
     ]
    },
    {
     "name": "stdout",
     "output_type": "stream",
     "text": [
      "\n",
      "<Test Report>\n",
      "Precision: [no diabetes] 0.8894882087305569, [pre-diabetes] 0.021924116528181, [diabetes] 0.2316288520149001\n",
      "Recall: [no diabetes] 0.6636250906623616, [pre-diabetes] 0.23650107991360692, [diabetes] 0.2902815108218984\n",
      "F1-Score: [no diabetes] 0.7601334601830387, [pre-diabetes] 0.04012826385707741, [diabetes] 0.257659467604219\n",
      "Support: [no diabetes] 42741, [pre-diabetes] 926, [diabetes] 7069\n",
      "Accuracy: 60.3812%\n",
      "perf: 0.6038\n",
      "<testing> hidden_size=128, lr=0.001, bs=1024, num_hidden=8, num_epochs=25. . . "
     ]
    },
    {
     "name": "stderr",
     "output_type": "stream",
     "text": [
      "100%|██████████| 501/501 [00:03<00:00, 130.97it/s]\n",
      "100%|██████████| 501/501 [00:03<00:00, 132.65it/s]\n",
      "100%|██████████| 501/501 [00:03<00:00, 132.97it/s]\n",
      "100%|██████████| 501/501 [00:04<00:00, 125.05it/s]\n",
      "100%|██████████| 501/501 [00:04<00:00, 122.32it/s]\n",
      "100%|██████████| 501/501 [00:03<00:00, 133.35it/s]\n",
      "100%|██████████| 501/501 [00:03<00:00, 131.55it/s]\n",
      "100%|██████████| 501/501 [00:03<00:00, 126.94it/s]\n",
      "100%|██████████| 501/501 [00:03<00:00, 131.16it/s]\n",
      "100%|██████████| 501/501 [00:04<00:00, 116.36it/s]\n",
      "100%|██████████| 501/501 [00:04<00:00, 120.31it/s]\n",
      "100%|██████████| 501/501 [00:03<00:00, 127.50it/s]\n",
      "100%|██████████| 501/501 [00:03<00:00, 135.43it/s]\n",
      "100%|██████████| 501/501 [00:04<00:00, 117.25it/s]\n",
      "100%|██████████| 501/501 [00:04<00:00, 124.13it/s]\n",
      "100%|██████████| 501/501 [00:03<00:00, 131.23it/s]\n",
      "100%|██████████| 501/501 [00:03<00:00, 127.37it/s]\n",
      "100%|██████████| 501/501 [00:04<00:00, 119.96it/s]\n",
      "100%|██████████| 501/501 [00:03<00:00, 127.06it/s]\n",
      "100%|██████████| 501/501 [00:04<00:00, 123.41it/s]\n",
      "100%|██████████| 501/501 [00:04<00:00, 123.80it/s]\n",
      "100%|██████████| 501/501 [00:03<00:00, 135.15it/s]\n",
      "100%|██████████| 501/501 [00:04<00:00, 117.61it/s]\n",
      "100%|██████████| 501/501 [00:04<00:00, 123.97it/s]\n",
      "100%|██████████| 501/501 [00:03<00:00, 127.92it/s]\n"
     ]
    },
    {
     "name": "stdout",
     "output_type": "stream",
     "text": [
      "\n",
      "<Test Report>\n",
      "Precision: [no diabetes] 0.8630072840790843, [pre-diabetes] 0.017890191239975324, [diabetes] 0.20466092334879613\n",
      "Recall: [no diabetes] 0.7761634028216466, [pre-diabetes] 0.06263498920086392, [diabetes] 0.26213042863205543\n",
      "F1-Score: [no diabetes] 0.817284832657888, [pre-diabetes] 0.02783109404990403, [diabetes] 0.22985796687961296\n",
      "Support: [no diabetes] 42741, [pre-diabetes] 926, [diabetes] 7069\n",
      "Accuracy: 69.1521%\n",
      "perf: 0.6915\n",
      "<testing> hidden_size=256, lr=0.001, bs=1024, num_hidden=4, num_epochs=25. . . "
     ]
    },
    {
     "name": "stderr",
     "output_type": "stream",
     "text": [
      "100%|██████████| 501/501 [00:03<00:00, 128.54it/s]\n",
      "100%|██████████| 501/501 [00:03<00:00, 131.74it/s]\n",
      "100%|██████████| 501/501 [00:04<00:00, 114.07it/s]\n",
      "100%|██████████| 501/501 [00:04<00:00, 120.88it/s]\n",
      "100%|██████████| 501/501 [00:03<00:00, 128.26it/s]\n",
      "100%|██████████| 501/501 [00:04<00:00, 123.76it/s]\n",
      "100%|██████████| 501/501 [00:04<00:00, 117.39it/s]\n",
      "100%|██████████| 501/501 [00:04<00:00, 124.53it/s]\n",
      "100%|██████████| 501/501 [00:04<00:00, 120.54it/s]\n",
      "100%|██████████| 501/501 [00:04<00:00, 120.40it/s]\n",
      "100%|██████████| 501/501 [00:03<00:00, 127.62it/s]\n",
      "100%|██████████| 501/501 [00:03<00:00, 128.25it/s]\n",
      "100%|██████████| 501/501 [00:04<00:00, 124.66it/s]\n",
      "100%|██████████| 501/501 [00:04<00:00, 124.91it/s]\n",
      "100%|██████████| 501/501 [00:03<00:00, 131.33it/s]\n",
      "100%|██████████| 501/501 [00:04<00:00, 114.67it/s]\n",
      "100%|██████████| 501/501 [00:04<00:00, 120.23it/s]\n",
      "100%|██████████| 501/501 [00:04<00:00, 124.44it/s]\n",
      "100%|██████████| 501/501 [00:03<00:00, 127.67it/s]\n",
      "100%|██████████| 501/501 [00:04<00:00, 124.97it/s]\n",
      "100%|██████████| 501/501 [00:04<00:00, 117.48it/s]\n",
      "100%|██████████| 501/501 [00:03<00:00, 128.25it/s]\n",
      "100%|██████████| 501/501 [00:03<00:00, 128.41it/s]\n",
      "100%|██████████| 501/501 [00:03<00:00, 127.73it/s]\n",
      "100%|██████████| 501/501 [00:04<00:00, 117.15it/s]\n"
     ]
    },
    {
     "name": "stdout",
     "output_type": "stream",
     "text": [
      "\n",
      "<Test Report>\n",
      "Precision: [no diabetes] 0.8681869178385995, [pre-diabetes] 0.022182254196642687, [diabetes] 0.21534307792570523\n",
      "Recall: [no diabetes] 0.7785264734096067, [pre-diabetes] 0.03995680345572354, [diabetes] 0.3272032819352101\n",
      "F1-Score: [no diabetes] 0.8209157744116051, [pre-diabetes] 0.028527370855821126, [diabetes] 0.2597417181358787\n",
      "Support: [no diabetes] 42741, [pre-diabetes] 926, [diabetes] 7069\n",
      "Accuracy: 70.2164%\n",
      "perf: 0.7022\n",
      "<testing> hidden_size=512, lr=0.0005, bs=1024, num_hidden=4, num_epochs=25. . . "
     ]
    },
    {
     "name": "stderr",
     "output_type": "stream",
     "text": [
      "100%|██████████| 501/501 [00:05<00:00, 90.61it/s]\n",
      "100%|██████████| 501/501 [00:05<00:00, 92.69it/s]\n",
      "100%|██████████| 501/501 [00:05<00:00, 83.64it/s]\n",
      "100%|██████████| 501/501 [00:05<00:00, 86.97it/s]\n",
      "100%|██████████| 501/501 [00:05<00:00, 89.47it/s]\n",
      "100%|██████████| 501/501 [00:05<00:00, 90.74it/s]\n",
      "100%|██████████| 501/501 [00:05<00:00, 92.91it/s]\n",
      "100%|██████████| 501/501 [00:05<00:00, 83.91it/s]\n",
      "100%|██████████| 501/501 [00:05<00:00, 87.44it/s]\n",
      "100%|██████████| 501/501 [00:05<00:00, 90.79it/s]\n",
      "100%|██████████| 501/501 [00:05<00:00, 89.40it/s]\n",
      "100%|██████████| 501/501 [00:05<00:00, 86.24it/s]\n",
      "100%|██████████| 501/501 [00:05<00:00, 89.53it/s]\n",
      "100%|██████████| 501/501 [00:05<00:00, 87.42it/s]\n",
      "100%|██████████| 501/501 [00:05<00:00, 87.85it/s]\n",
      "100%|██████████| 501/501 [00:05<00:00, 91.83it/s]\n",
      "100%|██████████| 501/501 [00:05<00:00, 91.44it/s]\n",
      "100%|██████████| 501/501 [00:05<00:00, 89.76it/s]\n",
      "100%|██████████| 501/501 [00:05<00:00, 89.82it/s]\n",
      "100%|██████████| 501/501 [00:05<00:00, 93.16it/s]\n",
      "100%|██████████| 501/501 [00:05<00:00, 84.35it/s]\n",
      "100%|██████████| 501/501 [00:05<00:00, 88.12it/s]\n",
      "100%|██████████| 501/501 [00:05<00:00, 89.92it/s]\n",
      "100%|██████████| 501/501 [00:05<00:00, 91.66it/s]\n",
      "100%|██████████| 501/501 [00:05<00:00, 89.92it/s]\n"
     ]
    },
    {
     "name": "stdout",
     "output_type": "stream",
     "text": [
      "\n",
      "<Test Report>\n",
      "Precision: [no diabetes] 0.8703537486800422, [pre-diabetes] 0.02447058823529412, [diabetes] 0.22402385611778958\n",
      "Recall: [no diabetes] 0.7713670714302426, [pre-diabetes] 0.056155507559395246, [diabetes] 0.3400763898712689\n",
      "F1-Score: [no diabetes] 0.8178762357202218, [pre-diabetes] 0.034087184529662404, [diabetes] 0.2701123595505618\n",
      "Support: [no diabetes] 42741, [pre-diabetes] 926, [diabetes] 7069\n",
      "Accuracy: 69.8222%\n",
      "perf: 0.6982\n",
      "<testing> hidden_size=1024, lr=0.0005, bs=1024, num_hidden=2, num_epochs=25. . . "
     ]
    },
    {
     "name": "stderr",
     "output_type": "stream",
     "text": [
      "100%|██████████| 501/501 [00:07<00:00, 63.42it/s]\n",
      "100%|██████████| 501/501 [00:07<00:00, 66.01it/s]\n",
      "100%|██████████| 501/501 [00:07<00:00, 65.00it/s]\n",
      "100%|██████████| 501/501 [00:07<00:00, 66.10it/s]\n",
      "100%|██████████| 501/501 [00:07<00:00, 66.03it/s]\n",
      "100%|██████████| 501/501 [00:07<00:00, 64.03it/s]\n",
      "100%|██████████| 501/501 [00:07<00:00, 65.12it/s]\n",
      "100%|██████████| 501/501 [00:07<00:00, 63.77it/s]\n",
      "100%|██████████| 501/501 [00:07<00:00, 64.01it/s]\n",
      "100%|██████████| 501/501 [00:07<00:00, 64.03it/s]\n",
      "100%|██████████| 501/501 [00:07<00:00, 62.89it/s]\n",
      "100%|██████████| 501/501 [00:07<00:00, 64.78it/s]\n",
      "100%|██████████| 501/501 [00:07<00:00, 63.95it/s]\n",
      "100%|██████████| 501/501 [00:07<00:00, 64.87it/s]\n",
      "100%|██████████| 501/501 [00:07<00:00, 64.91it/s]\n",
      "100%|██████████| 501/501 [00:07<00:00, 65.84it/s]\n",
      "100%|██████████| 501/501 [00:07<00:00, 64.02it/s]\n",
      "100%|██████████| 501/501 [00:07<00:00, 63.90it/s]\n",
      "100%|██████████| 501/501 [00:07<00:00, 64.01it/s]\n",
      "100%|██████████| 501/501 [00:07<00:00, 64.82it/s]\n",
      "100%|██████████| 501/501 [00:07<00:00, 66.05it/s]\n",
      "100%|██████████| 501/501 [00:07<00:00, 64.21it/s]\n",
      "100%|██████████| 501/501 [00:07<00:00, 65.71it/s]\n",
      "100%|██████████| 501/501 [00:07<00:00, 63.91it/s]\n",
      "100%|██████████| 501/501 [00:07<00:00, 63.87it/s]\n"
     ]
    },
    {
     "name": "stdout",
     "output_type": "stream",
     "text": [
      "\n",
      "<Test Report>\n",
      "Precision: [no diabetes] 0.8629153322658126, [pre-diabetes] 0.025982256020278833, [diabetes] 0.21414581066376495\n",
      "Recall: [no diabetes] 0.8069301139421164, [pre-diabetes] 0.04427645788336933, [diabetes] 0.2783986419578441\n",
      "F1-Score: [no diabetes] 0.8339842096990654, [pre-diabetes] 0.03274760383386582, [diabetes] 0.24208130881358017\n",
      "Support: [no diabetes] 42741, [pre-diabetes] 926, [diabetes] 7069\n",
      "Accuracy: 71.9371%\n",
      "perf: 0.7194\n",
      "<testing> hidden_size=2048, lr=0.0005, bs=1024, num_hidden=2, num_epochs=25. . . "
     ]
    },
    {
     "name": "stderr",
     "output_type": "stream",
     "text": [
      "100%|██████████| 501/501 [00:20<00:00, 24.78it/s]\n",
      "100%|██████████| 501/501 [00:20<00:00, 24.91it/s]\n",
      "100%|██████████| 501/501 [00:20<00:00, 24.71it/s]\n",
      "100%|██████████| 501/501 [00:20<00:00, 24.78it/s]\n",
      "100%|██████████| 501/501 [00:20<00:00, 24.78it/s]\n",
      "100%|██████████| 501/501 [00:20<00:00, 24.91it/s]\n",
      "100%|██████████| 501/501 [00:20<00:00, 24.72it/s]\n",
      "100%|██████████| 501/501 [00:20<00:00, 24.73it/s]\n",
      "100%|██████████| 501/501 [00:20<00:00, 24.76it/s]\n",
      "100%|██████████| 501/501 [00:20<00:00, 24.61it/s]\n",
      "100%|██████████| 501/501 [00:20<00:00, 24.85it/s]\n",
      "100%|██████████| 501/501 [00:20<00:00, 24.75it/s]\n",
      "100%|██████████| 501/501 [00:20<00:00, 24.63it/s]\n",
      "100%|██████████| 501/501 [00:20<00:00, 24.87it/s]\n",
      "100%|██████████| 501/501 [00:20<00:00, 24.75it/s]\n",
      "100%|██████████| 501/501 [00:20<00:00, 24.63it/s]\n",
      "100%|██████████| 501/501 [00:20<00:00, 24.84it/s]\n",
      "100%|██████████| 501/501 [00:20<00:00, 24.73it/s]\n",
      "100%|██████████| 501/501 [00:20<00:00, 24.57it/s]\n",
      "100%|██████████| 501/501 [00:20<00:00, 24.87it/s]\n",
      "100%|██████████| 501/501 [00:20<00:00, 24.70it/s]\n",
      "100%|██████████| 501/501 [00:20<00:00, 24.56it/s]\n",
      "100%|██████████| 501/501 [00:20<00:00, 24.82it/s]\n",
      "100%|██████████| 501/501 [00:20<00:00, 24.66it/s]\n",
      "100%|██████████| 501/501 [00:20<00:00, 24.54it/s]\n"
     ]
    },
    {
     "name": "stdout",
     "output_type": "stream",
     "text": [
      "\n",
      "<Test Report>\n",
      "Precision: [no diabetes] 0.8566524423677497, [pre-diabetes] 0.022132796780684104, [diabetes] 0.2040520984081042\n",
      "Recall: [no diabetes] 0.8407384010668912, [pre-diabetes] 0.011879049676025918, [diabetes] 0.23935492997595134\n",
      "F1-Score: [no diabetes] 0.8486208199508786, [pre-diabetes] 0.015460295151089248, [diabetes] 0.22029815767202657\n",
      "Support: [no diabetes] 42741, [pre-diabetes] 926, [diabetes] 7069\n",
      "Accuracy: 74.1820%\n",
      "perf: 0.7418\n",
      "{\n",
      "    \"learning_rate\": 0.0005,\n",
      "    \"input_size\": 21,\n",
      "    \"output_size\": 3,\n",
      "    \"hidden_size\": 2048,\n",
      "    \"num_hidden\": 2,\n",
      "    \"num_epochs\": 25,\n",
      "    \"batch_size\": 1024,\n",
      "    \"classify_fn\": \"sigmoid\"\n",
      "}\n",
      "\n",
      "<Test Report>\n",
      "Precision: [no diabetes] 0.8566524423677497, [pre-diabetes] 0.022132796780684104, [diabetes] 0.2040520984081042\n",
      "Recall: [no diabetes] 0.8407384010668912, [pre-diabetes] 0.011879049676025918, [diabetes] 0.23935492997595134\n",
      "F1-Score: [no diabetes] 0.8486208199508786, [pre-diabetes] 0.015460295151089248, [diabetes] 0.22029815767202657\n",
      "Support: [no diabetes] 42741, [pre-diabetes] 926, [diabetes] 7069\n",
      "Accuracy: 74.1820%\n",
      "{'ffnn': None}\n"
     ]
    }
   ],
   "source": [
    "# optimize hyperparams\n",
    "optimizer_results = {model_type: model.optimize_hyperparams(kfold=2) for model_type, model in models.items()}\n",
    "print(optimizer_results)"
   ]
  },
  {
   "cell_type": "markdown",
   "metadata": {},
   "source": [
    "***\n",
    "## Fine-Tuning + Other Adjustments"
   ]
  },
  {
   "cell_type": "code",
   "execution_count": null,
   "metadata": {},
   "outputs": [],
   "source": []
  },
  {
   "cell_type": "markdown",
   "metadata": {},
   "source": [
    "***\n",
    "## Best Model Report"
   ]
  },
  {
   "cell_type": "code",
   "execution_count": null,
   "metadata": {},
   "outputs": [],
   "source": []
  },
  {
   "cell_type": "markdown",
   "metadata": {},
   "source": [
    "***\n",
    "## Interpretation"
   ]
  },
  {
   "cell_type": "markdown",
   "metadata": {},
   "source": []
  },
  {
   "cell_type": "markdown",
   "metadata": {},
   "source": [
    "***\n",
    "## Conclusion"
   ]
  }
 ],
 "metadata": {
  "kernelspec": {
   "display_name": "base",
   "language": "python",
   "name": "python3"
  },
  "language_info": {
   "codemirror_mode": {
    "name": "ipython",
    "version": 3
   },
   "file_extension": ".py",
   "mimetype": "text/x-python",
   "name": "python",
   "nbconvert_exporter": "python",
   "pygments_lexer": "ipython3",
   "version": "3.11.5"
  }
 },
 "nbformat": 4,
 "nbformat_minor": 2
}
