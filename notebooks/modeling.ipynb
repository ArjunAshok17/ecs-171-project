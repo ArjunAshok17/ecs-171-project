{
 "cells": [
  {
   "cell_type": "markdown",
   "metadata": {},
   "source": [
    "# Modeling\n",
    "In this notebook, we'll be modeling the data we've previously prepared. Out notebook will be laid out as follows:\n",
    "\n",
    "1. Model Selection & Generation\n",
    "2. Hyperparameter Optimization\n",
    "3. Fine-Tuning (if needed)\n",
    "4. Reporting Best Model(s) + Settings\n",
    "5. Interpretation\n",
    "6. Conclusion\n",
    "\n",
    "Our eventual goal here is two-fold:\n",
    "\n",
    "1. Accurately [and fairly] model the diabetes dataset\n",
    "2. Interpret the results to find something worth recommending to those wanting to reduce risk of diabetes. This can be via LIME/SHAP (i.e. some interpretable model that approximates the neural network) or via analyzing a more simple model's structure (i.e. regression coefficients, random forest decision boundaries)"
   ]
  },
  {
   "cell_type": "code",
   "execution_count": 1,
   "metadata": {},
   "outputs": [],
   "source": [
    "# Environment Setup\n",
    "from utils.model import *\n",
    "from utils.dataset import *"
   ]
  },
  {
   "cell_type": "markdown",
   "metadata": {},
   "source": [
    "***\n",
    "## Model Selection & Generation"
   ]
  },
  {
   "cell_type": "code",
   "execution_count": 2,
   "metadata": {},
   "outputs": [
    {
     "name": "stdout",
     "output_type": "stream",
     "text": [
      "<Train-Test Split Report>\n",
      "Train: 512886 obs, 170962 no diabetes [0], 170962 pre-diabetes [1], 170962 diabetes [2]\n",
      "Test: 50736 obs, 42741 no diabetes [0], 926 pre-diabetes [1], 7069 diabetes [2]\n"
     ]
    },
    {
     "name": "stderr",
     "output_type": "stream",
     "text": [
      "100%|██████████| 1002/1002 [00:08<00:00, 113.60it/s]\n"
     ]
    },
    {
     "name": "stdout",
     "output_type": "stream",
     "text": [
      "Epoch 1/50, Loss: 0.9569, Test Loss: 0.8376\n"
     ]
    },
    {
     "name": "stderr",
     "output_type": "stream",
     "text": [
      "100%|██████████| 1002/1002 [00:08<00:00, 117.04it/s]\n"
     ]
    },
    {
     "name": "stdout",
     "output_type": "stream",
     "text": [
      "Epoch 2/50, Loss: 0.9344, Test Loss: 0.9089\n"
     ]
    },
    {
     "name": "stderr",
     "output_type": "stream",
     "text": [
      "100%|██████████| 1002/1002 [00:08<00:00, 114.88it/s]\n"
     ]
    },
    {
     "name": "stdout",
     "output_type": "stream",
     "text": [
      "Epoch 3/50, Loss: 0.8971, Test Loss: 0.8302\n"
     ]
    },
    {
     "name": "stderr",
     "output_type": "stream",
     "text": [
      "100%|██████████| 1002/1002 [00:08<00:00, 116.76it/s]\n"
     ]
    },
    {
     "name": "stdout",
     "output_type": "stream",
     "text": [
      "Epoch 4/50, Loss: 0.8409, Test Loss: 0.7854\n"
     ]
    },
    {
     "name": "stderr",
     "output_type": "stream",
     "text": [
      "100%|██████████| 1002/1002 [00:08<00:00, 116.91it/s]\n"
     ]
    },
    {
     "name": "stdout",
     "output_type": "stream",
     "text": [
      "Epoch 5/50, Loss: 0.7777, Test Loss: 0.7433\n"
     ]
    },
    {
     "name": "stderr",
     "output_type": "stream",
     "text": [
      "100%|██████████| 1002/1002 [00:08<00:00, 115.21it/s]\n"
     ]
    },
    {
     "name": "stdout",
     "output_type": "stream",
     "text": [
      "Epoch 6/50, Loss: 0.7193, Test Loss: 0.7300\n"
     ]
    },
    {
     "name": "stderr",
     "output_type": "stream",
     "text": [
      "100%|██████████| 1002/1002 [00:08<00:00, 116.67it/s]\n"
     ]
    },
    {
     "name": "stdout",
     "output_type": "stream",
     "text": [
      "Epoch 7/50, Loss: 0.6726, Test Loss: 0.7389\n"
     ]
    },
    {
     "name": "stderr",
     "output_type": "stream",
     "text": [
      "100%|██████████| 1002/1002 [00:08<00:00, 115.38it/s]\n"
     ]
    },
    {
     "name": "stdout",
     "output_type": "stream",
     "text": [
      "Epoch 8/50, Loss: 0.6347, Test Loss: 0.7353\n"
     ]
    },
    {
     "name": "stderr",
     "output_type": "stream",
     "text": [
      "100%|██████████| 1002/1002 [00:08<00:00, 116.40it/s]\n"
     ]
    },
    {
     "name": "stdout",
     "output_type": "stream",
     "text": [
      "Epoch 9/50, Loss: 0.6039, Test Loss: 0.7199\n"
     ]
    },
    {
     "name": "stderr",
     "output_type": "stream",
     "text": [
      "100%|██████████| 1002/1002 [00:08<00:00, 116.46it/s]\n"
     ]
    },
    {
     "name": "stdout",
     "output_type": "stream",
     "text": [
      "Epoch 10/50, Loss: 0.5801, Test Loss: 0.7180\n"
     ]
    },
    {
     "name": "stderr",
     "output_type": "stream",
     "text": [
      "100%|██████████| 1002/1002 [00:08<00:00, 115.16it/s]\n"
     ]
    },
    {
     "name": "stdout",
     "output_type": "stream",
     "text": [
      "Epoch 11/50, Loss: 0.5631, Test Loss: 0.7406\n"
     ]
    },
    {
     "name": "stderr",
     "output_type": "stream",
     "text": [
      "100%|██████████| 1002/1002 [00:08<00:00, 116.38it/s]\n"
     ]
    },
    {
     "name": "stdout",
     "output_type": "stream",
     "text": [
      "Epoch 12/50, Loss: 0.5469, Test Loss: 0.7457\n"
     ]
    },
    {
     "name": "stderr",
     "output_type": "stream",
     "text": [
      "100%|██████████| 1002/1002 [00:08<00:00, 115.16it/s]\n"
     ]
    },
    {
     "name": "stdout",
     "output_type": "stream",
     "text": [
      "Epoch 13/50, Loss: 0.5329, Test Loss: 0.7328\n"
     ]
    },
    {
     "name": "stderr",
     "output_type": "stream",
     "text": [
      "100%|██████████| 1002/1002 [00:08<00:00, 116.51it/s]\n"
     ]
    },
    {
     "name": "stdout",
     "output_type": "stream",
     "text": [
      "Epoch 14/50, Loss: 0.5216, Test Loss: 0.7297\n"
     ]
    },
    {
     "name": "stderr",
     "output_type": "stream",
     "text": [
      "100%|██████████| 1002/1002 [00:08<00:00, 116.39it/s]\n"
     ]
    },
    {
     "name": "stdout",
     "output_type": "stream",
     "text": [
      "Epoch 15/50, Loss: 0.5137, Test Loss: 0.7674\n"
     ]
    },
    {
     "name": "stderr",
     "output_type": "stream",
     "text": [
      "100%|██████████| 1002/1002 [00:08<00:00, 115.12it/s]\n"
     ]
    },
    {
     "name": "stdout",
     "output_type": "stream",
     "text": [
      "Epoch 16/50, Loss: 0.5047, Test Loss: 0.7326\n"
     ]
    },
    {
     "name": "stderr",
     "output_type": "stream",
     "text": [
      "100%|██████████| 1002/1002 [00:08<00:00, 116.67it/s]\n"
     ]
    },
    {
     "name": "stdout",
     "output_type": "stream",
     "text": [
      "Epoch 17/50, Loss: 0.4969, Test Loss: 0.7460\n"
     ]
    },
    {
     "name": "stderr",
     "output_type": "stream",
     "text": [
      "100%|██████████| 1002/1002 [00:08<00:00, 114.87it/s]\n"
     ]
    },
    {
     "name": "stdout",
     "output_type": "stream",
     "text": [
      "Epoch 18/50, Loss: 0.4896, Test Loss: 0.7447\n"
     ]
    },
    {
     "name": "stderr",
     "output_type": "stream",
     "text": [
      "100%|██████████| 1002/1002 [00:08<00:00, 116.60it/s]\n"
     ]
    },
    {
     "name": "stdout",
     "output_type": "stream",
     "text": [
      "Epoch 19/50, Loss: 0.4843, Test Loss: 0.7066\n"
     ]
    },
    {
     "name": "stderr",
     "output_type": "stream",
     "text": [
      "100%|██████████| 1002/1002 [00:08<00:00, 115.09it/s]\n"
     ]
    },
    {
     "name": "stdout",
     "output_type": "stream",
     "text": [
      "Epoch 20/50, Loss: 0.4779, Test Loss: 0.7172\n"
     ]
    },
    {
     "name": "stderr",
     "output_type": "stream",
     "text": [
      "100%|██████████| 1002/1002 [00:08<00:00, 116.51it/s]\n"
     ]
    },
    {
     "name": "stdout",
     "output_type": "stream",
     "text": [
      "Epoch 21/50, Loss: 0.4746, Test Loss: 0.7333\n"
     ]
    },
    {
     "name": "stderr",
     "output_type": "stream",
     "text": [
      "100%|██████████| 1002/1002 [00:08<00:00, 116.38it/s]\n"
     ]
    },
    {
     "name": "stdout",
     "output_type": "stream",
     "text": [
      "Epoch 22/50, Loss: 0.4682, Test Loss: 0.7006\n"
     ]
    },
    {
     "name": "stderr",
     "output_type": "stream",
     "text": [
      "100%|██████████| 1002/1002 [00:08<00:00, 115.36it/s]\n"
     ]
    },
    {
     "name": "stdout",
     "output_type": "stream",
     "text": [
      "Epoch 23/50, Loss: 0.4625, Test Loss: 0.7214\n"
     ]
    },
    {
     "name": "stderr",
     "output_type": "stream",
     "text": [
      "100%|██████████| 1002/1002 [00:08<00:00, 116.78it/s]\n"
     ]
    },
    {
     "name": "stdout",
     "output_type": "stream",
     "text": [
      "Epoch 24/50, Loss: 0.4595, Test Loss: 0.7352\n"
     ]
    },
    {
     "name": "stderr",
     "output_type": "stream",
     "text": [
      "100%|██████████| 1002/1002 [00:08<00:00, 115.42it/s]\n"
     ]
    },
    {
     "name": "stdout",
     "output_type": "stream",
     "text": [
      "Epoch 25/50, Loss: 0.4559, Test Loss: 0.7132\n"
     ]
    },
    {
     "name": "stderr",
     "output_type": "stream",
     "text": [
      "100%|██████████| 1002/1002 [00:08<00:00, 116.72it/s]\n"
     ]
    },
    {
     "name": "stdout",
     "output_type": "stream",
     "text": [
      "Epoch 26/50, Loss: 0.4514, Test Loss: 0.7204\n"
     ]
    },
    {
     "name": "stderr",
     "output_type": "stream",
     "text": [
      "100%|██████████| 1002/1002 [00:08<00:00, 116.63it/s]\n"
     ]
    },
    {
     "name": "stdout",
     "output_type": "stream",
     "text": [
      "Epoch 27/50, Loss: 0.4482, Test Loss: 0.7372\n"
     ]
    },
    {
     "name": "stderr",
     "output_type": "stream",
     "text": [
      "100%|██████████| 1002/1002 [00:08<00:00, 115.30it/s]\n"
     ]
    },
    {
     "name": "stdout",
     "output_type": "stream",
     "text": [
      "Epoch 28/50, Loss: 0.4448, Test Loss: 0.7206\n"
     ]
    },
    {
     "name": "stderr",
     "output_type": "stream",
     "text": [
      "100%|██████████| 1002/1002 [00:08<00:00, 116.42it/s]\n"
     ]
    },
    {
     "name": "stdout",
     "output_type": "stream",
     "text": [
      "Epoch 29/50, Loss: 0.4439, Test Loss: 0.7195\n"
     ]
    },
    {
     "name": "stderr",
     "output_type": "stream",
     "text": [
      "100%|██████████| 1002/1002 [00:08<00:00, 115.00it/s]\n"
     ]
    },
    {
     "name": "stdout",
     "output_type": "stream",
     "text": [
      "Epoch 30/50, Loss: 0.4407, Test Loss: 0.6933\n"
     ]
    },
    {
     "name": "stderr",
     "output_type": "stream",
     "text": [
      "100%|██████████| 1002/1002 [00:08<00:00, 116.57it/s]\n"
     ]
    },
    {
     "name": "stdout",
     "output_type": "stream",
     "text": [
      "Epoch 31/50, Loss: 0.4349, Test Loss: 0.6985\n"
     ]
    },
    {
     "name": "stderr",
     "output_type": "stream",
     "text": [
      "100%|██████████| 1002/1002 [00:08<00:00, 115.07it/s]\n"
     ]
    },
    {
     "name": "stdout",
     "output_type": "stream",
     "text": [
      "Epoch 32/50, Loss: 0.4329, Test Loss: 0.7256\n"
     ]
    },
    {
     "name": "stderr",
     "output_type": "stream",
     "text": [
      "100%|██████████| 1002/1002 [00:08<00:00, 116.37it/s]\n"
     ]
    },
    {
     "name": "stdout",
     "output_type": "stream",
     "text": [
      "Epoch 33/50, Loss: 0.4311, Test Loss: 0.7106\n"
     ]
    },
    {
     "name": "stderr",
     "output_type": "stream",
     "text": [
      "100%|██████████| 1002/1002 [00:08<00:00, 116.88it/s]\n"
     ]
    },
    {
     "name": "stdout",
     "output_type": "stream",
     "text": [
      "Epoch 34/50, Loss: 0.4311, Test Loss: 0.6999\n"
     ]
    },
    {
     "name": "stderr",
     "output_type": "stream",
     "text": [
      "100%|██████████| 1002/1002 [00:08<00:00, 115.36it/s]\n"
     ]
    },
    {
     "name": "stdout",
     "output_type": "stream",
     "text": [
      "Epoch 35/50, Loss: 0.4269, Test Loss: 0.6892\n"
     ]
    },
    {
     "name": "stderr",
     "output_type": "stream",
     "text": [
      "100%|██████████| 1002/1002 [00:08<00:00, 116.54it/s]\n"
     ]
    },
    {
     "name": "stdout",
     "output_type": "stream",
     "text": [
      "Epoch 36/50, Loss: 0.4237, Test Loss: 0.7059\n"
     ]
    },
    {
     "name": "stderr",
     "output_type": "stream",
     "text": [
      "100%|██████████| 1002/1002 [00:08<00:00, 114.91it/s]\n"
     ]
    },
    {
     "name": "stdout",
     "output_type": "stream",
     "text": [
      "Epoch 37/50, Loss: 0.4209, Test Loss: 0.7068\n"
     ]
    },
    {
     "name": "stderr",
     "output_type": "stream",
     "text": [
      "100%|██████████| 1002/1002 [00:08<00:00, 116.58it/s]\n"
     ]
    },
    {
     "name": "stdout",
     "output_type": "stream",
     "text": [
      "Epoch 38/50, Loss: 0.4205, Test Loss: 0.7031\n"
     ]
    },
    {
     "name": "stderr",
     "output_type": "stream",
     "text": [
      "100%|██████████| 1002/1002 [00:08<00:00, 116.52it/s]\n"
     ]
    },
    {
     "name": "stdout",
     "output_type": "stream",
     "text": [
      "Epoch 39/50, Loss: 0.4181, Test Loss: 0.7063\n"
     ]
    },
    {
     "name": "stderr",
     "output_type": "stream",
     "text": [
      "100%|██████████| 1002/1002 [00:08<00:00, 115.27it/s]\n"
     ]
    },
    {
     "name": "stdout",
     "output_type": "stream",
     "text": [
      "Epoch 40/50, Loss: 0.4152, Test Loss: 0.7132\n"
     ]
    },
    {
     "name": "stderr",
     "output_type": "stream",
     "text": [
      "100%|██████████| 1002/1002 [00:08<00:00, 116.66it/s]\n"
     ]
    },
    {
     "name": "stdout",
     "output_type": "stream",
     "text": [
      "Epoch 41/50, Loss: 0.4141, Test Loss: 0.7065\n"
     ]
    },
    {
     "name": "stderr",
     "output_type": "stream",
     "text": [
      "100%|██████████| 1002/1002 [00:08<00:00, 115.31it/s]\n"
     ]
    },
    {
     "name": "stdout",
     "output_type": "stream",
     "text": [
      "Epoch 42/50, Loss: 0.4106, Test Loss: 0.7116\n"
     ]
    },
    {
     "name": "stderr",
     "output_type": "stream",
     "text": [
      "100%|██████████| 1002/1002 [00:08<00:00, 116.75it/s]\n"
     ]
    },
    {
     "name": "stdout",
     "output_type": "stream",
     "text": [
      "Epoch 43/50, Loss: 0.4099, Test Loss: 0.7114\n"
     ]
    },
    {
     "name": "stderr",
     "output_type": "stream",
     "text": [
      "100%|██████████| 1002/1002 [00:08<00:00, 115.44it/s]\n"
     ]
    },
    {
     "name": "stdout",
     "output_type": "stream",
     "text": [
      "Epoch 44/50, Loss: 0.4083, Test Loss: 0.7129\n"
     ]
    },
    {
     "name": "stderr",
     "output_type": "stream",
     "text": [
      "100%|██████████| 1002/1002 [00:08<00:00, 116.64it/s]\n"
     ]
    },
    {
     "name": "stdout",
     "output_type": "stream",
     "text": [
      "Epoch 45/50, Loss: 0.4065, Test Loss: 0.7084\n"
     ]
    },
    {
     "name": "stderr",
     "output_type": "stream",
     "text": [
      "100%|██████████| 1002/1002 [00:08<00:00, 116.78it/s]\n"
     ]
    },
    {
     "name": "stdout",
     "output_type": "stream",
     "text": [
      "Epoch 46/50, Loss: 0.4051, Test Loss: 0.6916\n"
     ]
    },
    {
     "name": "stderr",
     "output_type": "stream",
     "text": [
      "100%|██████████| 1002/1002 [00:08<00:00, 115.39it/s]\n"
     ]
    },
    {
     "name": "stdout",
     "output_type": "stream",
     "text": [
      "Epoch 47/50, Loss: 0.4026, Test Loss: 0.6895\n"
     ]
    },
    {
     "name": "stderr",
     "output_type": "stream",
     "text": [
      "100%|██████████| 1002/1002 [00:08<00:00, 116.79it/s]\n"
     ]
    },
    {
     "name": "stdout",
     "output_type": "stream",
     "text": [
      "Epoch 48/50, Loss: 0.4023, Test Loss: 0.6926\n"
     ]
    },
    {
     "name": "stderr",
     "output_type": "stream",
     "text": [
      "100%|██████████| 1002/1002 [00:08<00:00, 115.61it/s]\n"
     ]
    },
    {
     "name": "stdout",
     "output_type": "stream",
     "text": [
      "Epoch 49/50, Loss: 0.4026, Test Loss: 0.7124\n"
     ]
    },
    {
     "name": "stderr",
     "output_type": "stream",
     "text": [
      "100%|██████████| 1002/1002 [00:08<00:00, 116.83it/s]\n"
     ]
    },
    {
     "name": "stdout",
     "output_type": "stream",
     "text": [
      "Epoch 50/50, Loss: 0.4016, Test Loss: 0.7006\n",
      "\n",
      "<Test Report>\n",
      "Precision: [no diabetes] 0.8904410297345839, [pre-diabetes] 0.028720626631853787, [diabetes] 0.23749138525155067\n",
      "Recall: [no diabetes] 0.7307737301420182, [pre-diabetes] 0.035637149028077755, [diabetes] 0.48748054887537134\n",
      "F1-Score: [no diabetes] 0.8027448662263229, [pre-diabetes] 0.03180722891566265, [diabetes] 0.3193845868668613\n",
      "Support: [no diabetes] 42741, [pre-diabetes] 926, [diabetes] 7069\n",
      "Accuracy: 68.4189%\n"
     ]
    }
   ],
   "source": [
    "# generate lookup for models\n",
    "models = {\n",
    "    # \"tree\": TreeClassifier(target=\"diabetes\", path=\"../datasets/pre_split_processed.parquet\"),\n",
    "    \"ffnn\": MLPClassifier(target=\"diabetes\", path=\"../datasets/pre_split_processed.parquet\")\n",
    "}\n",
    "\n",
    "# manual search\n",
    "models[\"ffnn\"].set_hyperparams({\n",
    "    \"learning_rate\": .0005,\n",
    "    \"batch_size\": 512,\n",
    "    \"num_hidden\": 8,\n",
    "    \"hidden_size\": 512,\n",
    "    \"num_epochs\": 50,\n",
    "    \"dropout_rate\": 0.5,\n",
    "    \"classify_fn\": \"sigmoid\"\n",
    "})\n",
    "\n",
    "# train & test basic model\n",
    "for mt, model in models.items():\n",
    "    # attempt to load, else train and test\n",
    "    # if not model.load_model():\n",
    "    model.train_model(verbose=1)\n",
    "    model.test_model()"
   ]
  },
  {
   "cell_type": "markdown",
   "metadata": {},
   "source": [
    "***\n",
    "## Hyperparameter Optimization"
   ]
  },
  {
   "cell_type": "code",
   "execution_count": 3,
   "metadata": {},
   "outputs": [
    {
     "name": "stdout",
     "output_type": "stream",
     "text": [
      "<Grid-Search>\n",
      "Testing 216 combinations WITHOUT cross-validation\n",
      "<testing> hidden_size=64, lr=0.001, bs=128, num_hidden=16, num_epochs=25. . . "
     ]
    },
    {
     "name": "stderr",
     "output_type": "stream",
     "text": [
      "100%|██████████| 4007/4007 [00:14<00:00, 285.10it/s]\n",
      "100%|██████████| 4007/4007 [00:14<00:00, 284.77it/s]\n",
      "100%|██████████| 4007/4007 [00:14<00:00, 282.25it/s]\n",
      "100%|██████████| 4007/4007 [00:14<00:00, 281.27it/s]\n",
      "100%|██████████| 4007/4007 [00:13<00:00, 286.76it/s]\n",
      "100%|██████████| 4007/4007 [00:13<00:00, 292.77it/s]\n",
      "100%|██████████| 4007/4007 [00:13<00:00, 297.60it/s]\n",
      "100%|██████████| 4007/4007 [00:13<00:00, 297.93it/s]\n",
      "100%|██████████| 4007/4007 [00:14<00:00, 284.84it/s]\n",
      "100%|██████████| 4007/4007 [00:13<00:00, 290.15it/s]\n",
      "100%|██████████| 4007/4007 [00:13<00:00, 291.36it/s]\n",
      "100%|██████████| 4007/4007 [00:14<00:00, 285.70it/s]\n",
      "100%|██████████| 4007/4007 [00:14<00:00, 285.23it/s]\n",
      "100%|██████████| 4007/4007 [00:13<00:00, 297.06it/s]\n",
      "100%|██████████| 4007/4007 [00:13<00:00, 287.04it/s]\n",
      "100%|██████████| 4007/4007 [00:13<00:00, 293.37it/s]\n",
      "100%|██████████| 4007/4007 [00:13<00:00, 292.94it/s]\n",
      "100%|██████████| 4007/4007 [00:13<00:00, 288.92it/s]\n",
      "100%|██████████| 4007/4007 [00:13<00:00, 304.81it/s]\n",
      "100%|██████████| 4007/4007 [00:13<00:00, 292.71it/s]\n",
      "100%|██████████| 4007/4007 [00:13<00:00, 289.02it/s]\n",
      "100%|██████████| 4007/4007 [00:13<00:00, 293.31it/s]\n",
      "100%|██████████| 4007/4007 [00:13<00:00, 292.10it/s]\n",
      "100%|██████████| 4007/4007 [00:13<00:00, 286.54it/s]\n",
      "100%|██████████| 4007/4007 [00:13<00:00, 292.66it/s]\n"
     ]
    },
    {
     "name": "stdout",
     "output_type": "stream",
     "text": [
      "\n",
      "<Test Report>\n",
      "Precision: [no diabetes] 0.8882522397036943, [pre-diabetes] 0.02496826068556919, [diabetes] 0.22292254105158402\n",
      "Recall: [no diabetes] 0.6564890854214922, [pre-diabetes] 0.19114470842332612, [diabetes] 0.3802518036497383\n",
      "F1-Score: [no diabetes] 0.7549845284541907, [pre-diabetes] 0.04416718652526513, [diabetes] 0.28106864641606105\n",
      "Support: [no diabetes] 42741, [pre-diabetes] 926, [diabetes] 7069\n",
      "Accuracy: 60.9508%\n",
      "perf: 0.6095\n",
      "<testing> hidden_size=64, lr=0.001, bs=256, num_hidden=16, num_epochs=25. . . "
     ]
    },
    {
     "name": "stderr",
     "output_type": "stream",
     "text": [
      "100%|██████████| 2004/2004 [00:08<00:00, 244.90it/s]\n",
      "100%|██████████| 2004/2004 [00:08<00:00, 244.88it/s]\n",
      "100%|██████████| 2004/2004 [00:08<00:00, 248.01it/s]\n",
      "100%|██████████| 2004/2004 [00:08<00:00, 243.53it/s]\n",
      "100%|██████████| 2004/2004 [00:08<00:00, 244.31it/s]\n",
      "100%|██████████| 2004/2004 [00:08<00:00, 248.48it/s]\n",
      "100%|██████████| 2004/2004 [00:08<00:00, 244.16it/s]\n",
      "100%|██████████| 2004/2004 [00:08<00:00, 244.79it/s]\n",
      "100%|██████████| 2004/2004 [00:08<00:00, 244.43it/s]\n",
      "100%|██████████| 2004/2004 [00:08<00:00, 248.25it/s]\n",
      "100%|██████████| 2004/2004 [00:08<00:00, 246.50it/s]\n",
      "100%|██████████| 2004/2004 [00:07<00:00, 253.51it/s]\n",
      "100%|██████████| 2004/2004 [00:08<00:00, 249.84it/s]\n",
      "100%|██████████| 2004/2004 [00:08<00:00, 245.42it/s]\n",
      "100%|██████████| 2004/2004 [00:08<00:00, 244.82it/s]\n",
      "100%|██████████| 2004/2004 [00:08<00:00, 248.51it/s]\n",
      "100%|██████████| 2004/2004 [00:08<00:00, 245.33it/s]\n",
      "100%|██████████| 2004/2004 [00:08<00:00, 245.57it/s]\n",
      "100%|██████████| 2004/2004 [00:08<00:00, 245.24it/s]\n",
      "100%|██████████| 2004/2004 [00:08<00:00, 249.16it/s]\n",
      "100%|██████████| 2004/2004 [00:08<00:00, 245.76it/s]\n",
      "100%|██████████| 2004/2004 [00:08<00:00, 245.92it/s]\n",
      "100%|██████████| 2004/2004 [00:08<00:00, 249.49it/s]\n",
      "100%|██████████| 2004/2004 [00:08<00:00, 245.88it/s]\n",
      "100%|██████████| 2004/2004 [00:08<00:00, 246.12it/s]\n"
     ]
    },
    {
     "name": "stdout",
     "output_type": "stream",
     "text": [
      "\n",
      "<Test Report>\n",
      "Precision: [no diabetes] 0.8864771221848569, [pre-diabetes] 0.02254923493667179, [diabetes] 0.236318407960199\n",
      "Recall: [no diabetes] 0.6105846844949814, [pre-diabetes] 0.3326133909287257, [diabetes] 0.25534021785259586\n",
      "F1-Score: [no diabetes] 0.7231088944305902, [pre-diabetes] 0.04223517312307165, [diabetes] 0.24546134493778474\n",
      "Support: [no diabetes] 42741, [pre-diabetes] 926, [diabetes] 7069\n",
      "Accuracy: 55.6015%\n",
      "perf: 0.5560\n",
      "<testing> hidden_size=128, lr=0.001, bs=128, num_hidden=8, num_epochs=25. . . "
     ]
    },
    {
     "name": "stderr",
     "output_type": "stream",
     "text": [
      "100%|██████████| 4007/4007 [00:09<00:00, 410.11it/s]\n",
      "100%|██████████| 4007/4007 [00:09<00:00, 408.44it/s]\n",
      "100%|██████████| 4007/4007 [00:09<00:00, 408.34it/s]\n",
      "100%|██████████| 4007/4007 [00:09<00:00, 408.93it/s]\n",
      "100%|██████████| 4007/4007 [00:09<00:00, 408.42it/s]\n",
      "100%|██████████| 4007/4007 [00:09<00:00, 406.63it/s]\n",
      "100%|██████████| 4007/4007 [00:09<00:00, 409.68it/s]\n",
      "100%|██████████| 4007/4007 [00:09<00:00, 412.98it/s]\n",
      "100%|██████████| 4007/4007 [00:09<00:00, 412.92it/s]\n",
      "100%|██████████| 4007/4007 [00:09<00:00, 414.84it/s]\n",
      "100%|██████████| 4007/4007 [00:09<00:00, 413.47it/s]\n",
      "100%|██████████| 4007/4007 [00:09<00:00, 413.16it/s]\n",
      "100%|██████████| 4007/4007 [00:09<00:00, 411.99it/s]\n",
      "100%|██████████| 4007/4007 [00:09<00:00, 421.53it/s]\n",
      "100%|██████████| 4007/4007 [00:09<00:00, 438.38it/s]\n",
      "100%|██████████| 4007/4007 [00:09<00:00, 426.85it/s]\n",
      "100%|██████████| 4007/4007 [00:09<00:00, 419.28it/s]\n",
      "100%|██████████| 4007/4007 [00:09<00:00, 413.06it/s]\n",
      "100%|██████████| 4007/4007 [00:09<00:00, 412.37it/s]\n",
      "100%|██████████| 4007/4007 [00:09<00:00, 411.24it/s]\n",
      "100%|██████████| 4007/4007 [00:09<00:00, 411.79it/s]\n",
      "100%|██████████| 4007/4007 [00:09<00:00, 414.80it/s]\n",
      "100%|██████████| 4007/4007 [00:09<00:00, 414.64it/s]\n",
      "100%|██████████| 4007/4007 [00:09<00:00, 413.60it/s]\n",
      "100%|██████████| 4007/4007 [00:09<00:00, 414.49it/s]\n"
     ]
    },
    {
     "name": "stdout",
     "output_type": "stream",
     "text": [
      "\n",
      "<Test Report>\n",
      "Precision: [no diabetes] 0.8641856665785743, [pre-diabetes] 0.02206194314806958, [diabetes] 0.25103611604499704\n",
      "Recall: [no diabetes] 0.8415806836526988, [pre-diabetes] 0.056155507559395246, [diabetes] 0.23992078087423963\n",
      "F1-Score: [no diabetes] 0.8527333933905458, [pre-diabetes] 0.031678342978982636, [diabetes] 0.2453526220614828\n",
      "Support: [no diabetes] 42741, [pre-diabetes] 926, [diabetes] 7069\n",
      "Accuracy: 74.3417%\n",
      "perf: 0.7434\n",
      "<testing> hidden_size=128, lr=0.001, bs=256, num_hidden=8, num_epochs=25. . . "
     ]
    },
    {
     "name": "stderr",
     "output_type": "stream",
     "text": [
      "100%|██████████| 2004/2004 [00:06<00:00, 316.17it/s]\n",
      "100%|██████████| 2004/2004 [00:06<00:00, 321.66it/s]\n",
      "100%|██████████| 2004/2004 [00:06<00:00, 315.30it/s]\n",
      "100%|██████████| 2004/2004 [00:06<00:00, 316.41it/s]\n",
      "100%|██████████| 2004/2004 [00:06<00:00, 322.05it/s]\n",
      "100%|██████████| 2004/2004 [00:06<00:00, 316.20it/s]\n",
      "100%|██████████| 2004/2004 [00:06<00:00, 315.11it/s]\n",
      "100%|██████████| 2004/2004 [00:06<00:00, 320.31it/s]\n",
      "100%|██████████| 2004/2004 [00:06<00:00, 315.03it/s]\n",
      "100%|██████████| 2004/2004 [00:06<00:00, 313.14it/s]\n",
      "100%|██████████| 2004/2004 [00:06<00:00, 321.64it/s]\n",
      "100%|██████████| 2004/2004 [00:06<00:00, 315.25it/s]\n",
      "100%|██████████| 2004/2004 [00:06<00:00, 316.21it/s]\n",
      "100%|██████████| 2004/2004 [00:06<00:00, 316.57it/s]\n",
      "100%|██████████| 2004/2004 [00:06<00:00, 321.32it/s]\n",
      "100%|██████████| 2004/2004 [00:06<00:00, 317.31it/s]\n",
      "100%|██████████| 2004/2004 [00:06<00:00, 315.18it/s]\n",
      "100%|██████████| 2004/2004 [00:06<00:00, 321.49it/s]\n",
      "100%|██████████| 2004/2004 [00:06<00:00, 314.37it/s]\n",
      "100%|██████████| 2004/2004 [00:06<00:00, 313.10it/s]\n",
      "100%|██████████| 2004/2004 [00:06<00:00, 321.39it/s]\n",
      "100%|██████████| 2004/2004 [00:06<00:00, 315.98it/s]\n",
      "100%|██████████| 2004/2004 [00:06<00:00, 315.89it/s]\n",
      "100%|██████████| 2004/2004 [00:06<00:00, 320.37it/s]\n",
      "100%|██████████| 2004/2004 [00:06<00:00, 314.08it/s]\n"
     ]
    },
    {
     "name": "stdout",
     "output_type": "stream",
     "text": [
      "\n",
      "<Test Report>\n",
      "Precision: [no diabetes] 0.8628169086735615, [pre-diabetes] 0.016055045871559634, [diabetes] 0.2186797903070504\n",
      "Recall: [no diabetes] 0.7827144896001498, [pre-diabetes] 0.04535637149028078, [diabetes] 0.28914980902532184\n",
      "F1-Score: [no diabetes] 0.820816056137596, [pre-diabetes] 0.023715415019762844, [diabetes] 0.2490253411306043\n",
      "Support: [no diabetes] 42741, [pre-diabetes] 926, [diabetes] 7069\n",
      "Accuracy: 70.0489%\n",
      "perf: 0.7005\n",
      "<testing> hidden_size=256, lr=0.001, bs=128, num_hidden=4, num_epochs=25. . . "
     ]
    },
    {
     "name": "stderr",
     "output_type": "stream",
     "text": [
      "100%|██████████| 4007/4007 [00:08<00:00, 475.03it/s]\n",
      "100%|██████████| 4007/4007 [00:08<00:00, 476.50it/s]\n",
      "100%|██████████| 4007/4007 [00:08<00:00, 475.97it/s]\n",
      "100%|██████████| 4007/4007 [00:08<00:00, 478.79it/s]\n",
      "100%|██████████| 4007/4007 [00:08<00:00, 478.21it/s]\n",
      "100%|██████████| 4007/4007 [00:08<00:00, 473.32it/s]\n",
      "100%|██████████| 4007/4007 [00:08<00:00, 470.94it/s]\n",
      "100%|██████████| 4007/4007 [00:08<00:00, 471.26it/s]\n",
      "100%|██████████| 4007/4007 [00:08<00:00, 477.79it/s]\n",
      "100%|██████████| 4007/4007 [00:08<00:00, 475.23it/s]\n",
      "100%|██████████| 4007/4007 [00:08<00:00, 475.62it/s]\n",
      "100%|██████████| 4007/4007 [00:08<00:00, 453.24it/s]\n",
      "100%|██████████| 4007/4007 [00:09<00:00, 444.28it/s]\n",
      "100%|██████████| 4007/4007 [00:08<00:00, 451.66it/s]\n",
      "100%|██████████| 4007/4007 [00:08<00:00, 459.90it/s]\n",
      "100%|██████████| 4007/4007 [00:08<00:00, 452.03it/s]\n",
      "100%|██████████| 4007/4007 [00:09<00:00, 433.55it/s]\n",
      "100%|██████████| 4007/4007 [00:09<00:00, 440.09it/s]\n",
      "100%|██████████| 4007/4007 [00:08<00:00, 500.79it/s]\n",
      "100%|██████████| 4007/4007 [00:08<00:00, 479.67it/s]\n",
      "100%|██████████| 4007/4007 [00:08<00:00, 475.05it/s]\n",
      "100%|██████████| 4007/4007 [00:08<00:00, 479.31it/s]\n",
      "100%|██████████| 4007/4007 [00:08<00:00, 472.92it/s]\n",
      "100%|██████████| 4007/4007 [00:08<00:00, 480.11it/s]\n",
      "100%|██████████| 4007/4007 [00:07<00:00, 502.85it/s]\n"
     ]
    },
    {
     "name": "stdout",
     "output_type": "stream",
     "text": [
      "\n",
      "<Test Report>\n",
      "Precision: [no diabetes] 0.8634407826734934, [pre-diabetes] 0.022321428571428572, [diabetes] 0.23849497826412833\n",
      "Recall: [no diabetes] 0.8404108467279662, [pre-diabetes] 0.05939524838012959, [diabetes] 0.22506719479417173\n",
      "F1-Score: [no diabetes] 0.8517701738161295, [pre-diabetes] 0.032448377581120944, [diabetes] 0.23158660844250364\n",
      "Support: [no diabetes] 42741, [pre-diabetes] 926, [diabetes] 7069\n",
      "Accuracy: 74.0421%\n",
      "perf: 0.7404\n",
      "<testing> hidden_size=256, lr=0.001, bs=256, num_hidden=4, num_epochs=25. . . "
     ]
    },
    {
     "name": "stderr",
     "output_type": "stream",
     "text": [
      "100%|██████████| 2004/2004 [00:05<00:00, 369.39it/s]\n",
      "100%|██████████| 2004/2004 [00:05<00:00, 369.37it/s]\n",
      "100%|██████████| 2004/2004 [00:05<00:00, 362.40it/s]\n",
      "100%|██████████| 2004/2004 [00:05<00:00, 351.42it/s]\n",
      "100%|██████████| 2004/2004 [00:05<00:00, 346.86it/s]\n",
      "100%|██████████| 2004/2004 [00:05<00:00, 357.74it/s]\n",
      "100%|██████████| 2004/2004 [00:05<00:00, 347.33it/s]\n",
      "100%|██████████| 2004/2004 [00:05<00:00, 347.39it/s]\n",
      "100%|██████████| 2004/2004 [00:05<00:00, 355.98it/s]\n",
      "100%|██████████| 2004/2004 [00:05<00:00, 346.39it/s]\n",
      "100%|██████████| 2004/2004 [00:05<00:00, 349.12it/s]\n",
      "100%|██████████| 2004/2004 [00:05<00:00, 349.12it/s]\n",
      "100%|██████████| 2004/2004 [00:05<00:00, 354.78it/s]\n",
      "100%|██████████| 2004/2004 [00:05<00:00, 350.48it/s]\n",
      "100%|██████████| 2004/2004 [00:05<00:00, 349.22it/s]\n",
      "100%|██████████| 2004/2004 [00:05<00:00, 366.48it/s]\n",
      "100%|██████████| 2004/2004 [00:05<00:00, 364.80it/s]\n",
      "100%|██████████| 2004/2004 [00:05<00:00, 366.68it/s]\n",
      "100%|██████████| 2004/2004 [00:05<00:00, 352.48it/s]\n",
      "100%|██████████| 2004/2004 [00:05<00:00, 356.53it/s]\n",
      "100%|██████████| 2004/2004 [00:05<00:00, 348.89it/s]\n",
      "100%|██████████| 2004/2004 [00:05<00:00, 349.12it/s]\n",
      "100%|██████████| 2004/2004 [00:05<00:00, 355.69it/s]\n",
      "100%|██████████| 2004/2004 [00:05<00:00, 348.41it/s]\n",
      "100%|██████████| 2004/2004 [00:05<00:00, 348.74it/s]\n"
     ]
    },
    {
     "name": "stdout",
     "output_type": "stream",
     "text": [
      "\n",
      "<Test Report>\n",
      "Precision: [no diabetes] 0.8651163983181213, [pre-diabetes] 0.021065675340768277, [diabetes] 0.21871911444949596\n",
      "Recall: [no diabetes] 0.7894761470251047, [pre-diabetes] 0.0367170626349892, [diabetes] 0.3130570094780025\n",
      "F1-Score: [no diabetes] 0.8255673129855037, [pre-diabetes] 0.026771653543307086, [diabetes] 0.2575202187700006\n",
      "Support: [no diabetes] 42741, [pre-diabetes] 926, [diabetes] 7069\n",
      "Accuracy: 70.9358%\n",
      "perf: 0.7094\n",
      "<testing> hidden_size=512, lr=0.0005, bs=128, num_hidden=4, num_epochs=25. . . "
     ]
    },
    {
     "name": "stderr",
     "output_type": "stream",
     "text": [
      "100%|██████████| 4007/4007 [00:11<00:00, 360.27it/s]\n",
      "100%|██████████| 4007/4007 [00:11<00:00, 359.15it/s]\n",
      "100%|██████████| 4007/4007 [00:11<00:00, 359.82it/s]\n",
      "100%|██████████| 4007/4007 [00:11<00:00, 358.93it/s]\n",
      "100%|██████████| 4007/4007 [00:11<00:00, 358.41it/s]\n",
      "100%|██████████| 4007/4007 [00:11<00:00, 359.54it/s]\n",
      "100%|██████████| 4007/4007 [00:11<00:00, 359.46it/s]\n",
      "100%|██████████| 4007/4007 [00:10<00:00, 366.52it/s]\n",
      "100%|██████████| 4007/4007 [00:11<00:00, 360.76it/s]\n",
      "100%|██████████| 4007/4007 [00:11<00:00, 359.53it/s]\n",
      "100%|██████████| 4007/4007 [00:11<00:00, 358.32it/s]\n",
      "100%|██████████| 4007/4007 [00:11<00:00, 359.36it/s]\n",
      "100%|██████████| 4007/4007 [00:11<00:00, 363.16it/s]\n",
      "100%|██████████| 4007/4007 [00:11<00:00, 361.84it/s]\n",
      "100%|██████████| 4007/4007 [00:11<00:00, 359.50it/s]\n",
      "100%|██████████| 4007/4007 [00:11<00:00, 359.67it/s]\n",
      "100%|██████████| 4007/4007 [00:11<00:00, 360.03it/s]\n",
      "100%|██████████| 4007/4007 [00:10<00:00, 364.40it/s]\n",
      "100%|██████████| 4007/4007 [00:11<00:00, 364.18it/s]\n",
      "100%|██████████| 4007/4007 [00:10<00:00, 368.95it/s]\n",
      "100%|██████████| 4007/4007 [00:11<00:00, 360.14it/s]\n",
      "100%|██████████| 4007/4007 [00:11<00:00, 360.41it/s]\n",
      "100%|██████████| 4007/4007 [00:11<00:00, 359.95it/s]\n",
      "100%|██████████| 4007/4007 [00:11<00:00, 360.70it/s]\n",
      "100%|██████████| 4007/4007 [00:11<00:00, 360.90it/s]\n"
     ]
    },
    {
     "name": "stdout",
     "output_type": "stream",
     "text": [
      "\n",
      "<Test Report>\n",
      "Precision: [no diabetes] 0.8601518668988198, [pre-diabetes] 0.02358490566037736, [diabetes] 0.21757889546351084\n",
      "Recall: [no diabetes] 0.8321985915163426, [pre-diabetes] 0.032397408207343416, [diabetes] 0.24968170886971283\n",
      "F1-Score: [no diabetes] 0.8459443711129345, [pre-diabetes] 0.0272975432211101, [diabetes] 0.2325275014821158\n",
      "Support: [no diabetes] 42741, [pre-diabetes] 926, [diabetes] 7069\n",
      "Accuracy: 73.6440%\n",
      "perf: 0.7364\n",
      "<testing> hidden_size=512, lr=0.0005, bs=256, num_hidden=4, num_epochs=25. . . "
     ]
    },
    {
     "name": "stderr",
     "output_type": "stream",
     "text": [
      "100%|██████████| 2004/2004 [00:07<00:00, 271.08it/s]\n",
      "100%|██████████| 2004/2004 [00:07<00:00, 268.32it/s]\n",
      "100%|██████████| 2004/2004 [00:07<00:00, 267.80it/s]\n",
      "100%|██████████| 2004/2004 [00:07<00:00, 268.59it/s]\n",
      "100%|██████████| 2004/2004 [00:07<00:00, 272.55it/s]\n",
      "100%|██████████| 2004/2004 [00:07<00:00, 269.09it/s]\n",
      "100%|██████████| 2004/2004 [00:07<00:00, 268.94it/s]\n",
      "100%|██████████| 2004/2004 [00:07<00:00, 274.46it/s]\n",
      "100%|██████████| 2004/2004 [00:07<00:00, 268.63it/s]\n",
      "100%|██████████| 2004/2004 [00:07<00:00, 268.27it/s]\n",
      "100%|██████████| 2004/2004 [00:07<00:00, 272.30it/s]\n",
      "100%|██████████| 2004/2004 [00:07<00:00, 267.49it/s]\n",
      "100%|██████████| 2004/2004 [00:07<00:00, 267.99it/s]\n",
      "100%|██████████| 2004/2004 [00:07<00:00, 268.70it/s]\n",
      "100%|██████████| 2004/2004 [00:07<00:00, 272.81it/s]\n",
      "100%|██████████| 2004/2004 [00:07<00:00, 268.92it/s]\n",
      "100%|██████████| 2004/2004 [00:07<00:00, 271.22it/s]\n",
      "100%|██████████| 2004/2004 [00:07<00:00, 274.87it/s]\n",
      "100%|██████████| 2004/2004 [00:07<00:00, 270.85it/s]\n",
      "100%|██████████| 2004/2004 [00:07<00:00, 271.01it/s]\n",
      "100%|██████████| 2004/2004 [00:07<00:00, 274.77it/s]\n",
      "100%|██████████| 2004/2004 [00:07<00:00, 270.38it/s]\n",
      "100%|██████████| 2004/2004 [00:07<00:00, 270.35it/s]\n",
      "100%|██████████| 2004/2004 [00:07<00:00, 269.41it/s]\n",
      "100%|██████████| 2004/2004 [00:07<00:00, 273.60it/s]\n"
     ]
    },
    {
     "name": "stdout",
     "output_type": "stream",
     "text": [
      "\n",
      "<Test Report>\n",
      "Precision: [no diabetes] 0.865814393939394, [pre-diabetes] 0.022354694485842028, [diabetes] 0.2503514376996805\n",
      "Recall: [no diabetes] 0.8556655202264805, [pre-diabetes] 0.016198704103671708, [diabetes] 0.2771254774366954\n",
      "F1-Score: [no diabetes] 0.8607100410680034, [pre-diabetes] 0.01878522229179712, [diabetes] 0.26305894991271656\n",
      "Support: [no diabetes] 42741, [pre-diabetes] 926, [diabetes] 7069\n",
      "Accuracy: 75.9737%\n",
      "perf: 0.7597\n",
      "<testing> hidden_size=1024, lr=0.0005, bs=128, num_hidden=2, num_epochs=25. . . "
     ]
    },
    {
     "name": "stderr",
     "output_type": "stream",
     "text": [
      "100%|██████████| 4007/4007 [00:15<00:00, 259.47it/s]\n",
      "100%|██████████| 4007/4007 [00:15<00:00, 259.21it/s]\n",
      "100%|██████████| 4007/4007 [00:15<00:00, 258.75it/s]\n",
      "100%|██████████| 4007/4007 [00:15<00:00, 257.91it/s]\n",
      "100%|██████████| 4007/4007 [00:15<00:00, 258.58it/s]\n",
      "100%|██████████| 4007/4007 [00:15<00:00, 258.96it/s]\n",
      "100%|██████████| 4007/4007 [00:15<00:00, 259.11it/s]\n",
      "100%|██████████| 4007/4007 [00:15<00:00, 258.78it/s]\n",
      "100%|██████████| 4007/4007 [00:15<00:00, 258.27it/s]\n",
      "100%|██████████| 4007/4007 [00:15<00:00, 258.89it/s]\n",
      "100%|██████████| 4007/4007 [00:15<00:00, 258.83it/s]\n",
      "100%|██████████| 4007/4007 [00:15<00:00, 258.37it/s]\n",
      "100%|██████████| 4007/4007 [00:15<00:00, 258.22it/s]\n",
      "100%|██████████| 4007/4007 [00:15<00:00, 258.49it/s]\n",
      "100%|██████████| 4007/4007 [00:15<00:00, 258.32it/s]\n",
      "100%|██████████| 4007/4007 [00:15<00:00, 258.52it/s]\n",
      "100%|██████████| 4007/4007 [00:15<00:00, 257.83it/s]\n",
      "100%|██████████| 4007/4007 [00:15<00:00, 258.23it/s]\n",
      "100%|██████████| 4007/4007 [00:15<00:00, 258.38it/s]\n",
      "100%|██████████| 4007/4007 [00:15<00:00, 258.33it/s]\n",
      "100%|██████████| 4007/4007 [00:15<00:00, 259.06it/s]\n",
      "100%|██████████| 4007/4007 [00:15<00:00, 258.56it/s]\n",
      "100%|██████████| 4007/4007 [00:15<00:00, 257.78it/s]\n",
      "100%|██████████| 4007/4007 [00:15<00:00, 258.51it/s]\n",
      "100%|██████████| 4007/4007 [00:15<00:00, 258.35it/s]\n"
     ]
    },
    {
     "name": "stdout",
     "output_type": "stream",
     "text": [
      "\n",
      "<Test Report>\n",
      "Precision: [no diabetes] 0.8583261077898964, [pre-diabetes] 0.02413793103448276, [diabetes] 0.23444108761329305\n",
      "Recall: [no diabetes] 0.8801151119533936, [pre-diabetes] 0.00755939524838013, [diabetes] 0.2195501485358608\n",
      "F1-Score: [no diabetes] 0.8690840620559798, [pre-diabetes] 0.011513157894736841, [diabetes] 0.22675140623858572\n",
      "Support: [no diabetes] 42741, [pre-diabetes] 926, [diabetes] 7069\n",
      "Accuracy: 77.2154%\n",
      "perf: 0.7722\n",
      "<testing> hidden_size=1024, lr=0.0005, bs=256, num_hidden=2, num_epochs=25. . . "
     ]
    },
    {
     "name": "stderr",
     "output_type": "stream",
     "text": [
      "100%|██████████| 2004/2004 [00:11<00:00, 181.72it/s]\n",
      "100%|██████████| 2004/2004 [00:11<00:00, 181.44it/s]\n",
      "100%|██████████| 2004/2004 [00:10<00:00, 182.68it/s]\n",
      "100%|██████████| 2004/2004 [00:11<00:00, 181.14it/s]\n",
      "100%|██████████| 2004/2004 [00:11<00:00, 180.95it/s]\n",
      "100%|██████████| 2004/2004 [00:10<00:00, 182.89it/s]\n",
      "100%|██████████| 2004/2004 [00:11<00:00, 175.58it/s]\n",
      "100%|██████████| 2004/2004 [00:11<00:00, 181.77it/s]\n",
      "100%|██████████| 2004/2004 [00:11<00:00, 181.34it/s]\n",
      "100%|██████████| 2004/2004 [00:10<00:00, 182.91it/s]\n",
      "100%|██████████| 2004/2004 [00:11<00:00, 181.57it/s]\n",
      "100%|██████████| 2004/2004 [00:11<00:00, 181.05it/s]\n",
      "100%|██████████| 2004/2004 [00:10<00:00, 183.34it/s]\n",
      "100%|██████████| 2004/2004 [00:11<00:00, 181.72it/s]\n",
      "100%|██████████| 2004/2004 [00:11<00:00, 180.97it/s]\n",
      "100%|██████████| 2004/2004 [00:11<00:00, 181.92it/s]\n",
      "100%|██████████| 2004/2004 [00:11<00:00, 181.51it/s]\n",
      "100%|██████████| 2004/2004 [00:11<00:00, 181.73it/s]\n",
      "100%|██████████| 2004/2004 [00:11<00:00, 181.70it/s]\n",
      "100%|██████████| 2004/2004 [00:10<00:00, 183.20it/s]\n",
      "100%|██████████| 2004/2004 [00:11<00:00, 175.46it/s]\n",
      "100%|██████████| 2004/2004 [00:11<00:00, 181.54it/s]\n",
      "100%|██████████| 2004/2004 [00:10<00:00, 182.88it/s]\n",
      "100%|██████████| 2004/2004 [00:11<00:00, 181.84it/s]\n",
      "100%|██████████| 2004/2004 [00:11<00:00, 181.85it/s]\n"
     ]
    },
    {
     "name": "stdout",
     "output_type": "stream",
     "text": [
      "\n",
      "<Test Report>\n",
      "Precision: [no diabetes] 0.8560749774164408, [pre-diabetes] 0.024390243902439025, [diabetes] 0.22825008269930533\n",
      "Recall: [no diabetes] 0.8869001661168433, [pre-diabetes] 0.01079913606911447, [diabetes] 0.19521855990946385\n",
      "F1-Score: [no diabetes] 0.8712149940818883, [pre-diabetes] 0.014970059880239521, [diabetes] 0.21044605413648493\n",
      "Support: [no diabetes] 42741, [pre-diabetes] 926, [diabetes] 7069\n",
      "Accuracy: 77.4539%\n",
      "perf: 0.7745\n",
      "<testing> hidden_size=2048, lr=0.0005, bs=128, num_hidden=2, num_epochs=25. . . "
     ]
    },
    {
     "name": "stderr",
     "output_type": "stream",
     "text": [
      "100%|██████████| 4007/4007 [00:48<00:00, 83.28it/s]\n",
      "100%|██████████| 4007/4007 [00:48<00:00, 83.25it/s]\n",
      "100%|██████████| 4007/4007 [00:48<00:00, 83.27it/s]\n",
      "100%|██████████| 4007/4007 [00:48<00:00, 83.28it/s]\n",
      "100%|██████████| 4007/4007 [00:48<00:00, 82.65it/s]\n",
      "100%|██████████| 4007/4007 [00:48<00:00, 82.25it/s]\n",
      "100%|██████████| 4007/4007 [00:49<00:00, 80.78it/s]\n",
      "100%|██████████| 4007/4007 [00:48<00:00, 82.55it/s]\n",
      "100%|██████████| 4007/4007 [00:48<00:00, 83.20it/s]\n",
      "100%|██████████| 4007/4007 [00:48<00:00, 83.26it/s]\n",
      "100%|██████████| 4007/4007 [00:48<00:00, 83.27it/s]\n",
      "100%|██████████| 4007/4007 [00:48<00:00, 83.26it/s]\n",
      "100%|██████████| 4007/4007 [00:48<00:00, 83.27it/s]\n",
      "100%|██████████| 4007/4007 [00:48<00:00, 83.26it/s]\n",
      "100%|██████████| 4007/4007 [00:48<00:00, 83.27it/s]\n",
      "100%|██████████| 4007/4007 [00:48<00:00, 83.25it/s]\n",
      "100%|██████████| 4007/4007 [00:49<00:00, 81.34it/s]\n",
      "100%|██████████| 4007/4007 [00:48<00:00, 83.20it/s]\n",
      "100%|██████████| 4007/4007 [00:48<00:00, 83.28it/s]\n",
      "100%|██████████| 4007/4007 [00:48<00:00, 83.26it/s]\n",
      "100%|██████████| 4007/4007 [00:48<00:00, 83.26it/s]\n",
      "100%|██████████| 4007/4007 [00:49<00:00, 81.15it/s]\n",
      "100%|██████████| 4007/4007 [00:48<00:00, 82.91it/s]\n",
      "100%|██████████| 4007/4007 [00:48<00:00, 83.18it/s]\n",
      "100%|██████████| 4007/4007 [00:48<00:00, 83.25it/s]\n"
     ]
    },
    {
     "name": "stdout",
     "output_type": "stream",
     "text": [
      "\n",
      "<Test Report>\n",
      "Precision: [no diabetes] 0.8579440097688933, [pre-diabetes] 0.022058823529411766, [diabetes] 0.23796265967900426\n",
      "Recall: [no diabetes] 0.8876722584871669, [pre-diabetes] 0.009719222462203024, [diabetes] 0.20554533880322534\n",
      "F1-Score: [no diabetes] 0.8725549946528983, [pre-diabetes] 0.013493253373313344, [diabetes] 0.22056925996204935\n",
      "Support: [no diabetes] 42741, [pre-diabetes] 926, [diabetes] 7069\n",
      "Accuracy: 77.6608%\n",
      "perf: 0.7766\n",
      "<testing> hidden_size=2048, lr=0.0005, bs=256, num_hidden=2, num_epochs=25. . . "
     ]
    },
    {
     "name": "stderr",
     "output_type": "stream",
     "text": [
      "100%|██████████| 2004/2004 [00:32<00:00, 62.44it/s]\n",
      "100%|██████████| 2004/2004 [00:32<00:00, 62.61it/s]\n",
      "100%|██████████| 2004/2004 [00:32<00:00, 62.38it/s]\n",
      "100%|██████████| 2004/2004 [00:32<00:00, 62.42it/s]\n",
      "100%|██████████| 2004/2004 [00:31<00:00, 62.68it/s]\n",
      "100%|██████████| 2004/2004 [00:32<00:00, 62.61it/s]\n",
      "100%|██████████| 2004/2004 [00:32<00:00, 62.59it/s]\n",
      "100%|██████████| 2004/2004 [00:32<00:00, 62.59it/s]\n",
      "100%|██████████| 2004/2004 [00:31<00:00, 62.87it/s]\n",
      "100%|██████████| 2004/2004 [00:32<00:00, 62.62it/s]\n",
      "100%|██████████| 2004/2004 [00:32<00:00, 62.58it/s]\n",
      "100%|██████████| 2004/2004 [00:31<00:00, 62.81it/s]\n",
      "100%|██████████| 2004/2004 [00:32<00:00, 62.59it/s]\n",
      "100%|██████████| 2004/2004 [00:32<00:00, 62.56it/s]\n",
      "100%|██████████| 2004/2004 [00:32<00:00, 62.57it/s]\n",
      "100%|██████████| 2004/2004 [00:31<00:00, 62.70it/s]\n",
      "100%|██████████| 2004/2004 [00:32<00:00, 62.58it/s]\n",
      "100%|██████████| 2004/2004 [00:32<00:00, 62.58it/s]\n",
      "100%|██████████| 2004/2004 [00:31<00:00, 62.78it/s]\n",
      "100%|██████████| 2004/2004 [00:32<00:00, 62.55it/s]\n",
      "100%|██████████| 2004/2004 [00:32<00:00, 62.47it/s]\n",
      "100%|██████████| 2004/2004 [00:32<00:00, 62.49it/s]\n",
      "100%|██████████| 2004/2004 [00:31<00:00, 62.80it/s]\n",
      "100%|██████████| 2004/2004 [00:32<00:00, 62.51it/s]\n",
      "100%|██████████| 2004/2004 [00:32<00:00, 62.47it/s]\n"
     ]
    },
    {
     "name": "stdout",
     "output_type": "stream",
     "text": [
      "\n",
      "<Test Report>\n",
      "Precision: [no diabetes] 0.8559900682805711, [pre-diabetes] 0.0213903743315508, [diabetes] 0.2411496003045299\n",
      "Recall: [no diabetes] 0.9033948667555742, [pre-diabetes] 0.008639308855291577, [diabetes] 0.17923327203281936\n",
      "F1-Score: [no diabetes] 0.8790538310054753, [pre-diabetes] 0.012307692307692308, [diabetes] 0.20563174551651384\n",
      "Support: [no diabetes] 42741, [pre-diabetes] 926, [diabetes] 7069\n",
      "Accuracy: 78.6168%\n",
      "perf: 0.7862\n",
      "{\n",
      "    \"learning_rate\": 0.0005,\n",
      "    \"input_size\": 21,\n",
      "    \"output_size\": 3,\n",
      "    \"hidden_size\": 2048,\n",
      "    \"num_hidden\": 2,\n",
      "    \"num_epochs\": 25,\n",
      "    \"batch_size\": 256,\n",
      "    \"classify_fn\": \"sigmoid\"\n",
      "}\n",
      "\n",
      "<Test Report>\n",
      "Precision: [no diabetes] 0.8559900682805711, [pre-diabetes] 0.0213903743315508, [diabetes] 0.2411496003045299\n",
      "Recall: [no diabetes] 0.9033948667555742, [pre-diabetes] 0.008639308855291577, [diabetes] 0.17923327203281936\n",
      "F1-Score: [no diabetes] 0.8790538310054753, [pre-diabetes] 0.012307692307692308, [diabetes] 0.20563174551651384\n",
      "Support: [no diabetes] 42741, [pre-diabetes] 926, [diabetes] 7069\n",
      "Accuracy: 78.6168%\n",
      "{'ffnn': None}\n"
     ]
    }
   ],
   "source": [
    "# optimize hyperparams\n",
    "optimizer_results = {model_type: model.optimize_hyperparams(kfold=2) for model_type, model in models.items()}\n",
    "print(optimizer_results)"
   ]
  },
  {
   "cell_type": "markdown",
   "metadata": {},
   "source": [
    "***\n",
    "## Fine-Tuning + Other Adjustments"
   ]
  },
  {
   "cell_type": "code",
   "execution_count": null,
   "metadata": {},
   "outputs": [],
   "source": []
  },
  {
   "cell_type": "markdown",
   "metadata": {},
   "source": [
    "***\n",
    "## Best Model Report"
   ]
  },
  {
   "cell_type": "code",
   "execution_count": null,
   "metadata": {},
   "outputs": [],
   "source": []
  },
  {
   "cell_type": "markdown",
   "metadata": {},
   "source": [
    "***\n",
    "## Interpretation"
   ]
  },
  {
   "cell_type": "markdown",
   "metadata": {},
   "source": []
  },
  {
   "cell_type": "markdown",
   "metadata": {},
   "source": [
    "***\n",
    "## Conclusion"
   ]
  }
 ],
 "metadata": {
  "kernelspec": {
   "display_name": "base",
   "language": "python",
   "name": "python3"
  },
  "language_info": {
   "codemirror_mode": {
    "name": "ipython",
    "version": 3
   },
   "file_extension": ".py",
   "mimetype": "text/x-python",
   "name": "python",
   "nbconvert_exporter": "python",
   "pygments_lexer": "ipython3",
   "version": "3.11.5"
  }
 },
 "nbformat": 4,
 "nbformat_minor": 2
}
