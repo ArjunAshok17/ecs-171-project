{
 "cells": [
  {
   "cell_type": "markdown",
   "metadata": {},
   "source": [
    "# Modeling\n",
    "In this notebook, we'll be modeling the data we've previously prepared. Out notebook will be laid out as follows:\n",
    "\n",
    "1. Model Selection & Generation\n",
    "2. Hyperparameter Optimization\n",
    "3. Fine-Tuning (if needed)\n",
    "4. Reporting Best Model(s) + Settings\n",
    "5. Interpretation\n",
    "6. Conclusion\n",
    "\n",
    "Our eventual goal here is two-fold:\n",
    "\n",
    "1. Accurately [and fairly] model the diabetes dataset\n",
    "2. Interpret the results to find something worth recommending to those wanting to reduce risk of diabetes. This can be via LIME/SHAP (i.e. some interpretable model that approximates the neural network) or via analyzing a more simple model's structure (i.e. regression coefficients, random forest decision boundaries)"
   ]
  },
  {
   "cell_type": "code",
   "execution_count": 1,
   "metadata": {},
   "outputs": [],
   "source": [
    "# Environment Setup\n",
    "from utils.model import *\n",
    "from utils.dataset import *"
   ]
  },
  {
   "cell_type": "markdown",
   "metadata": {},
   "source": [
    "***\n",
    "## Model Selection & Generation"
   ]
  },
  {
   "cell_type": "code",
   "execution_count": 6,
   "metadata": {},
   "outputs": [
    {
     "name": "stdout",
     "output_type": "stream",
     "text": [
      "<Train-Test Split Report>\n",
      "Train: 512886 obs, 170962 no diabetes [0], 170962 pre-diabetes [1], 170962 diabetes [2]\n",
      "Test: 50736 obs, 42741 no diabetes [0], 926 pre-diabetes [1], 7069 diabetes [2]\n",
      "<Train-Test Split Report>\n",
      "Train: 202944 obs, 170962 no diabetes [0], 3705 pre-diabetes [1], 28277 diabetes [2]\n",
      "Test: 50736 obs, 42741 no diabetes [0], 926 pre-diabetes [1], 7069 diabetes [2]\n",
      "<Train-Test Split Report>\n",
      "Train: 512886 obs, 170962 no diabetes [0], 170962 pre-diabetes [1], 170962 diabetes [2]\n",
      "Test: 50736 obs, 42741 no diabetes [0], 926 pre-diabetes [1], 7069 diabetes [2]\n"
     ]
    },
    {
     "data": {
      "image/png": "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",
      "text/plain": [
       "<Figure size 1000x600 with 1 Axes>"
      ]
     },
     "metadata": {},
     "output_type": "display_data"
    },
    {
     "name": "stderr",
     "output_type": "stream",
     "text": [
      "/home/arjun/anaconda3/lib/python3.11/site-packages/sklearn/base.py:493: UserWarning: X does not have valid feature names, but StandardScaler was fitted with feature names\n",
      "  warnings.warn(\n"
     ]
    },
    {
     "name": "stdout",
     "output_type": "stream",
     "text": [
      "\n",
      "<Test Report>\n",
      "Precision: [no diabetes] 0.9410748560460652, [pre-diabetes] 0.3381024096385542, [diabetes] 0.02695287282117495\n",
      "Recall: [no diabetes] 0.6882852530357269, [pre-diabetes] 0.6351676333286179, [diabetes] 0.18034557235421167\n",
      "F1-Score: [no diabetes] 0.7950703368873394, [pre-diabetes] 0.4412993267482432, [diabetes] 0.046896939062061216\n",
      "Support: [no diabetes] 42741, [pre-diabetes] 7069, [diabetes] 926\n",
      "Accuracy: 67.1614%\n",
      "Macro-F1: 0.4278\n"
     ]
    },
    {
     "name": "stderr",
     "output_type": "stream",
     "text": [
      "100%|██████████| 3171/3171 [00:11<00:00, 283.22it/s]\n"
     ]
    },
    {
     "name": "stdout",
     "output_type": "stream",
     "text": [
      "Epoch 1/50, Loss: 1.1911, Test Loss: 1.4284\n"
     ]
    },
    {
     "name": "stderr",
     "output_type": "stream",
     "text": [
      "100%|██████████| 3171/3171 [00:11<00:00, 284.02it/s]\n"
     ]
    },
    {
     "name": "stdout",
     "output_type": "stream",
     "text": [
      "Epoch 2/50, Loss: 0.8731, Test Loss: 1.0632\n"
     ]
    },
    {
     "name": "stderr",
     "output_type": "stream",
     "text": [
      "100%|██████████| 3171/3171 [00:11<00:00, 286.25it/s]\n"
     ]
    },
    {
     "name": "stdout",
     "output_type": "stream",
     "text": [
      "Epoch 3/50, Loss: 0.8223, Test Loss: 0.9746\n"
     ]
    },
    {
     "name": "stderr",
     "output_type": "stream",
     "text": [
      "100%|██████████| 3171/3171 [00:11<00:00, 284.40it/s]\n"
     ]
    },
    {
     "name": "stdout",
     "output_type": "stream",
     "text": [
      "Epoch 4/50, Loss: 0.7983, Test Loss: 0.9760\n"
     ]
    },
    {
     "name": "stderr",
     "output_type": "stream",
     "text": [
      "100%|██████████| 3171/3171 [00:11<00:00, 283.76it/s]\n"
     ]
    },
    {
     "name": "stdout",
     "output_type": "stream",
     "text": [
      "Epoch 5/50, Loss: 0.7852, Test Loss: 0.9408\n"
     ]
    },
    {
     "name": "stderr",
     "output_type": "stream",
     "text": [
      "100%|██████████| 3171/3171 [00:11<00:00, 284.60it/s]\n"
     ]
    },
    {
     "name": "stdout",
     "output_type": "stream",
     "text": [
      "Epoch 6/50, Loss: 0.7794, Test Loss: 0.9551\n"
     ]
    },
    {
     "name": "stderr",
     "output_type": "stream",
     "text": [
      "100%|██████████| 3171/3171 [00:11<00:00, 284.57it/s]\n"
     ]
    },
    {
     "name": "stdout",
     "output_type": "stream",
     "text": [
      "Epoch 7/50, Loss: 0.7773, Test Loss: 0.9537\n"
     ]
    },
    {
     "name": "stderr",
     "output_type": "stream",
     "text": [
      "100%|██████████| 3171/3171 [00:11<00:00, 284.62it/s]\n"
     ]
    },
    {
     "name": "stdout",
     "output_type": "stream",
     "text": [
      "Epoch 8/50, Loss: 0.7731, Test Loss: 0.9742\n"
     ]
    },
    {
     "name": "stderr",
     "output_type": "stream",
     "text": [
      "100%|██████████| 3171/3171 [00:11<00:00, 284.60it/s]\n"
     ]
    },
    {
     "name": "stdout",
     "output_type": "stream",
     "text": [
      "Epoch 9/50, Loss: 0.7678, Test Loss: 0.9673\n"
     ]
    },
    {
     "name": "stderr",
     "output_type": "stream",
     "text": [
      "100%|██████████| 3171/3171 [00:11<00:00, 283.99it/s]\n"
     ]
    },
    {
     "name": "stdout",
     "output_type": "stream",
     "text": [
      "Epoch 10/50, Loss: 0.7662, Test Loss: 0.9974\n"
     ]
    },
    {
     "name": "stderr",
     "output_type": "stream",
     "text": [
      "100%|██████████| 3171/3171 [00:11<00:00, 284.68it/s]\n"
     ]
    },
    {
     "name": "stdout",
     "output_type": "stream",
     "text": [
      "Epoch 11/50, Loss: 0.7662, Test Loss: 0.9567\n"
     ]
    },
    {
     "name": "stderr",
     "output_type": "stream",
     "text": [
      "100%|██████████| 3171/3171 [00:11<00:00, 284.05it/s]\n"
     ]
    },
    {
     "name": "stdout",
     "output_type": "stream",
     "text": [
      "Epoch 12/50, Loss: 0.7630, Test Loss: 0.9599\n"
     ]
    },
    {
     "name": "stderr",
     "output_type": "stream",
     "text": [
      "100%|██████████| 3171/3171 [00:11<00:00, 284.70it/s]\n"
     ]
    },
    {
     "name": "stdout",
     "output_type": "stream",
     "text": [
      "Epoch 13/50, Loss: 0.7644, Test Loss: 0.9491\n"
     ]
    },
    {
     "name": "stderr",
     "output_type": "stream",
     "text": [
      "100%|██████████| 3171/3171 [00:11<00:00, 284.02it/s]\n"
     ]
    },
    {
     "name": "stdout",
     "output_type": "stream",
     "text": [
      "Epoch 14/50, Loss: 0.7617, Test Loss: 0.9639\n"
     ]
    },
    {
     "name": "stderr",
     "output_type": "stream",
     "text": [
      "100%|██████████| 3171/3171 [00:11<00:00, 287.77it/s]\n"
     ]
    },
    {
     "name": "stdout",
     "output_type": "stream",
     "text": [
      "Epoch 15/50, Loss: 0.7614, Test Loss: 0.9868\n"
     ]
    },
    {
     "name": "stderr",
     "output_type": "stream",
     "text": [
      "100%|██████████| 3171/3171 [00:11<00:00, 285.93it/s]\n"
     ]
    },
    {
     "name": "stdout",
     "output_type": "stream",
     "text": [
      "Epoch 16/50, Loss: 0.7587, Test Loss: 1.0096\n"
     ]
    },
    {
     "name": "stderr",
     "output_type": "stream",
     "text": [
      "100%|██████████| 3171/3171 [00:11<00:00, 284.00it/s]\n"
     ]
    },
    {
     "name": "stdout",
     "output_type": "stream",
     "text": [
      "Epoch 17/50, Loss: 0.7600, Test Loss: 0.9832\n"
     ]
    },
    {
     "name": "stderr",
     "output_type": "stream",
     "text": [
      "100%|██████████| 3171/3171 [00:10<00:00, 288.34it/s]\n"
     ]
    },
    {
     "name": "stdout",
     "output_type": "stream",
     "text": [
      "Epoch 18/50, Loss: 0.7604, Test Loss: 1.0126\n"
     ]
    },
    {
     "name": "stderr",
     "output_type": "stream",
     "text": [
      "100%|██████████| 3171/3171 [00:11<00:00, 283.56it/s]\n"
     ]
    },
    {
     "name": "stdout",
     "output_type": "stream",
     "text": [
      "Epoch 19/50, Loss: 0.7592, Test Loss: 0.9800\n"
     ]
    },
    {
     "name": "stderr",
     "output_type": "stream",
     "text": [
      "100%|██████████| 3171/3171 [00:11<00:00, 283.24it/s]\n"
     ]
    },
    {
     "name": "stdout",
     "output_type": "stream",
     "text": [
      "Epoch 20/50, Loss: 0.7565, Test Loss: 0.9569\n"
     ]
    },
    {
     "name": "stderr",
     "output_type": "stream",
     "text": [
      "100%|██████████| 3171/3171 [00:11<00:00, 283.84it/s]\n"
     ]
    },
    {
     "name": "stdout",
     "output_type": "stream",
     "text": [
      "Epoch 21/50, Loss: 0.7584, Test Loss: 0.9596\n"
     ]
    },
    {
     "name": "stderr",
     "output_type": "stream",
     "text": [
      "100%|██████████| 3171/3171 [00:11<00:00, 284.04it/s]\n"
     ]
    },
    {
     "name": "stdout",
     "output_type": "stream",
     "text": [
      "Epoch 22/50, Loss: 0.7541, Test Loss: 0.9530\n"
     ]
    },
    {
     "name": "stderr",
     "output_type": "stream",
     "text": [
      "100%|██████████| 3171/3171 [00:11<00:00, 283.22it/s]\n"
     ]
    },
    {
     "name": "stdout",
     "output_type": "stream",
     "text": [
      "Epoch 23/50, Loss: 0.7574, Test Loss: 0.9620\n"
     ]
    },
    {
     "name": "stderr",
     "output_type": "stream",
     "text": [
      "100%|██████████| 3171/3171 [00:11<00:00, 283.18it/s]\n"
     ]
    },
    {
     "name": "stdout",
     "output_type": "stream",
     "text": [
      "Epoch 24/50, Loss: 0.7544, Test Loss: 0.9542\n"
     ]
    },
    {
     "name": "stderr",
     "output_type": "stream",
     "text": [
      "100%|██████████| 3171/3171 [00:11<00:00, 283.15it/s]\n"
     ]
    },
    {
     "name": "stdout",
     "output_type": "stream",
     "text": [
      "Epoch 25/50, Loss: 0.7568, Test Loss: 0.9425\n"
     ]
    },
    {
     "name": "stderr",
     "output_type": "stream",
     "text": [
      "100%|██████████| 3171/3171 [00:11<00:00, 283.02it/s]\n"
     ]
    },
    {
     "name": "stdout",
     "output_type": "stream",
     "text": [
      "Epoch 26/50, Loss: 0.7570, Test Loss: 0.9321\n"
     ]
    },
    {
     "name": "stderr",
     "output_type": "stream",
     "text": [
      "100%|██████████| 3171/3171 [00:11<00:00, 282.33it/s]\n"
     ]
    },
    {
     "name": "stdout",
     "output_type": "stream",
     "text": [
      "Epoch 27/50, Loss: 0.7568, Test Loss: 0.9526\n"
     ]
    },
    {
     "name": "stderr",
     "output_type": "stream",
     "text": [
      "100%|██████████| 3171/3171 [00:11<00:00, 281.63it/s]\n"
     ]
    },
    {
     "name": "stdout",
     "output_type": "stream",
     "text": [
      "Epoch 28/50, Loss: 0.7563, Test Loss: 0.9424\n"
     ]
    },
    {
     "name": "stderr",
     "output_type": "stream",
     "text": [
      "100%|██████████| 3171/3171 [00:11<00:00, 283.50it/s]\n"
     ]
    },
    {
     "name": "stdout",
     "output_type": "stream",
     "text": [
      "Epoch 29/50, Loss: 0.7556, Test Loss: 0.9630\n"
     ]
    },
    {
     "name": "stderr",
     "output_type": "stream",
     "text": [
      "100%|██████████| 3171/3171 [00:11<00:00, 281.87it/s]\n"
     ]
    },
    {
     "name": "stdout",
     "output_type": "stream",
     "text": [
      "Epoch 30/50, Loss: 0.7551, Test Loss: 0.9442\n"
     ]
    },
    {
     "name": "stderr",
     "output_type": "stream",
     "text": [
      "100%|██████████| 3171/3171 [00:11<00:00, 283.48it/s]\n"
     ]
    },
    {
     "name": "stdout",
     "output_type": "stream",
     "text": [
      "Epoch 31/50, Loss: 0.7552, Test Loss: 0.9523\n"
     ]
    },
    {
     "name": "stderr",
     "output_type": "stream",
     "text": [
      "100%|██████████| 3171/3171 [00:11<00:00, 283.64it/s]\n"
     ]
    },
    {
     "name": "stdout",
     "output_type": "stream",
     "text": [
      "Epoch 32/50, Loss: 0.7545, Test Loss: 0.9300\n"
     ]
    },
    {
     "name": "stderr",
     "output_type": "stream",
     "text": [
      "100%|██████████| 3171/3171 [00:11<00:00, 282.50it/s]\n"
     ]
    },
    {
     "name": "stdout",
     "output_type": "stream",
     "text": [
      "Epoch 33/50, Loss: 0.7554, Test Loss: 0.9169\n"
     ]
    },
    {
     "name": "stderr",
     "output_type": "stream",
     "text": [
      "100%|██████████| 3171/3171 [00:11<00:00, 281.96it/s]\n"
     ]
    },
    {
     "name": "stdout",
     "output_type": "stream",
     "text": [
      "Epoch 34/50, Loss: 0.7537, Test Loss: 0.9266\n"
     ]
    },
    {
     "name": "stderr",
     "output_type": "stream",
     "text": [
      "100%|██████████| 3171/3171 [00:11<00:00, 282.06it/s]\n"
     ]
    },
    {
     "name": "stdout",
     "output_type": "stream",
     "text": [
      "Epoch 35/50, Loss: 0.7553, Test Loss: 0.9127\n"
     ]
    },
    {
     "name": "stderr",
     "output_type": "stream",
     "text": [
      "100%|██████████| 3171/3171 [00:11<00:00, 282.12it/s]\n"
     ]
    },
    {
     "name": "stdout",
     "output_type": "stream",
     "text": [
      "Epoch 36/50, Loss: 0.7552, Test Loss: 0.9198\n"
     ]
    },
    {
     "name": "stderr",
     "output_type": "stream",
     "text": [
      "100%|██████████| 3171/3171 [00:11<00:00, 282.41it/s]\n"
     ]
    },
    {
     "name": "stdout",
     "output_type": "stream",
     "text": [
      "Epoch 37/50, Loss: 0.7563, Test Loss: 0.9294\n"
     ]
    },
    {
     "name": "stderr",
     "output_type": "stream",
     "text": [
      "100%|██████████| 3171/3171 [00:11<00:00, 282.47it/s]\n"
     ]
    },
    {
     "name": "stdout",
     "output_type": "stream",
     "text": [
      "Epoch 38/50, Loss: 0.7536, Test Loss: 0.9450\n"
     ]
    },
    {
     "name": "stderr",
     "output_type": "stream",
     "text": [
      "100%|██████████| 3171/3171 [00:11<00:00, 282.75it/s]\n"
     ]
    },
    {
     "name": "stdout",
     "output_type": "stream",
     "text": [
      "Epoch 39/50, Loss: 0.7532, Test Loss: 0.9205\n"
     ]
    },
    {
     "name": "stderr",
     "output_type": "stream",
     "text": [
      "100%|██████████| 3171/3171 [00:11<00:00, 283.02it/s]\n"
     ]
    },
    {
     "name": "stdout",
     "output_type": "stream",
     "text": [
      "Epoch 40/50, Loss: 0.7532, Test Loss: 0.9210\n"
     ]
    },
    {
     "name": "stderr",
     "output_type": "stream",
     "text": [
      "100%|██████████| 3171/3171 [00:11<00:00, 282.57it/s]\n"
     ]
    },
    {
     "name": "stdout",
     "output_type": "stream",
     "text": [
      "Epoch 41/50, Loss: 0.7533, Test Loss: 0.9172\n"
     ]
    },
    {
     "name": "stderr",
     "output_type": "stream",
     "text": [
      "100%|██████████| 3171/3171 [00:11<00:00, 281.94it/s]\n"
     ]
    },
    {
     "name": "stdout",
     "output_type": "stream",
     "text": [
      "Epoch 42/50, Loss: 0.7535, Test Loss: 0.9207\n"
     ]
    },
    {
     "name": "stderr",
     "output_type": "stream",
     "text": [
      "100%|██████████| 3171/3171 [00:11<00:00, 281.72it/s]\n"
     ]
    },
    {
     "name": "stdout",
     "output_type": "stream",
     "text": [
      "Epoch 43/50, Loss: 0.7537, Test Loss: 0.9238\n"
     ]
    },
    {
     "name": "stderr",
     "output_type": "stream",
     "text": [
      "100%|██████████| 3171/3171 [00:11<00:00, 281.84it/s]\n"
     ]
    },
    {
     "name": "stdout",
     "output_type": "stream",
     "text": [
      "Epoch 44/50, Loss: 0.7545, Test Loss: 0.9231\n"
     ]
    },
    {
     "name": "stderr",
     "output_type": "stream",
     "text": [
      "100%|██████████| 3171/3171 [00:11<00:00, 281.93it/s]\n"
     ]
    },
    {
     "data": {
      "image/png": "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",
      "text/plain": [
       "<Figure size 1000x600 with 1 Axes>"
      ]
     },
     "metadata": {},
     "output_type": "display_data"
    },
    {
     "name": "stderr",
     "output_type": "stream",
     "text": [
      "/home/arjun/anaconda3/lib/python3.11/site-packages/sklearn/base.py:493: UserWarning: X does not have valid feature names, but StandardScaler was fitted with feature names\n",
      "  warnings.warn(\n",
      "/home/arjun/anaconda3/lib/python3.11/site-packages/sklearn/metrics/_classification.py:1509: UndefinedMetricWarning: Precision is ill-defined and being set to 0.0 in labels with no predicted samples. Use `zero_division` parameter to control this behavior.\n",
      "  _warn_prf(average, modifier, f\"{metric.capitalize()} is\", len(result))\n"
     ]
    },
    {
     "name": "stdout",
     "output_type": "stream",
     "text": [
      "\n",
      "<Test Report>\n",
      "Precision: [no diabetes] 0.9874110563765737, [pre-diabetes] 0.0, [diabetes] 0.183466413682241\n",
      "Recall: [no diabetes] 0.29545401371048874, [pre-diabetes] 0.0, [diabetes] 0.984863488470788\n",
      "F1-Score: [no diabetes] 0.4548172159193229, [pre-diabetes] 0.0, [diabetes] 0.30931224453527634\n",
      "Support: [no diabetes] 42741, [pre-diabetes] 926, [diabetes] 7069\n",
      "Accuracy: 38.6116%\n",
      "Macro-F1: 0.2547\n",
      "Epoch 1, change: 1.00000000\n",
<<<<<<< HEAD
      "Epoch 2, change: 0.25288282\n",
      "Epoch 3, change: 0.13426843\n",
      "Epoch 4, change: 0.09815333\n",
      "Epoch 5, change: 0.05010894\n",
      "Epoch 6, change: 0.02040064\n",
      "Epoch 7, change: 0.01590639\n",
      "Epoch 8, change: 0.00988835\n",
      "Epoch 9, change: 0.00781600\n",
      "Epoch 10, change: 0.00618078\n",
      "Epoch 11, change: 0.00414695\n",
      "Epoch 12, change: 0.00408930\n",
      "Epoch 13, change: 0.00379298\n",
      "Epoch 14, change: 0.00350046\n",
      "Epoch 15, change: 0.00410844\n",
      "Epoch 16, change: 0.00481783\n",
      "Epoch 17, change: 0.00324526\n",
      "Epoch 18, change: 0.00323737\n",
      "Epoch 19, change: 0.00317722\n",
      "Epoch 20, change: 0.00313871\n",
      "Epoch 21, change: 0.00308889\n",
      "Epoch 22, change: 0.00306387\n",
      "Epoch 23, change: 0.00303466\n",
      "Epoch 24, change: 0.00300925\n",
      "Epoch 25, change: 0.00296886\n",
      "Epoch 26, change: 0.00294275\n",
      "Epoch 27, change: 0.00291758\n",
      "Epoch 28, change: 0.00289285\n",
      "Epoch 29, change: 0.00286840\n",
      "Epoch 30, change: 0.00284418\n",
      "Epoch 31, change: 0.00282025\n",
      "Epoch 32, change: 0.00279661\n",
      "Epoch 33, change: 0.00277323\n",
      "Epoch 34, change: 0.00275011\n",
      "Epoch 35, change: 0.00272725\n",
      "Epoch 36, change: 0.00270464\n",
      "Epoch 37, change: 0.00268228\n",
      "Epoch 38, change: 0.00266016\n",
      "Epoch 39, change: 0.00263829\n",
      "Epoch 40, change: 0.00261665\n",
      "Epoch 41, change: 0.00259524\n",
      "Epoch 42, change: 0.00257406\n",
      "Epoch 43, change: 0.00255311\n",
      "Epoch 44, change: 0.00253238\n",
      "Epoch 45, change: 0.00251187\n",
      "Epoch 46, change: 0.00249158\n",
      "Epoch 47, change: 0.00247151\n",
      "Epoch 48, change: 0.00245164\n",
      "Epoch 49, change: 0.00243198\n",
      "Epoch 50, change: 0.00241252\n",
      "Epoch 51, change: 0.00239327\n",
      "Epoch 52, change: 0.00237330\n",
      "Epoch 53, change: 0.00235449\n",
      "Epoch 54, change: 0.00233578\n",
      "Epoch 55, change: 0.00231729\n",
      "Epoch 56, change: 0.00229901\n",
      "Epoch 57, change: 0.00228092\n",
      "Epoch 58, change: 0.00226301\n",
      "Epoch 59, change: 0.00224528\n",
      "Epoch 60, change: 0.00222772\n",
      "Epoch 61, change: 0.00221035\n",
      "Epoch 62, change: 0.00219314\n",
      "Epoch 63, change: 0.00217611\n",
      "Epoch 64, change: 0.00215925\n",
      "Epoch 65, change: 0.00214255\n",
      "Epoch 66, change: 0.00212602\n",
      "Epoch 67, change: 0.00210965\n",
      "Epoch 68, change: 0.00209344\n",
      "Epoch 69, change: 0.00207739\n",
      "Epoch 70, change: 0.00206120\n",
      "Epoch 71, change: 0.00204530\n",
      "Epoch 72, change: 0.00202975\n",
      "Epoch 73, change: 0.00201424\n",
      "Epoch 74, change: 0.00199894\n",
      "Epoch 75, change: 0.00198380\n",
      "Epoch 76, change: 0.00196889\n",
      "Epoch 77, change: 0.00195390\n",
      "Epoch 78, change: 0.00193921\n",
      "Epoch 79, change: 0.00192459\n",
      "Epoch 80, change: 0.00191017\n",
      "Epoch 81, change: 0.00189583\n",
      "Epoch 82, change: 0.00188165\n",
      "Epoch 83, change: 0.00186762\n",
      "Epoch 84, change: 0.00185371\n",
      "Epoch 85, change: 0.00183993\n",
      "Epoch 86, change: 0.00182628\n",
      "Epoch 87, change: 0.00181276\n",
      "Epoch 88, change: 0.00179936\n",
      "Epoch 89, change: 0.00178608\n",
      "Epoch 90, change: 0.00177293\n",
      "Epoch 91, change: 0.00136757\n",
      "convergence after 92 epochs took 30 seconds\n",
      "\n",
      "<Test Report>\n",
      "Precision: [no diabetes] 0.8471483137997453, [pre-diabetes] 0.13687748243201955, [diabetes] 0.019443904335990667\n",
      "Recall: [no diabetes] 0.6071219671977727, [pre-diabetes] 0.19012590182486916, [diabetes] 0.2159827213822894\n",
      "F1-Score: [no diabetes] 0.7073270457395192, [pre-diabetes] 0.15916627190904784, [diabetes] 0.03567606136282554\n",
      "Support: [no diabetes] 42741, [pre-diabetes] 7069, [diabetes] 926\n",
      "Accuracy: 54.1883%\n",
      "Macro-F1: 0.3007\n"
=======
      "Epoch 2, change: 0.25225974\n",
      "Epoch 3, change: 0.13470629\n",
      "Epoch 4, change: 0.09814960\n",
      "Epoch 5, change: 0.05012524\n",
      "Epoch 6, change: 0.02037335\n",
      "Epoch 7, change: 0.01588300\n",
      "Epoch 8, change: 0.00989571\n",
      "Epoch 9, change: 0.00782193\n",
      "Epoch 10, change: 0.00618506\n",
      "Epoch 11, change: 0.00414319\n",
      "Epoch 12, change: 0.00409114\n",
      "Epoch 13, change: 0.00379375\n",
      "Epoch 14, change: 0.00350049\n",
      "Epoch 15, change: 0.00411181\n",
      "Epoch 16, change: 0.00482170\n",
      "Epoch 17, change: 0.00324488\n",
      "Epoch 18, change: 0.00323704\n",
      "Epoch 19, change: 0.00317663\n",
      "Epoch 20, change: 0.00313845\n",
      "Epoch 21, change: 0.00308866\n",
      "Epoch 22, change: 0.00306360\n",
      "Epoch 23, change: 0.00303443\n",
      "Epoch 24, change: 0.00300900\n",
      "Epoch 25, change: 0.00296859\n",
      "Epoch 26, change: 0.00294248\n",
      "Epoch 27, change: 0.00291729\n",
      "Epoch 28, change: 0.00289259\n",
      "Epoch 29, change: 0.00286814\n",
      "Epoch 30, change: 0.00284392\n",
      "Epoch 31, change: 0.00282000\n",
      "Epoch 32, change: 0.00279636\n",
      "Epoch 33, change: 0.00277298\n",
      "Epoch 34, change: 0.00274987\n",
      "Epoch 35, change: 0.00272701\n",
      "Epoch 36, change: 0.00270440\n",
      "Epoch 37, change: 0.00268205\n",
      "Epoch 38, change: 0.00265993\n",
      "Epoch 39, change: 0.00263806\n",
      "Epoch 40, change: 0.00261642\n",
      "Epoch 41, change: 0.00259501\n",
      "Epoch 42, change: 0.00257384\n",
      "Epoch 43, change: 0.00255289\n",
      "Epoch 44, change: 0.00253216\n",
      "Epoch 45, change: 0.00251166\n",
      "Epoch 46, change: 0.00249137\n",
      "Epoch 47, change: 0.00247129\n",
      "Epoch 48, change: 0.00245143\n",
      "Epoch 49, change: 0.00243177\n",
      "Epoch 50, change: 0.00241232\n",
      "Epoch 51, change: 0.00239307\n",
      "Epoch 52, change: 0.00237310\n",
      "Epoch 53, change: 0.00235429\n",
      "Epoch 54, change: 0.00233558\n",
      "Epoch 55, change: 0.00231710\n",
      "Epoch 56, change: 0.00229883\n",
      "Epoch 57, change: 0.00228074\n",
      "Epoch 58, change: 0.00226282\n",
      "Epoch 59, change: 0.00224510\n",
      "Epoch 60, change: 0.00222754\n",
      "Epoch 61, change: 0.00221017\n",
      "Epoch 62, change: 0.00219297\n",
      "Epoch 63, change: 0.00217594\n",
      "Epoch 64, change: 0.00215908\n",
      "Epoch 65, change: 0.00214238\n",
      "Epoch 66, change: 0.00212585\n",
      "Epoch 67, change: 0.00210949\n",
      "Epoch 68, change: 0.00209328\n",
      "Epoch 69, change: 0.00207723\n",
      "Epoch 70, change: 0.00206106\n",
      "Epoch 71, change: 0.00204514\n",
      "Epoch 72, change: 0.00202959\n",
      "Epoch 73, change: 0.00201408\n",
      "Epoch 74, change: 0.00199879\n",
      "Epoch 75, change: 0.00198365\n",
      "Epoch 76, change: 0.00196874\n",
      "Epoch 77, change: 0.00195375\n",
      "Epoch 78, change: 0.00193905\n",
      "Epoch 79, change: 0.00192444\n",
      "Epoch 80, change: 0.00191002\n",
      "Epoch 81, change: 0.00189569\n",
      "Epoch 82, change: 0.00188151\n",
      "Epoch 83, change: 0.00186747\n",
      "Epoch 84, change: 0.00185357\n",
      "Epoch 85, change: 0.00183979\n",
      "Epoch 86, change: 0.00182615\n",
      "Epoch 87, change: 0.00181262\n",
      "Epoch 88, change: 0.00179922\n",
      "Epoch 89, change: 0.00178595\n",
      "Epoch 90, change: 0.00177280\n",
      "Epoch 91, change: 0.00153851\n",
      "convergence after 92 epochs took 41 seconds\n",
      "\n",
      "<Test Report>\n",
      "Precision: [no diabetes] 0.9571128550900851, [pre-diabetes] 0.3327771329077191, [diabetes] 0.028437468147997146\n",
      "Recall: [no diabetes] 0.6077770758756229, [pre-diabetes] 0.6488895176121092, [diabetes] 0.30129589632829373\n",
      "F1-Score: [no diabetes] 0.7434532497638877, [pre-diabetes] 0.43993669975543087, [diabetes] 0.051969823973176864\n",
      "Support: [no diabetes] 42741, [pre-diabetes] 7069, [diabetes] 926\n",
      "Accuracy: 60.7912%\n",
      "Macro-F1: 0.4118\n"
     ]
    },
    {
     "name": "stderr",
     "output_type": "stream",
     "text": [
      "/home/arjun/anaconda3/lib/python3.11/site-packages/sklearn/base.py:493: UserWarning: X does not have valid feature names, but StandardScaler was fitted with feature names\n",
      "  warnings.warn(\n"
>>>>>>> 2c04006 (reshifting some code cause it broke)
     ]
    }
   ],
   "source": [
    "# generate lookup for models\n",
    "models = {\n",
    "    \"tree\": TreeClassifier(target=\"diabetes\", path=\"../datasets/pre_split_processed.parquet\", upsample=True),\n",
    "    \"ffnn\": MLPClassifier(target=\"diabetes\", path=\"../datasets/pre_split_processed.parquet\", upsample=True, loss_balance=False),\n",
    "    \"log\": LogClassifier(target=\"diabetes\", path=\"../datasets/pre_split_processed.parquet\", upsample=True)\n",
    "}\n",
    "\n",
    "# manual search\n",
    "models[\"tree\"].set_hyperparams({\n",
    "    \"loss\": \"log_loss\",\n",
    "    \"learning_rate\": 0.01,\n",
    "    \"n_estimators\": 100,\n",
    "    \"criterion\": \"friedman_mse\",\n",
    "    \"min_samples_split\": 5,\n",
    "    \"min_samples_leaf\": 5,\n",
    "    \"max_depth\": 8,\n",
    "    \"n_iter_no_change\": 5,\n",
    "    \"max_features\": \"sqrt\",\n",
    "    \"tol\": 0.0001\n",
    "})\n",
    "models[\"ffnn\"].set_hyperparams({\n",
    "    \"input_size\": 21,\n",
    "    \"output_size\": 3,\n",
    "    \"hidden_size\": 1024,\n",
    "    \"num_hidden\": 4,\n",
    "    \"num_epochs\": 50,\n",
    "    \"batch_size\": 64,\n",
    "    \"learning_rate\": 5e-05,\n",
    "    \"dropout_rate\": 0.9,\n",
    "    \"classify_fn\": \"sigmoid\"\n",
    "})\n",
    "\n",
    "# train & test basic model\n",
    "skip_models = [\"log\", \"ffnn\", \"tree\"]\n",
    "for mt, model in models.items():\n",
    "    # attempt to load, else train and test\n",
    "    if (mt in skip_models) or (not model.load_model()):\n",
    "        model.train_model(verbose=2)\n",
    "    model.test_model()"
   ]
  },
  {
   "cell_type": "markdown",
   "metadata": {},
   "source": [
    "***\n",
    "## Hyperparameter Optimization"
   ]
  },
  {
   "cell_type": "code",
   "execution_count": 3,
   "metadata": {},
   "outputs": [],
   "source": [
    "# optimize hyperparams\n",
    "# optimizer_results = {model_type: model.optimize_hyperparams(kfold=2) for model_type, model in models.items()}\n",
    "# print(optimizer_results)"
   ]
  },
  {
   "cell_type": "markdown",
   "metadata": {},
   "source": [
    "***\n",
    "## Fine-Tuning + Other Adjustments"
   ]
  },
  {
   "cell_type": "code",
   "execution_count": null,
   "metadata": {},
   "outputs": [],
   "source": []
  },
  {
   "cell_type": "markdown",
   "metadata": {},
   "source": [
    "***\n",
    "## Best Model Report"
   ]
  },
  {
   "cell_type": "code",
   "execution_count": 4,
   "metadata": {},
   "outputs": [
    {
<<<<<<< HEAD
     "data": {
      "text/plain": [
       "{'high_bp': 0.0,\n",
       " 'high_chol': 0.014954375993543193,\n",
       " 'chol_check': 0.0,\n",
       " 'bmi': -0.05122772492138329,\n",
       " 'smoker': -0.6397699932031862,\n",
       " 'stroke': -0.4028307245204736,\n",
       " 'heart_disease': -0.3341685368854179,\n",
       " 'physical_activity': 0.022742793137033528,\n",
       " 'fruits': -0.15132944570789003,\n",
       " 'veggies': 0.04003559709174568,\n",
       " 'heavy_drinker': 0.0,\n",
       " 'healthcare': 0.0,\n",
       " 'no_doc_bc_cost': 0.0046205032673512884,\n",
       " 'general_health': 0.14369490914009092,\n",
       " 'mental_health': 0.05993890450959239,\n",
       " 'physical_health': 0.08058307309086526,\n",
       " 'diff_walk': 0.0,\n",
       " 'sex': -0.02492717915350646,\n",
       " 'age': 0.0,\n",
       " 'education': -0.2332485206103297,\n",
       " 'income': -0.40735943112418443}"
      ]
     },
     "execution_count": 4,
     "metadata": {},
     "output_type": "execute_result"
=======
     "ename": "AttributeError",
     "evalue": "'LogisticRegression' object has no attribute 'feature_names_in_'",
     "output_type": "error",
     "traceback": [
      "\u001b[0;31m---------------------------------------------------------------------------\u001b[0m",
      "\u001b[0;31mAttributeError\u001b[0m                            Traceback (most recent call last)",
      "Cell \u001b[0;32mIn[4], line 1\u001b[0m\n\u001b[0;32m----> 1\u001b[0m \u001b[43mmodels\u001b[49m\u001b[43m[\u001b[49m\u001b[38;5;124;43m\"\u001b[39;49m\u001b[38;5;124;43mlog\u001b[39;49m\u001b[38;5;124;43m\"\u001b[39;49m\u001b[43m]\u001b[49m\u001b[38;5;241;43m.\u001b[39;49m\u001b[43mexplain_model\u001b[49m\u001b[43m(\u001b[49m\u001b[43m)\u001b[49m\n",
      "File \u001b[0;32m~/ucdavis-courses/ecs-171/project/notebooks/utils/model.py:1365\u001b[0m, in \u001b[0;36mLogClassifier.explain_model\u001b[0;34m(self, **kwargs)\u001b[0m\n\u001b[1;32m   1363\u001b[0m \u001b[38;5;66;03m# unpack coefs\u001b[39;00m\n\u001b[1;32m   1364\u001b[0m coefs \u001b[38;5;241m=\u001b[39m \u001b[38;5;28mlist\u001b[39m(\u001b[38;5;28mself\u001b[39m\u001b[38;5;241m.\u001b[39mmodel\u001b[38;5;241m.\u001b[39mcoef_[\u001b[38;5;241m0\u001b[39m])\n\u001b[0;32m-> 1365\u001b[0m feature_names \u001b[38;5;241m=\u001b[39m \u001b[38;5;28mlist\u001b[39m(\u001b[38;5;28;43mself\u001b[39;49m\u001b[38;5;241;43m.\u001b[39;49m\u001b[43mmodel\u001b[49m\u001b[38;5;241;43m.\u001b[39;49m\u001b[43mfeature_names_in_\u001b[49m)\n\u001b[1;32m   1367\u001b[0m \u001b[38;5;66;03m# print report\u001b[39;00m\n\u001b[1;32m   1368\u001b[0m importance \u001b[38;5;241m=\u001b[39m \u001b[38;5;28mdict\u001b[39m(\u001b[38;5;28mzip\u001b[39m(feature_names, coefs))\n",
      "\u001b[0;31mAttributeError\u001b[0m: 'LogisticRegression' object has no attribute 'feature_names_in_'"
     ]
>>>>>>> 2c04006 (reshifting some code cause it broke)
    }
   ],
   "source": [
    "models[\"log\"].explain_model()"
   ]
  },
  {
   "cell_type": "markdown",
   "metadata": {},
   "source": [
    "***\n",
    "## Interpretation"
   ]
  },
  {
   "cell_type": "markdown",
   "metadata": {},
   "source": []
  },
  {
   "cell_type": "markdown",
   "metadata": {},
   "source": [
    "***\n",
    "## Conclusion"
   ]
  }
 ],
 "metadata": {
  "kernelspec": {
   "display_name": "base",
   "language": "python",
   "name": "python3"
  },
  "language_info": {
   "codemirror_mode": {
    "name": "ipython",
    "version": 3
   },
   "file_extension": ".py",
   "mimetype": "text/x-python",
   "name": "python",
   "nbconvert_exporter": "python",
   "pygments_lexer": "ipython3",
   "version": "3.12.0"
  }
 },
 "nbformat": 4,
 "nbformat_minor": 2
}
