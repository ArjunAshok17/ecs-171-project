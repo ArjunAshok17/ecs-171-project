{
 "cells": [
  {
   "cell_type": "markdown",
   "metadata": {},
   "source": [
    "# Modeling\n",
    "In this notebook, we'll be modeling the data we've previously prepared. Out notebook will be laid out as follows:\n",
    "\n",
    "1. Model Selection & Generation\n",
    "2. Hyperparameter Optimization\n",
    "3. Fine-Tuning (if needed)\n",
    "4. Reporting Best Model(s) + Settings\n",
    "5. Interpretation\n",
    "6. Conclusion\n",
    "\n",
    "Our eventual goal here is two-fold:\n",
    "\n",
    "1. Accurately [and fairly] model the diabetes dataset\n",
    "2. Interpret the results to find something worth recommending to those wanting to reduce risk of diabetes. This can be via LIME/SHAP (i.e. some interpretable model that approximates the neural network) or via analyzing a more simple model's structure (i.e. regression coefficients, random forest decision boundaries)"
   ]
  },
  {
   "cell_type": "code",
   "execution_count": 1,
   "metadata": {},
   "outputs": [],
   "source": [
    "# Environment Setup\n",
    "from utils.model import *\n",
    "from utils.dataset import *"
   ]
  },
  {
   "cell_type": "markdown",
   "metadata": {},
   "source": [
    "***\n",
    "## Model Selection & Generation"
   ]
  },
  {
   "cell_type": "code",
   "execution_count": 2,
   "metadata": {},
   "outputs": [
    {
     "name": "stdout",
     "output_type": "stream",
     "text": [
      "<Train-Test Split Report>\n",
      "Train: 512886 obs, 170962 no diabetes [0], 170962 pre-diabetes [1], 170962 diabetes [2]\n",
      "Test: 50736 obs, 42741 no diabetes [0], 926 pre-diabetes [1], 7069 diabetes [2]\n",
      "Epoch 1, change: 1.00000000\n",
      "Epoch 2, change: 0.25288282\n",
      "Epoch 3, change: 0.13426843\n",
      "Epoch 4, change: 0.09815333\n",
      "Epoch 5, change: 0.05010894\n",
      "Epoch 6, change: 0.02040064\n",
      "Epoch 7, change: 0.01590639\n",
      "Epoch 8, change: 0.00988835\n",
      "Epoch 9, change: 0.00781600\n",
      "Epoch 10, change: 0.00618078\n",
      "Epoch 11, change: 0.00414695\n",
      "Epoch 12, change: 0.00408930\n",
      "Epoch 13, change: 0.00379298\n",
      "Epoch 14, change: 0.00350046\n",
      "Epoch 15, change: 0.00410844\n",
      "Epoch 16, change: 0.00481783\n",
      "Epoch 17, change: 0.00324526\n",
      "Epoch 18, change: 0.00323737\n",
      "Epoch 19, change: 0.00317722\n",
      "Epoch 20, change: 0.00313871\n",
      "Epoch 21, change: 0.00308889\n",
      "Epoch 22, change: 0.00306387\n",
      "Epoch 23, change: 0.00303466\n",
      "Epoch 24, change: 0.00300925\n",
      "Epoch 25, change: 0.00296886\n",
      "Epoch 26, change: 0.00294275\n",
      "Epoch 27, change: 0.00291758\n",
      "Epoch 28, change: 0.00289285\n",
      "Epoch 29, change: 0.00286840\n",
      "Epoch 30, change: 0.00284418\n",
      "Epoch 31, change: 0.00282025\n",
      "Epoch 32, change: 0.00279661\n",
      "Epoch 33, change: 0.00277323\n",
      "Epoch 34, change: 0.00275011\n",
      "Epoch 35, change: 0.00272725\n",
      "Epoch 36, change: 0.00270464\n",
      "Epoch 37, change: 0.00268228\n",
      "Epoch 38, change: 0.00266016\n",
      "Epoch 39, change: 0.00263829\n",
      "Epoch 40, change: 0.00261665\n",
      "Epoch 41, change: 0.00259524\n",
      "Epoch 42, change: 0.00257406\n",
      "Epoch 43, change: 0.00255311\n",
      "Epoch 44, change: 0.00253238\n",
      "Epoch 45, change: 0.00251187\n",
      "Epoch 46, change: 0.00249158\n",
      "Epoch 47, change: 0.00247151\n",
      "Epoch 48, change: 0.00245164\n",
      "Epoch 49, change: 0.00243198\n",
      "Epoch 50, change: 0.00241252\n",
      "Epoch 51, change: 0.00239327\n",
      "Epoch 52, change: 0.00237330\n",
      "Epoch 53, change: 0.00235449\n",
      "Epoch 54, change: 0.00233578\n",
      "Epoch 55, change: 0.00231729\n",
      "Epoch 56, change: 0.00229901\n",
      "Epoch 57, change: 0.00228092\n",
      "Epoch 58, change: 0.00226301\n",
      "Epoch 59, change: 0.00224528\n",
      "Epoch 60, change: 0.00222772\n",
      "Epoch 61, change: 0.00221035\n",
      "Epoch 62, change: 0.00219314\n",
      "Epoch 63, change: 0.00217611\n",
      "Epoch 64, change: 0.00215925\n",
      "Epoch 65, change: 0.00214255\n",
      "Epoch 66, change: 0.00212602\n",
      "Epoch 67, change: 0.00210965\n",
      "Epoch 68, change: 0.00209344\n",
      "Epoch 69, change: 0.00207739\n",
      "Epoch 70, change: 0.00206120\n",
      "Epoch 71, change: 0.00204530\n",
      "Epoch 72, change: 0.00202975\n",
      "Epoch 73, change: 0.00201424\n",
      "Epoch 74, change: 0.00199894\n",
      "Epoch 75, change: 0.00198380\n",
      "Epoch 76, change: 0.00196889\n",
      "Epoch 77, change: 0.00195390\n",
      "Epoch 78, change: 0.00193921\n",
      "Epoch 79, change: 0.00192459\n",
      "Epoch 80, change: 0.00191017\n",
      "Epoch 81, change: 0.00189583\n",
      "Epoch 82, change: 0.00188165\n",
      "Epoch 83, change: 0.00186762\n",
      "Epoch 84, change: 0.00185371\n",
      "Epoch 85, change: 0.00183993\n",
      "Epoch 86, change: 0.00182628\n",
      "Epoch 87, change: 0.00181276\n",
      "Epoch 88, change: 0.00179936\n",
      "Epoch 89, change: 0.00178608\n",
      "Epoch 90, change: 0.00177293\n",
      "Epoch 91, change: 0.00136757\n",
      "convergence after 92 epochs took 30 seconds\n",
      "\n",
      "<Test Report>\n",
      "Precision: [no diabetes] 0.8471483137997453, [pre-diabetes] 0.13687748243201955, [diabetes] 0.019443904335990667\n",
      "Recall: [no diabetes] 0.6071219671977727, [pre-diabetes] 0.19012590182486916, [diabetes] 0.2159827213822894\n",
      "F1-Score: [no diabetes] 0.7073270457395192, [pre-diabetes] 0.15916627190904784, [diabetes] 0.03567606136282554\n",
      "Support: [no diabetes] 42741, [pre-diabetes] 7069, [diabetes] 926\n",
      "Accuracy: 54.1883%\n",
      "Macro-F1: 0.3007\n"
     ]
    }
   ],
   "source": [
    "# generate lookup for models\n",
    "models = {\n",
    "    # \"tree\": TreeClassifier(target=\"diabetes\", path=\"../datasets/pre_split_processed.parquet\", upsample=True),\n",
    "    # \"ffnn\": MLPClassifier(target=\"diabetes\", path=\"../datasets/pre_split_processed.parquet\", upsample=False, loss_balance=False),\n",
    "    \"log\": LogClassifier(target=\"diabetes\", path=\"../datasets/pre_split_processed.parquet\", upsample=True)\n",
    "}\n",
    "\n",
    "# manual search\n",
    "# models[\"tree\"].set_hyperparams({\n",
    "#     \"loss\": \"log_loss\",\n",
    "#     \"learning_rate\": 0.01,\n",
    "#     \"n_estimators\": 100,\n",
    "#     \"criterion\": \"friedman_mse\",\n",
    "#     \"min_samples_split\": 5,\n",
    "#     \"min_samples_leaf\": 5,\n",
    "#     \"max_depth\": 8,\n",
    "#     \"n_iter_no_change\": 5,\n",
    "#     \"max_features\": \"sqrt\",\n",
    "#     \"tol\": 0.0001\n",
    "# })\n",
    "# models[\"ffnn\"].set_hyperparams({\n",
    "#     \"learning_rate\": .0005,\n",
    "#     \"batch_size\": 256,\n",
    "#     \"num_hidden\": 8,\n",
    "#     \"hidden_size\": [2048, 1024, 512, 256, 128, 64, 32, 32],\n",
    "#     \"num_epochs\": 50,\n",
    "#     \"dropout_rate\": [0.875, 0.75, 0.75, 0.5, 0.5, 0.25, 0.25],\n",
    "#     \"classify_fn\": \"sigmoid\"\n",
    "# })\n",
    "# models[\"ffnn\"].set_hyperparams({\n",
    "#     \"learning_rate\": .001,\n",
    "#     \"batch_size\": 32,\n",
    "#     \"num_hidden\": 4,\n",
    "#     \"hidden_size\": [128, 64, 64, 32],\n",
    "#     \"num_epochs\": 50,\n",
    "#     \"dropout_rate\": [0.5, 0.4, 0.3, 0.2],\n",
    "#     \"classify_fn\": \"sigmoid\"\n",
    "# # })\n",
    "# models[\"ffnn\"].set_hyperparams({\n",
    "#     \"input_size\": 21,\n",
    "#     \"output_size\": 3,\n",
    "#     \"hidden_size\": 1024,\n",
    "#     \"num_hidden\": 4,\n",
    "#     \"num_epochs\": 50,\n",
    "#     \"batch_size\": 64,\n",
    "#     \"learning_rate\": 5e-05,\n",
    "#     \"dropout_rate\": 0.9,\n",
    "#     \"classify_fn\": \"sigmoid\"\n",
    "# })\n",
    "# models[\"ffnn\"].set_hyperparams({\n",
    "#     \"input_size\": 21,\n",
    "#     \"output_size\": 3,\n",
    "#     \"hidden_size\": 512,\n",
    "#     \"num_hidden\": 2,\n",
    "#     \"num_epochs\": 50,\n",
    "#     \"batch_size\": 128,\n",
    "#     \"dropout_rate\": 0.4,\n",
    "#     \"learning_rate\": 0.0005\n",
    "# })\n",
    "\n",
    "# train & test basic model\n",
    "skip_models = [\"log\"]#[\"ffnn\", \"log\"]\n",
    "for mt, model in models.items():\n",
    "    # attempt to load, else train and test\n",
    "    if (mt in skip_models) or (not model.load_model()):\n",
    "        model.train_model(verbose=2)\n",
    "    model.test_model()"
   ]
  },
  {
   "cell_type": "markdown",
   "metadata": {},
   "source": [
    "***\n",
    "## Hyperparameter Optimization"
   ]
  },
  {
   "cell_type": "code",
   "execution_count": 3,
   "metadata": {},
   "outputs": [],
   "source": [
    "# optimize hyperparams\n",
    "# optimizer_results = {model_type: model.optimize_hyperparams(kfold=2) for model_type, model in models.items()}\n",
    "# print(optimizer_results)"
   ]
  },
  {
   "cell_type": "markdown",
   "metadata": {},
   "source": [
    "***\n",
    "## Fine-Tuning + Other Adjustments"
   ]
  },
  {
   "cell_type": "code",
   "execution_count": null,
   "metadata": {},
   "outputs": [],
   "source": []
  },
  {
   "cell_type": "markdown",
   "metadata": {},
   "source": [
    "***\n",
    "## Best Model Report"
   ]
  },
  {
   "cell_type": "code",
   "execution_count": 4,
   "metadata": {},
   "outputs": [
    {
     "data": {
      "text/plain": [
       "{'high_bp': 0.0,\n",
       " 'high_chol': 0.014954375993543193,\n",
       " 'chol_check': 0.0,\n",
       " 'bmi': -0.05122772492138329,\n",
       " 'smoker': -0.6397699932031862,\n",
       " 'stroke': -0.4028307245204736,\n",
       " 'heart_disease': -0.3341685368854179,\n",
       " 'physical_activity': 0.022742793137033528,\n",
       " 'fruits': -0.15132944570789003,\n",
       " 'veggies': 0.04003559709174568,\n",
       " 'heavy_drinker': 0.0,\n",
       " 'healthcare': 0.0,\n",
       " 'no_doc_bc_cost': 0.0046205032673512884,\n",
       " 'general_health': 0.14369490914009092,\n",
       " 'mental_health': 0.05993890450959239,\n",
       " 'physical_health': 0.08058307309086526,\n",
       " 'diff_walk': 0.0,\n",
       " 'sex': -0.02492717915350646,\n",
       " 'age': 0.0,\n",
       " 'education': -0.2332485206103297,\n",
       " 'income': -0.40735943112418443}"
      ]
     },
     "execution_count": 4,
     "metadata": {},
     "output_type": "execute_result"
    }
   ],
   "source": [
    "models[\"log\"].explain_model()"
   ]
  },
  {
   "cell_type": "markdown",
   "metadata": {},
   "source": [
    "***\n",
    "## Interpretation"
   ]
  },
  {
   "cell_type": "markdown",
   "metadata": {},
   "source": []
  },
  {
   "cell_type": "markdown",
   "metadata": {},
   "source": [
    "***\n",
    "## Conclusion"
   ]
  }
 ],
 "metadata": {
  "kernelspec": {
   "display_name": "base",
   "language": "python",
   "name": "python3"
  },
  "language_info": {
   "codemirror_mode": {
    "name": "ipython",
    "version": 3
   },
   "file_extension": ".py",
   "mimetype": "text/x-python",
   "name": "python",
   "nbconvert_exporter": "python",
   "pygments_lexer": "ipython3",
   "version": "3.12.0"
  }
 },
 "nbformat": 4,
 "nbformat_minor": 2
}
