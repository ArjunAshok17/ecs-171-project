{
 "cells": [
  {
   "cell_type": "markdown",
   "metadata": {},
   "source": [
    "# Modeling\n",
    "In this notebook, we'll be modeling the data we've previously prepared. Out notebook will be laid out as follows:\n",
    "\n",
    "1. Model Selection & Generation\n",
    "2. Hyperparameter Optimization\n",
    "3. Fine-Tuning (if needed)\n",
    "4. Reporting Best Model(s) + Settings\n",
    "5. Interpretation\n",
    "6. Conclusion\n",
    "\n",
    "Our eventual goal here is two-fold:\n",
    "\n",
    "1. Accurately [and fairly] model the diabetes dataset\n",
    "2. Interpret the results to find something worth recommending to those wanting to reduce risk of diabetes. This can be via LIME/SHAP (i.e. some interpretable model that approximates the neural network) or via analyzing a more simple model's structure (i.e. regression coefficients, random forest decision boundaries)"
   ]
  },
  {
   "cell_type": "code",
   "execution_count": 1,
   "metadata": {},
   "outputs": [],
   "source": [
    "# Environment Setup\n",
    "from utils.model import *\n",
    "from utils.dataset import *"
   ]
  },
  {
   "cell_type": "markdown",
   "metadata": {},
   "source": [
    "***\n",
    "## Model Selection & Generation"
   ]
  },
  {
   "cell_type": "code",
   "execution_count": 2,
   "metadata": {},
   "outputs": [
    {
     "name": "stdout",
     "output_type": "stream",
     "text": [
      "<Train-Test Split Report>\n",
      "Train: 512887 obs, 170945 no diabetes [0], 171126 pre-diabetes [1], 170816 diabetes [2]\n",
      "Test: 128222 obs, 42758 no diabetes [0], 42577 pre-diabetes [1], 42887 diabetes [2]\n",
      "<WARNING> found 0 entries in model lookup :(\n"
     ]
    },
    {
     "name": "stderr",
     "output_type": "stream",
     "text": [
      " 23%|██▎       | 3707/16028 [00:04<00:16, 741.96it/s]\n"
     ]
    },
    {
     "ename": "KeyboardInterrupt",
     "evalue": "",
     "output_type": "error",
     "traceback": [
      "\u001b[0;31m---------------------------------------------------------------------------\u001b[0m",
      "\u001b[0;31mKeyboardInterrupt\u001b[0m                         Traceback (most recent call last)",
      "Cell \u001b[0;32mIn[2], line 12\u001b[0m\n\u001b[1;32m      9\u001b[0m \u001b[38;5;28;01mfor\u001b[39;00m mt, model \u001b[38;5;129;01min\u001b[39;00m models\u001b[38;5;241m.\u001b[39mitems():\n\u001b[1;32m     10\u001b[0m     \u001b[38;5;66;03m# attempt to load, else train and test\u001b[39;00m\n\u001b[1;32m     11\u001b[0m     \u001b[38;5;28;01mif\u001b[39;00m \u001b[38;5;129;01mnot\u001b[39;00m model\u001b[38;5;241m.\u001b[39mload_model():\n\u001b[0;32m---> 12\u001b[0m         \u001b[43mmodel\u001b[49m\u001b[38;5;241;43m.\u001b[39;49m\u001b[43mtrain_model\u001b[49m\u001b[43m(\u001b[49m\u001b[43m)\u001b[49m\n\u001b[1;32m     13\u001b[0m     model\u001b[38;5;241m.\u001b[39mtest_model()\n",
      "File \u001b[0;32m~/ucdavis-courses/ecs-171/project/notebooks/utils/model.py:630\u001b[0m, in \u001b[0;36mMLPClassifier.train_model\u001b[0;34m(self)\u001b[0m\n\u001b[1;32m    628\u001b[0m \u001b[38;5;66;03m# loss + backprop\u001b[39;00m\n\u001b[1;32m    629\u001b[0m loss \u001b[38;5;241m=\u001b[39m \u001b[38;5;28mself\u001b[39m\u001b[38;5;241m.\u001b[39mloss_fn(outputs, labels)\n\u001b[0;32m--> 630\u001b[0m \u001b[43mloss\u001b[49m\u001b[38;5;241;43m.\u001b[39;49m\u001b[43mbackward\u001b[49m\u001b[43m(\u001b[49m\u001b[43m)\u001b[49m\n\u001b[1;32m    631\u001b[0m \u001b[38;5;28mself\u001b[39m\u001b[38;5;241m.\u001b[39moptimizer\u001b[38;5;241m.\u001b[39mstep()\n\u001b[1;32m    633\u001b[0m \u001b[38;5;66;03m# track loss\u001b[39;00m\n",
      "File \u001b[0;32m~/anaconda3/lib/python3.11/site-packages/torch/_tensor.py:525\u001b[0m, in \u001b[0;36mTensor.backward\u001b[0;34m(self, gradient, retain_graph, create_graph, inputs)\u001b[0m\n\u001b[1;32m    515\u001b[0m \u001b[38;5;28;01mif\u001b[39;00m has_torch_function_unary(\u001b[38;5;28mself\u001b[39m):\n\u001b[1;32m    516\u001b[0m     \u001b[38;5;28;01mreturn\u001b[39;00m handle_torch_function(\n\u001b[1;32m    517\u001b[0m         Tensor\u001b[38;5;241m.\u001b[39mbackward,\n\u001b[1;32m    518\u001b[0m         (\u001b[38;5;28mself\u001b[39m,),\n\u001b[0;32m   (...)\u001b[0m\n\u001b[1;32m    523\u001b[0m         inputs\u001b[38;5;241m=\u001b[39minputs,\n\u001b[1;32m    524\u001b[0m     )\n\u001b[0;32m--> 525\u001b[0m \u001b[43mtorch\u001b[49m\u001b[38;5;241;43m.\u001b[39;49m\u001b[43mautograd\u001b[49m\u001b[38;5;241;43m.\u001b[39;49m\u001b[43mbackward\u001b[49m\u001b[43m(\u001b[49m\n\u001b[1;32m    526\u001b[0m \u001b[43m    \u001b[49m\u001b[38;5;28;43mself\u001b[39;49m\u001b[43m,\u001b[49m\u001b[43m \u001b[49m\u001b[43mgradient\u001b[49m\u001b[43m,\u001b[49m\u001b[43m \u001b[49m\u001b[43mretain_graph\u001b[49m\u001b[43m,\u001b[49m\u001b[43m \u001b[49m\u001b[43mcreate_graph\u001b[49m\u001b[43m,\u001b[49m\u001b[43m \u001b[49m\u001b[43minputs\u001b[49m\u001b[38;5;241;43m=\u001b[39;49m\u001b[43minputs\u001b[49m\n\u001b[1;32m    527\u001b[0m \u001b[43m\u001b[49m\u001b[43m)\u001b[49m\n",
      "File \u001b[0;32m~/anaconda3/lib/python3.11/site-packages/torch/autograd/__init__.py:267\u001b[0m, in \u001b[0;36mbackward\u001b[0;34m(tensors, grad_tensors, retain_graph, create_graph, grad_variables, inputs)\u001b[0m\n\u001b[1;32m    262\u001b[0m     retain_graph \u001b[38;5;241m=\u001b[39m create_graph\n\u001b[1;32m    264\u001b[0m \u001b[38;5;66;03m# The reason we repeat the same comment below is that\u001b[39;00m\n\u001b[1;32m    265\u001b[0m \u001b[38;5;66;03m# some Python versions print out the first line of a multi-line function\u001b[39;00m\n\u001b[1;32m    266\u001b[0m \u001b[38;5;66;03m# calls in the traceback and some print out the last line\u001b[39;00m\n\u001b[0;32m--> 267\u001b[0m \u001b[43m_engine_run_backward\u001b[49m\u001b[43m(\u001b[49m\n\u001b[1;32m    268\u001b[0m \u001b[43m    \u001b[49m\u001b[43mtensors\u001b[49m\u001b[43m,\u001b[49m\n\u001b[1;32m    269\u001b[0m \u001b[43m    \u001b[49m\u001b[43mgrad_tensors_\u001b[49m\u001b[43m,\u001b[49m\n\u001b[1;32m    270\u001b[0m \u001b[43m    \u001b[49m\u001b[43mretain_graph\u001b[49m\u001b[43m,\u001b[49m\n\u001b[1;32m    271\u001b[0m \u001b[43m    \u001b[49m\u001b[43mcreate_graph\u001b[49m\u001b[43m,\u001b[49m\n\u001b[1;32m    272\u001b[0m \u001b[43m    \u001b[49m\u001b[43minputs\u001b[49m\u001b[43m,\u001b[49m\n\u001b[1;32m    273\u001b[0m \u001b[43m    \u001b[49m\u001b[43mallow_unreachable\u001b[49m\u001b[38;5;241;43m=\u001b[39;49m\u001b[38;5;28;43;01mTrue\u001b[39;49;00m\u001b[43m,\u001b[49m\n\u001b[1;32m    274\u001b[0m \u001b[43m    \u001b[49m\u001b[43maccumulate_grad\u001b[49m\u001b[38;5;241;43m=\u001b[39;49m\u001b[38;5;28;43;01mTrue\u001b[39;49;00m\u001b[43m,\u001b[49m\n\u001b[1;32m    275\u001b[0m \u001b[43m\u001b[49m\u001b[43m)\u001b[49m\n",
      "File \u001b[0;32m~/anaconda3/lib/python3.11/site-packages/torch/autograd/graph.py:744\u001b[0m, in \u001b[0;36m_engine_run_backward\u001b[0;34m(t_outputs, *args, **kwargs)\u001b[0m\n\u001b[1;32m    742\u001b[0m     unregister_hooks \u001b[38;5;241m=\u001b[39m _register_logging_hooks_on_whole_graph(t_outputs)\n\u001b[1;32m    743\u001b[0m \u001b[38;5;28;01mtry\u001b[39;00m:\n\u001b[0;32m--> 744\u001b[0m     \u001b[38;5;28;01mreturn\u001b[39;00m \u001b[43mVariable\u001b[49m\u001b[38;5;241;43m.\u001b[39;49m\u001b[43m_execution_engine\u001b[49m\u001b[38;5;241;43m.\u001b[39;49m\u001b[43mrun_backward\u001b[49m\u001b[43m(\u001b[49m\u001b[43m  \u001b[49m\u001b[38;5;66;43;03m# Calls into the C++ engine to run the backward pass\u001b[39;49;00m\n\u001b[1;32m    745\u001b[0m \u001b[43m        \u001b[49m\u001b[43mt_outputs\u001b[49m\u001b[43m,\u001b[49m\u001b[43m \u001b[49m\u001b[38;5;241;43m*\u001b[39;49m\u001b[43margs\u001b[49m\u001b[43m,\u001b[49m\u001b[43m \u001b[49m\u001b[38;5;241;43m*\u001b[39;49m\u001b[38;5;241;43m*\u001b[39;49m\u001b[43mkwargs\u001b[49m\n\u001b[1;32m    746\u001b[0m \u001b[43m    \u001b[49m\u001b[43m)\u001b[49m  \u001b[38;5;66;03m# Calls into the C++ engine to run the backward pass\u001b[39;00m\n\u001b[1;32m    747\u001b[0m \u001b[38;5;28;01mfinally\u001b[39;00m:\n\u001b[1;32m    748\u001b[0m     \u001b[38;5;28;01mif\u001b[39;00m attach_logging_hooks:\n",
      "\u001b[0;31mKeyboardInterrupt\u001b[0m: "
     ]
    }
   ],
   "source": [
    "# generate lookup for models\n",
    "models = {\n",
    "    # \"tree\": TreeClassifier(target=\"diabetes\", path=\"../datasets/processed.parquet\"),\n",
    "    \"ffnn\": MLPClassifier(target=\"diabetes\", path=\"../datasets/processed.parquet\")\n",
    "}\n",
    "models[\"ffnn\"].set_hyperparams({\"num_epochs\": 1, \"learning_rate\": 0.001})\n",
    "\n",
    "# train & test basic model\n",
    "for mt, model in models.items():\n",
    "    # attempt to load, else train and test\n",
    "    if not model.load_model():\n",
    "        model.train_model()\n",
    "    model.test_model()"
   ]
  },
  {
   "cell_type": "markdown",
   "metadata": {},
   "source": [
    "***\n",
    "## Hyperparameter Optimization"
   ]
  },
  {
   "cell_type": "code",
   "execution_count": null,
   "metadata": {},
   "outputs": [
    {
     "name": "stdout",
     "output_type": "stream",
     "text": [
      "Fitting 2 folds for each of 32 candidates, totalling 64 fits\n",
      "[CV 1/2] END criterion=friedman_mse, learning_rate=1, loss=log_loss, max_depth=3, max_features=log2, min_samples_leaf=10, min_samples_split=2, n_estimators=100, n_iter_no_change=5, tol=0.0001;, score=0.564 total time= 2.9min\n",
      "[CV 1/2] END criterion=friedman_mse, learning_rate=1, loss=log_loss, max_depth=3, max_features=log2, min_samples_leaf=2, min_samples_split=2, n_estimators=100, n_iter_no_change=5, tol=0.0001;, score=0.565 total time= 2.9min\n",
      "[CV 2/2] END criterion=friedman_mse, learning_rate=1, loss=log_loss, max_depth=3, max_features=log2, min_samples_leaf=2, min_samples_split=2, n_estimators=100, n_iter_no_change=5, tol=0.0001;, score=0.569 total time= 2.9min\n",
      "[CV 2/2] END criterion=friedman_mse, learning_rate=1, loss=log_loss, max_depth=3, max_features=log2, min_samples_leaf=10, min_samples_split=2, n_estimators=100, n_iter_no_change=5, tol=0.0001;, score=0.565 total time= 2.9min\n",
      "[CV 1/2] END criterion=friedman_mse, learning_rate=1, loss=log_loss, max_depth=5, max_features=log2, min_samples_leaf=2, min_samples_split=2, n_estimators=100, n_iter_no_change=5, tol=0.0001;, score=0.657 total time= 4.9min\n",
      "[CV 2/2] END criterion=friedman_mse, learning_rate=1, loss=log_loss, max_depth=5, max_features=log2, min_samples_leaf=2, min_samples_split=2, n_estimators=100, n_iter_no_change=5, tol=0.0001;, score=0.659 total time= 4.9min\n",
      "[CV 2/2] END criterion=friedman_mse, learning_rate=1, loss=log_loss, max_depth=3, max_features=log2, min_samples_leaf=10, min_samples_split=2, n_estimators=500, n_iter_no_change=5, tol=0.0001;, score=0.608 total time=11.1min\n",
      "[CV 1/2] END criterion=friedman_mse, learning_rate=1, loss=log_loss, max_depth=5, max_features=log2, min_samples_leaf=10, min_samples_split=2, n_estimators=100, n_iter_no_change=5, tol=0.0001;, score=0.656 total time= 4.8min\n",
      "[CV 2/2] END criterion=friedman_mse, learning_rate=1, loss=log_loss, max_depth=5, max_features=log2, min_samples_leaf=10, min_samples_split=2, n_estimators=100, n_iter_no_change=5, tol=0.0001;, score=0.659 total time= 4.8min\n",
      "[CV 1/2] END criterion=friedman_mse, learning_rate=1, loss=log_loss, max_depth=3, max_features=log2, min_samples_leaf=10, min_samples_split=2, n_estimators=500, n_iter_no_change=5, tol=0.0001;, score=0.612 total time=13.3min\n",
      "[CV 2/2] END criterion=friedman_mse, learning_rate=1, loss=log_loss, max_depth=3, max_features=log2, min_samples_leaf=2, min_samples_split=2, n_estimators=500, n_iter_no_change=5, tol=0.0001;, score=0.617 total time=14.6min\n",
      "[CV 1/2] END criterion=friedman_mse, learning_rate=1, loss=log_loss, max_depth=3, max_features=log2, min_samples_leaf=2, min_samples_split=2, n_estimators=500, n_iter_no_change=5, tol=0.0001;, score=0.619 total time=14.7min\n",
      "[CV 1/2] END criterion=friedman_mse, learning_rate=0.1, loss=log_loss, max_depth=3, max_features=log2, min_samples_leaf=2, min_samples_split=2, n_estimators=100, n_iter_no_change=5, tol=0.0001;, score=0.538 total time= 2.9min\n",
      "[CV 2/2] END criterion=friedman_mse, learning_rate=0.1, loss=log_loss, max_depth=3, max_features=log2, min_samples_leaf=2, min_samples_split=2, n_estimators=100, n_iter_no_change=5, tol=0.0001;, score=0.537 total time= 3.0min\n",
      "[CV 2/2] END criterion=friedman_mse, learning_rate=1, loss=log_loss, max_depth=5, max_features=log2, min_samples_leaf=2, min_samples_split=2, n_estimators=500, n_iter_no_change=5, tol=0.0001;, score=0.739 total time=15.0min\n",
      "[CV 1/2] END criterion=friedman_mse, learning_rate=0.1, loss=log_loss, max_depth=3, max_features=log2, min_samples_leaf=10, min_samples_split=2, n_estimators=100, n_iter_no_change=5, tol=0.0001;, score=0.535 total time= 2.8min\n",
      "[CV 2/2] END criterion=friedman_mse, learning_rate=0.1, loss=log_loss, max_depth=3, max_features=log2, min_samples_leaf=10, min_samples_split=2, n_estimators=100, n_iter_no_change=5, tol=0.0001;, score=0.537 total time= 3.0min\n",
      "[CV 1/2] END criterion=friedman_mse, learning_rate=0.1, loss=log_loss, max_depth=5, max_features=log2, min_samples_leaf=2, min_samples_split=2, n_estimators=100, n_iter_no_change=5, tol=0.0001;, score=0.563 total time= 5.0min\n",
      "[CV 1/2] END criterion=friedman_mse, learning_rate=1, loss=log_loss, max_depth=5, max_features=log2, min_samples_leaf=2, min_samples_split=2, n_estimators=500, n_iter_no_change=5, tol=0.0001;, score=0.777 total time=24.3min\n",
      "[CV 1/2] END criterion=friedman_mse, learning_rate=0.1, loss=log_loss, max_depth=3, max_features=log2, min_samples_leaf=2, min_samples_split=2, n_estimators=500, n_iter_no_change=5, tol=0.0001;, score=0.557 total time=14.4min\n",
      "[CV 2/2] END criterion=friedman_mse, learning_rate=0.1, loss=log_loss, max_depth=5, max_features=log2, min_samples_leaf=2, min_samples_split=2, n_estimators=100, n_iter_no_change=5, tol=0.0001;, score=0.568 total time= 4.9min\n",
      "[CV 2/2] END criterion=friedman_mse, learning_rate=0.1, loss=log_loss, max_depth=3, max_features=log2, min_samples_leaf=2, min_samples_split=2, n_estimators=500, n_iter_no_change=5, tol=0.0001;, score=0.558 total time=14.6min\n",
      "[CV 1/2] END criterion=friedman_mse, learning_rate=0.1, loss=log_loss, max_depth=3, max_features=log2, min_samples_leaf=10, min_samples_split=2, n_estimators=500, n_iter_no_change=5, tol=0.0001;, score=0.558 total time=14.4min\n",
      "[CV 2/2] END criterion=friedman_mse, learning_rate=0.1, loss=log_loss, max_depth=3, max_features=log2, min_samples_leaf=10, min_samples_split=2, n_estimators=500, n_iter_no_change=5, tol=0.0001;, score=0.557 total time=14.3min\n",
      "[CV 1/2] END criterion=friedman_mse, learning_rate=0.1, loss=log_loss, max_depth=5, max_features=log2, min_samples_leaf=10, min_samples_split=2, n_estimators=100, n_iter_no_change=5, tol=0.0001;, score=0.569 total time= 4.9min\n",
      "[CV 2/2] END criterion=friedman_mse, learning_rate=0.1, loss=log_loss, max_depth=5, max_features=log2, min_samples_leaf=10, min_samples_split=2, n_estimators=100, n_iter_no_change=5, tol=0.0001;, score=0.569 total time= 4.9min\n",
      "[CV 1/2] END criterion=friedman_mse, learning_rate=1, loss=log_loss, max_depth=5, max_features=log2, min_samples_leaf=10, min_samples_split=2, n_estimators=500, n_iter_no_change=5, tol=0.0001;, score=0.775 total time=24.1min\n",
      "[CV 2/2] END criterion=friedman_mse, learning_rate=1, loss=log_loss, max_depth=5, max_features=log2, min_samples_leaf=10, min_samples_split=2, n_estimators=500, n_iter_no_change=5, tol=0.0001;, score=0.777 total time=24.0min\n",
      "[CV 1/2] END criterion=friedman_mse, learning_rate=0.01, loss=log_loss, max_depth=3, max_features=log2, min_samples_leaf=2, min_samples_split=2, n_estimators=100, n_iter_no_change=5, tol=0.0001;, score=0.514 total time= 2.9min\n",
      "[CV 2/2] END criterion=friedman_mse, learning_rate=0.01, loss=log_loss, max_depth=3, max_features=log2, min_samples_leaf=2, min_samples_split=2, n_estimators=100, n_iter_no_change=5, tol=0.0001;, score=0.514 total time= 2.8min\n",
      "[CV 1/2] END criterion=friedman_mse, learning_rate=0.01, loss=log_loss, max_depth=3, max_features=log2, min_samples_leaf=10, min_samples_split=2, n_estimators=100, n_iter_no_change=5, tol=0.0001;, score=0.515 total time= 3.0min\n",
      "[CV 2/2] END criterion=friedman_mse, learning_rate=0.01, loss=log_loss, max_depth=3, max_features=log2, min_samples_leaf=10, min_samples_split=2, n_estimators=100, n_iter_no_change=5, tol=0.0001;, score=0.517 total time= 3.0min\n",
      "[CV 1/2] END criterion=friedman_mse, learning_rate=0.01, loss=log_loss, max_depth=3, max_features=log2, min_samples_leaf=2, min_samples_split=2, n_estimators=500, n_iter_no_change=5, tol=0.0001;, score=0.529 total time=14.8min\n",
      "[CV 1/2] END criterion=friedman_mse, learning_rate=0.1, loss=log_loss, max_depth=5, max_features=log2, min_samples_leaf=2, min_samples_split=2, n_estimators=500, n_iter_no_change=5, tol=0.0001;, score=0.639 total time=23.7min\n",
      "[CV 2/2] END criterion=friedman_mse, learning_rate=0.01, loss=log_loss, max_depth=3, max_features=log2, min_samples_leaf=2, min_samples_split=2, n_estimators=500, n_iter_no_change=5, tol=0.0001;, score=0.531 total time=14.7min\n",
      "[CV 2/2] END criterion=friedman_mse, learning_rate=0.1, loss=log_loss, max_depth=5, max_features=log2, min_samples_leaf=2, min_samples_split=2, n_estimators=500, n_iter_no_change=5, tol=0.0001;, score=0.642 total time=24.2min\n",
      "[CV 2/2] END criterion=friedman_mse, learning_rate=0.01, loss=log_loss, max_depth=3, max_features=log2, min_samples_leaf=10, min_samples_split=2, n_estimators=500, n_iter_no_change=5, tol=0.0001;, score=0.533 total time=14.6min\n",
      "[CV 1/2] END criterion=friedman_mse, learning_rate=0.01, loss=log_loss, max_depth=3, max_features=log2, min_samples_leaf=10, min_samples_split=2, n_estimators=500, n_iter_no_change=5, tol=0.0001;, score=0.530 total time=14.7min\n",
      "[CV 1/2] END criterion=friedman_mse, learning_rate=0.01, loss=log_loss, max_depth=5, max_features=log2, min_samples_leaf=2, min_samples_split=2, n_estimators=100, n_iter_no_change=5, tol=0.0001;, score=0.531 total time= 4.8min\n",
      "[CV 2/2] END criterion=friedman_mse, learning_rate=0.01, loss=log_loss, max_depth=5, max_features=log2, min_samples_leaf=2, min_samples_split=2, n_estimators=100, n_iter_no_change=5, tol=0.0001;, score=0.530 total time= 4.7min\n",
      "[CV 1/2] END criterion=friedman_mse, learning_rate=0.1, loss=log_loss, max_depth=5, max_features=log2, min_samples_leaf=10, min_samples_split=2, n_estimators=500, n_iter_no_change=5, tol=0.0001;, score=0.638 total time=24.0min\n",
      "[CV 2/2] END criterion=friedman_mse, learning_rate=0.1, loss=log_loss, max_depth=5, max_features=log2, min_samples_leaf=10, min_samples_split=2, n_estimators=500, n_iter_no_change=5, tol=0.0001;, score=0.640 total time=23.9min\n",
      "[CV 1/2] END criterion=friedman_mse, learning_rate=0.001, loss=log_loss, max_depth=3, max_features=log2, min_samples_leaf=2, min_samples_split=2, n_estimators=100, n_iter_no_change=5, tol=0.0001;, score=0.509 total time= 3.0min\n",
      "[CV 1/2] END criterion=friedman_mse, learning_rate=0.01, loss=log_loss, max_depth=5, max_features=log2, min_samples_leaf=10, min_samples_split=2, n_estimators=100, n_iter_no_change=5, tol=0.0001;, score=0.530 total time= 5.0min\n",
      "[CV 2/2] END criterion=friedman_mse, learning_rate=0.01, loss=log_loss, max_depth=5, max_features=log2, min_samples_leaf=10, min_samples_split=2, n_estimators=100, n_iter_no_change=5, tol=0.0001;, score=0.530 total time= 4.9min\n",
      "[CV 2/2] END criterion=friedman_mse, learning_rate=0.001, loss=log_loss, max_depth=3, max_features=log2, min_samples_leaf=2, min_samples_split=2, n_estimators=100, n_iter_no_change=5, tol=0.0001;, score=0.511 total time= 3.0min\n",
      "[CV 1/2] END criterion=friedman_mse, learning_rate=0.001, loss=log_loss, max_depth=3, max_features=log2, min_samples_leaf=10, min_samples_split=2, n_estimators=100, n_iter_no_change=5, tol=0.0001;, score=0.510 total time= 3.1min\n",
      "[CV 2/2] END criterion=friedman_mse, learning_rate=0.001, loss=log_loss, max_depth=3, max_features=log2, min_samples_leaf=10, min_samples_split=2, n_estimators=100, n_iter_no_change=5, tol=0.0001;, score=0.508 total time= 3.1min\n",
      "[CV 1/2] END criterion=friedman_mse, learning_rate=0.001, loss=log_loss, max_depth=3, max_features=log2, min_samples_leaf=2, min_samples_split=2, n_estimators=500, n_iter_no_change=5, tol=0.0001;, score=0.512 total time=15.1min\n",
      "[CV 2/2] END criterion=friedman_mse, learning_rate=0.001, loss=log_loss, max_depth=3, max_features=log2, min_samples_leaf=2, min_samples_split=2, n_estimators=500, n_iter_no_change=5, tol=0.0001;, score=0.512 total time=15.2min\n",
      "[CV 1/2] END criterion=friedman_mse, learning_rate=0.01, loss=log_loss, max_depth=5, max_features=log2, min_samples_leaf=2, min_samples_split=2, n_estimators=500, n_iter_no_change=5, tol=0.0001;, score=0.554 total time=24.5min\n",
      "[CV 1/2] END criterion=friedman_mse, learning_rate=0.001, loss=log_loss, max_depth=3, max_features=log2, min_samples_leaf=10, min_samples_split=2, n_estimators=500, n_iter_no_change=5, tol=0.0001;, score=0.511 total time=14.9min\n",
      "[CV 2/2] END criterion=friedman_mse, learning_rate=0.001, loss=log_loss, max_depth=3, max_features=log2, min_samples_leaf=10, min_samples_split=2, n_estimators=500, n_iter_no_change=5, tol=0.0001;, score=0.514 total time=14.9min\n",
      "[CV 2/2] END criterion=friedman_mse, learning_rate=0.01, loss=log_loss, max_depth=5, max_features=log2, min_samples_leaf=2, min_samples_split=2, n_estimators=500, n_iter_no_change=5, tol=0.0001;, score=0.555 total time=24.8min\n",
      "[CV 1/2] END criterion=friedman_mse, learning_rate=0.001, loss=log_loss, max_depth=5, max_features=log2, min_samples_leaf=2, min_samples_split=2, n_estimators=100, n_iter_no_change=5, tol=0.0001;, score=0.524 total time= 4.8min\n",
      "[CV 1/2] END criterion=friedman_mse, learning_rate=0.01, loss=log_loss, max_depth=5, max_features=log2, min_samples_leaf=10, min_samples_split=2, n_estimators=500, n_iter_no_change=5, tol=0.0001;, score=0.553 total time=24.7min\n",
      "[CV 2/2] END criterion=friedman_mse, learning_rate=0.001, loss=log_loss, max_depth=5, max_features=log2, min_samples_leaf=2, min_samples_split=2, n_estimators=100, n_iter_no_change=5, tol=0.0001;, score=0.524 total time= 4.8min\n",
      "[CV 2/2] END criterion=friedman_mse, learning_rate=0.01, loss=log_loss, max_depth=5, max_features=log2, min_samples_leaf=10, min_samples_split=2, n_estimators=500, n_iter_no_change=5, tol=0.0001;, score=0.555 total time=24.4min\n"
     ]
    }
   ],
   "source": [
    "# optimize hyperparams\n",
    "optimizer_results = {model_type: model.optimize_hyperparams(kfold=2) for model_type, model in models.items()}\n",
    "print(optimizer_results)"
   ]
  },
  {
   "cell_type": "markdown",
   "metadata": {},
   "source": [
    "***\n",
    "## Fine-Tuning + Other Adjustments"
   ]
  },
  {
   "cell_type": "code",
   "execution_count": null,
   "metadata": {},
   "outputs": [],
   "source": []
  },
  {
   "cell_type": "markdown",
   "metadata": {},
   "source": [
    "***\n",
    "## Best Model Report"
   ]
  },
  {
   "cell_type": "code",
   "execution_count": null,
   "metadata": {},
   "outputs": [],
   "source": []
  },
  {
   "cell_type": "markdown",
   "metadata": {},
   "source": [
    "***\n",
    "## Interpretation"
   ]
  },
  {
   "cell_type": "markdown",
   "metadata": {},
   "source": []
  },
  {
   "cell_type": "markdown",
   "metadata": {},
   "source": [
    "***\n",
    "## Conclusion"
   ]
  }
 ],
 "metadata": {
  "kernelspec": {
   "display_name": "base",
   "language": "python",
   "name": "python3"
  },
  "language_info": {
   "codemirror_mode": {
    "name": "ipython",
    "version": 3
   },
   "file_extension": ".py",
   "mimetype": "text/x-python",
   "name": "python",
   "nbconvert_exporter": "python",
   "pygments_lexer": "ipython3",
   "version": "3.11.5"
  }
 },
 "nbformat": 4,
 "nbformat_minor": 2
}
