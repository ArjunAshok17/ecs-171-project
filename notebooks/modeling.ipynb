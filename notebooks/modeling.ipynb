{
 "cells": [
  {
   "cell_type": "markdown",
   "metadata": {},
   "source": [
    "# Modeling\n",
    "In this notebook, we'll be modeling the data we've previously prepared. Out notebook will be laid out as follows:\n",
    "\n",
    "1. Model Selection & Generation\n",
    "2. Hyperparameter Optimization\n",
    "3. Fine-Tuning (if needed)\n",
    "4. Reporting Best Model(s) + Settings\n",
    "5. Interpretation\n",
    "6. Conclusion\n",
    "\n",
    "Our eventual goal here is two-fold:\n",
    "\n",
    "1. Accurately [and fairly] model the diabetes dataset\n",
    "2. Interpret the results to find something worth recommending to those wanting to reduce risk of diabetes. This can be via LIME/SHAP (i.e. some interpretable model that approximates the neural network) or via analyzing a more simple model's structure (i.e. regression coefficients, random forest decision boundaries)"
   ]
  },
  {
   "cell_type": "code",
   "execution_count": 1,
   "metadata": {},
   "outputs": [],
   "source": [
    "# Environment Setup\n",
    "from utils.model import *\n",
    "from utils.dataset import *"
   ]
  },
  {
   "cell_type": "markdown",
   "metadata": {},
   "source": [
    "***\n",
    "## Model Selection & Generation"
   ]
  },
  {
   "cell_type": "code",
   "execution_count": 2,
   "metadata": {},
   "outputs": [
    {
     "name": "stdout",
     "output_type": "stream",
     "text": [
      "<Train-Test Split Report>\n",
      "Train: 512887 obs, 170945 no diabetes [0], 171126 pre-diabetes [1], 170816 diabetes [2]\n",
      "Test: 128222 obs, 42758 no diabetes [0], 42577 pre-diabetes [1], 42887 diabetes [2]\n",
      "<WARNING> no lookup found for saved models :(\n",
      "\n",
      "<Test Report>\n",
      "Precision: [no diabetes] 0.5816647597254004, [pre-diabetes] 0.43727664253642445, [diabetes] 0.49072269024577037\n",
      "Recall: [no diabetes] 0.6658169231488844, [pre-diabetes] 0.22415858327265895, [diabetes] 0.6573786928439853\n",
      "F1-Score: [no diabetes] 0.6209024884953436, [pre-diabetes] 0.29638370883343945, [diabetes] 0.5619549726427411\n",
      "Support: [no diabetes] 42758, [pre-diabetes] 42577, [diabetes] 42887\n",
      "Accuracy: 51.6339%\n"
     ]
    }
   ],
   "source": [
    "# generate lookup for models\n",
    "models = {\n",
    "    \"tree\": TreeClassifier(target=\"diabetes\", path=\"../datasets/processed.parquet\")\n",
    "}\n",
    "\n",
    "# train & test basic model\n",
    "for mt, model in models.items():\n",
    "    # attempt to load, else train and test\n",
    "    if not model.load_model():\n",
    "        model.train_model()\n",
    "    model.test_model()"
   ]
  },
  {
   "cell_type": "markdown",
   "metadata": {},
   "source": [
    "***\n",
    "## Hyperparameter Optimization"
   ]
  },
  {
   "cell_type": "code",
   "execution_count": 3,
   "metadata": {},
   "outputs": [
    {
     "name": "stdout",
     "output_type": "stream",
     "text": [
      "Fitting 2 folds for each of 32 candidates, totalling 64 fits\n",
      "[CV 1/2] END criterion=friedman_mse, learning_rate=1, loss=log_loss, max_depth=3, max_features=log2, min_samples_leaf=10, min_samples_split=2, n_estimators=100, n_iter_no_change=5, tol=0.0001;, score=0.564 total time= 2.9min\n",
      "[CV 1/2] END criterion=friedman_mse, learning_rate=1, loss=log_loss, max_depth=3, max_features=log2, min_samples_leaf=2, min_samples_split=2, n_estimators=100, n_iter_no_change=5, tol=0.0001;, score=0.565 total time= 2.9min\n",
      "[CV 2/2] END criterion=friedman_mse, learning_rate=1, loss=log_loss, max_depth=3, max_features=log2, min_samples_leaf=2, min_samples_split=2, n_estimators=100, n_iter_no_change=5, tol=0.0001;, score=0.569 total time= 2.9min\n",
      "[CV 2/2] END criterion=friedman_mse, learning_rate=1, loss=log_loss, max_depth=3, max_features=log2, min_samples_leaf=10, min_samples_split=2, n_estimators=100, n_iter_no_change=5, tol=0.0001;, score=0.565 total time= 2.9min\n",
      "[CV 1/2] END criterion=friedman_mse, learning_rate=1, loss=log_loss, max_depth=5, max_features=log2, min_samples_leaf=2, min_samples_split=2, n_estimators=100, n_iter_no_change=5, tol=0.0001;, score=0.657 total time= 4.9min\n",
      "[CV 2/2] END criterion=friedman_mse, learning_rate=1, loss=log_loss, max_depth=5, max_features=log2, min_samples_leaf=2, min_samples_split=2, n_estimators=100, n_iter_no_change=5, tol=0.0001;, score=0.659 total time= 4.9min\n",
      "[CV 2/2] END criterion=friedman_mse, learning_rate=1, loss=log_loss, max_depth=3, max_features=log2, min_samples_leaf=10, min_samples_split=2, n_estimators=500, n_iter_no_change=5, tol=0.0001;, score=0.608 total time=11.1min\n",
      "[CV 1/2] END criterion=friedman_mse, learning_rate=1, loss=log_loss, max_depth=5, max_features=log2, min_samples_leaf=10, min_samples_split=2, n_estimators=100, n_iter_no_change=5, tol=0.0001;, score=0.656 total time= 4.8min\n",
      "[CV 2/2] END criterion=friedman_mse, learning_rate=1, loss=log_loss, max_depth=5, max_features=log2, min_samples_leaf=10, min_samples_split=2, n_estimators=100, n_iter_no_change=5, tol=0.0001;, score=0.659 total time= 4.8min\n",
      "[CV 1/2] END criterion=friedman_mse, learning_rate=1, loss=log_loss, max_depth=3, max_features=log2, min_samples_leaf=10, min_samples_split=2, n_estimators=500, n_iter_no_change=5, tol=0.0001;, score=0.612 total time=13.3min\n",
      "[CV 2/2] END criterion=friedman_mse, learning_rate=1, loss=log_loss, max_depth=3, max_features=log2, min_samples_leaf=2, min_samples_split=2, n_estimators=500, n_iter_no_change=5, tol=0.0001;, score=0.617 total time=14.6min\n",
      "[CV 1/2] END criterion=friedman_mse, learning_rate=1, loss=log_loss, max_depth=3, max_features=log2, min_samples_leaf=2, min_samples_split=2, n_estimators=500, n_iter_no_change=5, tol=0.0001;, score=0.619 total time=14.7min\n",
      "[CV 1/2] END criterion=friedman_mse, learning_rate=0.1, loss=log_loss, max_depth=3, max_features=log2, min_samples_leaf=2, min_samples_split=2, n_estimators=100, n_iter_no_change=5, tol=0.0001;, score=0.538 total time= 2.9min\n",
      "[CV 2/2] END criterion=friedman_mse, learning_rate=0.1, loss=log_loss, max_depth=3, max_features=log2, min_samples_leaf=2, min_samples_split=2, n_estimators=100, n_iter_no_change=5, tol=0.0001;, score=0.537 total time= 3.0min\n",
      "[CV 2/2] END criterion=friedman_mse, learning_rate=1, loss=log_loss, max_depth=5, max_features=log2, min_samples_leaf=2, min_samples_split=2, n_estimators=500, n_iter_no_change=5, tol=0.0001;, score=0.739 total time=15.0min\n",
      "[CV 1/2] END criterion=friedman_mse, learning_rate=0.1, loss=log_loss, max_depth=3, max_features=log2, min_samples_leaf=10, min_samples_split=2, n_estimators=100, n_iter_no_change=5, tol=0.0001;, score=0.535 total time= 2.8min\n",
      "[CV 2/2] END criterion=friedman_mse, learning_rate=0.1, loss=log_loss, max_depth=3, max_features=log2, min_samples_leaf=10, min_samples_split=2, n_estimators=100, n_iter_no_change=5, tol=0.0001;, score=0.537 total time= 3.0min\n",
      "[CV 1/2] END criterion=friedman_mse, learning_rate=0.1, loss=log_loss, max_depth=5, max_features=log2, min_samples_leaf=2, min_samples_split=2, n_estimators=100, n_iter_no_change=5, tol=0.0001;, score=0.563 total time= 5.0min\n",
      "[CV 1/2] END criterion=friedman_mse, learning_rate=1, loss=log_loss, max_depth=5, max_features=log2, min_samples_leaf=2, min_samples_split=2, n_estimators=500, n_iter_no_change=5, tol=0.0001;, score=0.777 total time=24.3min\n",
      "[CV 1/2] END criterion=friedman_mse, learning_rate=0.1, loss=log_loss, max_depth=3, max_features=log2, min_samples_leaf=2, min_samples_split=2, n_estimators=500, n_iter_no_change=5, tol=0.0001;, score=0.557 total time=14.4min\n",
      "[CV 2/2] END criterion=friedman_mse, learning_rate=0.1, loss=log_loss, max_depth=5, max_features=log2, min_samples_leaf=2, min_samples_split=2, n_estimators=100, n_iter_no_change=5, tol=0.0001;, score=0.568 total time= 4.9min\n",
      "[CV 2/2] END criterion=friedman_mse, learning_rate=0.1, loss=log_loss, max_depth=3, max_features=log2, min_samples_leaf=2, min_samples_split=2, n_estimators=500, n_iter_no_change=5, tol=0.0001;, score=0.558 total time=14.6min\n",
      "[CV 1/2] END criterion=friedman_mse, learning_rate=0.1, loss=log_loss, max_depth=3, max_features=log2, min_samples_leaf=10, min_samples_split=2, n_estimators=500, n_iter_no_change=5, tol=0.0001;, score=0.558 total time=14.4min\n",
      "[CV 2/2] END criterion=friedman_mse, learning_rate=0.1, loss=log_loss, max_depth=3, max_features=log2, min_samples_leaf=10, min_samples_split=2, n_estimators=500, n_iter_no_change=5, tol=0.0001;, score=0.557 total time=14.3min\n",
      "[CV 1/2] END criterion=friedman_mse, learning_rate=0.1, loss=log_loss, max_depth=5, max_features=log2, min_samples_leaf=10, min_samples_split=2, n_estimators=100, n_iter_no_change=5, tol=0.0001;, score=0.569 total time= 4.9min\n",
      "[CV 2/2] END criterion=friedman_mse, learning_rate=0.1, loss=log_loss, max_depth=5, max_features=log2, min_samples_leaf=10, min_samples_split=2, n_estimators=100, n_iter_no_change=5, tol=0.0001;, score=0.569 total time= 4.9min\n",
      "[CV 1/2] END criterion=friedman_mse, learning_rate=1, loss=log_loss, max_depth=5, max_features=log2, min_samples_leaf=10, min_samples_split=2, n_estimators=500, n_iter_no_change=5, tol=0.0001;, score=0.775 total time=24.1min\n",
      "[CV 2/2] END criterion=friedman_mse, learning_rate=1, loss=log_loss, max_depth=5, max_features=log2, min_samples_leaf=10, min_samples_split=2, n_estimators=500, n_iter_no_change=5, tol=0.0001;, score=0.777 total time=24.0min\n",
      "[CV 1/2] END criterion=friedman_mse, learning_rate=0.01, loss=log_loss, max_depth=3, max_features=log2, min_samples_leaf=2, min_samples_split=2, n_estimators=100, n_iter_no_change=5, tol=0.0001;, score=0.514 total time= 2.9min\n",
      "[CV 2/2] END criterion=friedman_mse, learning_rate=0.01, loss=log_loss, max_depth=3, max_features=log2, min_samples_leaf=2, min_samples_split=2, n_estimators=100, n_iter_no_change=5, tol=0.0001;, score=0.514 total time= 2.8min\n",
      "[CV 1/2] END criterion=friedman_mse, learning_rate=0.01, loss=log_loss, max_depth=3, max_features=log2, min_samples_leaf=10, min_samples_split=2, n_estimators=100, n_iter_no_change=5, tol=0.0001;, score=0.515 total time= 3.0min\n",
      "[CV 2/2] END criterion=friedman_mse, learning_rate=0.01, loss=log_loss, max_depth=3, max_features=log2, min_samples_leaf=10, min_samples_split=2, n_estimators=100, n_iter_no_change=5, tol=0.0001;, score=0.517 total time= 3.0min\n",
      "[CV 1/2] END criterion=friedman_mse, learning_rate=0.01, loss=log_loss, max_depth=3, max_features=log2, min_samples_leaf=2, min_samples_split=2, n_estimators=500, n_iter_no_change=5, tol=0.0001;, score=0.529 total time=14.8min\n",
      "[CV 1/2] END criterion=friedman_mse, learning_rate=0.1, loss=log_loss, max_depth=5, max_features=log2, min_samples_leaf=2, min_samples_split=2, n_estimators=500, n_iter_no_change=5, tol=0.0001;, score=0.639 total time=23.7min\n",
      "[CV 2/2] END criterion=friedman_mse, learning_rate=0.01, loss=log_loss, max_depth=3, max_features=log2, min_samples_leaf=2, min_samples_split=2, n_estimators=500, n_iter_no_change=5, tol=0.0001;, score=0.531 total time=14.7min\n",
      "[CV 2/2] END criterion=friedman_mse, learning_rate=0.1, loss=log_loss, max_depth=5, max_features=log2, min_samples_leaf=2, min_samples_split=2, n_estimators=500, n_iter_no_change=5, tol=0.0001;, score=0.642 total time=24.2min\n",
      "[CV 2/2] END criterion=friedman_mse, learning_rate=0.01, loss=log_loss, max_depth=3, max_features=log2, min_samples_leaf=10, min_samples_split=2, n_estimators=500, n_iter_no_change=5, tol=0.0001;, score=0.533 total time=14.6min\n",
      "[CV 1/2] END criterion=friedman_mse, learning_rate=0.01, loss=log_loss, max_depth=3, max_features=log2, min_samples_leaf=10, min_samples_split=2, n_estimators=500, n_iter_no_change=5, tol=0.0001;, score=0.530 total time=14.7min\n",
      "[CV 1/2] END criterion=friedman_mse, learning_rate=0.01, loss=log_loss, max_depth=5, max_features=log2, min_samples_leaf=2, min_samples_split=2, n_estimators=100, n_iter_no_change=5, tol=0.0001;, score=0.531 total time= 4.8min\n",
      "[CV 2/2] END criterion=friedman_mse, learning_rate=0.01, loss=log_loss, max_depth=5, max_features=log2, min_samples_leaf=2, min_samples_split=2, n_estimators=100, n_iter_no_change=5, tol=0.0001;, score=0.530 total time= 4.7min\n",
      "[CV 1/2] END criterion=friedman_mse, learning_rate=0.1, loss=log_loss, max_depth=5, max_features=log2, min_samples_leaf=10, min_samples_split=2, n_estimators=500, n_iter_no_change=5, tol=0.0001;, score=0.638 total time=24.0min\n",
      "[CV 2/2] END criterion=friedman_mse, learning_rate=0.1, loss=log_loss, max_depth=5, max_features=log2, min_samples_leaf=10, min_samples_split=2, n_estimators=500, n_iter_no_change=5, tol=0.0001;, score=0.640 total time=23.9min\n",
      "[CV 1/2] END criterion=friedman_mse, learning_rate=0.001, loss=log_loss, max_depth=3, max_features=log2, min_samples_leaf=2, min_samples_split=2, n_estimators=100, n_iter_no_change=5, tol=0.0001;, score=0.509 total time= 3.0min\n",
      "[CV 1/2] END criterion=friedman_mse, learning_rate=0.01, loss=log_loss, max_depth=5, max_features=log2, min_samples_leaf=10, min_samples_split=2, n_estimators=100, n_iter_no_change=5, tol=0.0001;, score=0.530 total time= 5.0min\n",
      "[CV 2/2] END criterion=friedman_mse, learning_rate=0.01, loss=log_loss, max_depth=5, max_features=log2, min_samples_leaf=10, min_samples_split=2, n_estimators=100, n_iter_no_change=5, tol=0.0001;, score=0.530 total time= 4.9min\n",
      "[CV 2/2] END criterion=friedman_mse, learning_rate=0.001, loss=log_loss, max_depth=3, max_features=log2, min_samples_leaf=2, min_samples_split=2, n_estimators=100, n_iter_no_change=5, tol=0.0001;, score=0.511 total time= 3.0min\n",
      "[CV 1/2] END criterion=friedman_mse, learning_rate=0.001, loss=log_loss, max_depth=3, max_features=log2, min_samples_leaf=10, min_samples_split=2, n_estimators=100, n_iter_no_change=5, tol=0.0001;, score=0.510 total time= 3.1min\n",
      "[CV 2/2] END criterion=friedman_mse, learning_rate=0.001, loss=log_loss, max_depth=3, max_features=log2, min_samples_leaf=10, min_samples_split=2, n_estimators=100, n_iter_no_change=5, tol=0.0001;, score=0.508 total time= 3.1min\n",
      "[CV 1/2] END criterion=friedman_mse, learning_rate=0.001, loss=log_loss, max_depth=3, max_features=log2, min_samples_leaf=2, min_samples_split=2, n_estimators=500, n_iter_no_change=5, tol=0.0001;, score=0.512 total time=15.1min\n",
      "[CV 2/2] END criterion=friedman_mse, learning_rate=0.001, loss=log_loss, max_depth=3, max_features=log2, min_samples_leaf=2, min_samples_split=2, n_estimators=500, n_iter_no_change=5, tol=0.0001;, score=0.512 total time=15.2min\n",
      "[CV 1/2] END criterion=friedman_mse, learning_rate=0.01, loss=log_loss, max_depth=5, max_features=log2, min_samples_leaf=2, min_samples_split=2, n_estimators=500, n_iter_no_change=5, tol=0.0001;, score=0.554 total time=24.5min\n",
      "[CV 1/2] END criterion=friedman_mse, learning_rate=0.001, loss=log_loss, max_depth=3, max_features=log2, min_samples_leaf=10, min_samples_split=2, n_estimators=500, n_iter_no_change=5, tol=0.0001;, score=0.511 total time=14.9min\n",
      "[CV 2/2] END criterion=friedman_mse, learning_rate=0.001, loss=log_loss, max_depth=3, max_features=log2, min_samples_leaf=10, min_samples_split=2, n_estimators=500, n_iter_no_change=5, tol=0.0001;, score=0.514 total time=14.9min\n",
      "[CV 2/2] END criterion=friedman_mse, learning_rate=0.01, loss=log_loss, max_depth=5, max_features=log2, min_samples_leaf=2, min_samples_split=2, n_estimators=500, n_iter_no_change=5, tol=0.0001;, score=0.555 total time=24.8min\n",
      "[CV 1/2] END criterion=friedman_mse, learning_rate=0.001, loss=log_loss, max_depth=5, max_features=log2, min_samples_leaf=2, min_samples_split=2, n_estimators=100, n_iter_no_change=5, tol=0.0001;, score=0.524 total time= 4.8min\n",
      "[CV 1/2] END criterion=friedman_mse, learning_rate=0.01, loss=log_loss, max_depth=5, max_features=log2, min_samples_leaf=10, min_samples_split=2, n_estimators=500, n_iter_no_change=5, tol=0.0001;, score=0.553 total time=24.7min\n",
      "[CV 2/2] END criterion=friedman_mse, learning_rate=0.001, loss=log_loss, max_depth=5, max_features=log2, min_samples_leaf=2, min_samples_split=2, n_estimators=100, n_iter_no_change=5, tol=0.0001;, score=0.524 total time= 4.8min\n",
      "[CV 2/2] END criterion=friedman_mse, learning_rate=0.01, loss=log_loss, max_depth=5, max_features=log2, min_samples_leaf=10, min_samples_split=2, n_estimators=500, n_iter_no_change=5, tol=0.0001;, score=0.555 total time=24.4min\n"
     ]
    }
   ],
   "source": [
    "# optimize hyperparams\n",
    "optimizer_results = {model_type: model.optimize_hyperparams(kfold=2) for model_type, model in models.items()}\n",
    "print(optimizer_results)"
   ]
  },
  {
   "cell_type": "markdown",
   "metadata": {},
   "source": [
    "***\n",
    "## Fine-Tuning + Other Adjustments"
   ]
  },
  {
   "cell_type": "code",
   "execution_count": null,
   "metadata": {},
   "outputs": [],
   "source": []
  },
  {
   "cell_type": "markdown",
   "metadata": {},
   "source": [
    "***\n",
    "## Best Model Report"
   ]
  },
  {
   "cell_type": "code",
   "execution_count": null,
   "metadata": {},
   "outputs": [],
   "source": []
  },
  {
   "cell_type": "markdown",
   "metadata": {},
   "source": [
    "***\n",
    "## Interpretation"
   ]
  },
  {
   "cell_type": "markdown",
   "metadata": {},
   "source": []
  },
  {
   "cell_type": "markdown",
   "metadata": {},
   "source": [
    "***\n",
    "## Conclusion"
   ]
  }
 ],
 "metadata": {
  "kernelspec": {
   "display_name": "base",
   "language": "python",
   "name": "python3"
  },
  "language_info": {
   "codemirror_mode": {
    "name": "ipython",
    "version": 3
   },
   "file_extension": ".py",
   "mimetype": "text/x-python",
   "name": "python",
   "nbconvert_exporter": "python",
   "pygments_lexer": "ipython3",
   "version": "3.11.5"
  }
 },
 "nbformat": 4,
 "nbformat_minor": 2
}
