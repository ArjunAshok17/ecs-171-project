{
 "cells": [
  {
   "cell_type": "markdown",
   "metadata": {},
   "source": [
    "# Modeling\n",
    "In this notebook, we'll be modeling the data we've previously prepared. Out notebook will be laid out as follows:\n",
    "\n",
    "1. Model Selection & Generation\n",
    "2. Hyperparameter Optimization\n",
    "3. Fine-Tuning (if needed)\n",
    "4. Reporting Best Model(s) + Settings\n",
    "5. Interpretation\n",
    "6. Conclusion\n",
    "\n",
    "Our eventual goal here is two-fold:\n",
    "\n",
    "1. Accurately [and fairly] model the diabetes dataset\n",
    "2. Interpret the results to find something worth recommending to those wanting to reduce risk of diabetes. This can be via LIME/SHAP (i.e. some interpretable model that approximates the neural network) or via analyzing a more simple model's structure (i.e. regression coefficients, random forest decision boundaries)"
   ]
  },
  {
   "cell_type": "code",
   "execution_count": 1,
   "metadata": {},
   "outputs": [],
   "source": [
    "# Environment Setup\n",
    "from utils.model import *\n",
    "from utils.dataset import *"
   ]
  },
  {
   "cell_type": "markdown",
   "metadata": {},
   "source": [
    "***\n",
    "## Model Selection & Generation"
   ]
  },
  {
   "cell_type": "code",
   "execution_count": 2,
   "metadata": {},
   "outputs": [
    {
     "name": "stdout",
     "output_type": "stream",
     "text": [
      "<Train-Test Split Report>\n",
      "Train: 512886 obs, 170962 no diabetes [0], 170962 pre-diabetes [1], 170962 diabetes [2]\n",
      "Test: 50736 obs, 42741 no diabetes [0], 926 pre-diabetes [1], 7069 diabetes [2]\n",
      "Epoch 1, change: 1.00000000\n",
      "Epoch 2, change: 0.25225974\n",
      "Epoch 3, change: 0.13470629\n",
      "Epoch 4, change: 0.09814960\n",
      "Epoch 5, change: 0.05012524\n",
      "Epoch 6, change: 0.02037335\n",
      "Epoch 7, change: 0.01588300\n",
      "Epoch 8, change: 0.00989571\n",
      "Epoch 9, change: 0.00782193\n",
      "Epoch 10, change: 0.00618506\n",
      "Epoch 11, change: 0.00414319\n",
      "Epoch 12, change: 0.00409114\n",
      "Epoch 13, change: 0.00379375\n",
      "Epoch 14, change: 0.00350049\n",
      "Epoch 15, change: 0.00411181\n",
      "Epoch 16, change: 0.00482170\n",
      "Epoch 17, change: 0.00324488\n",
      "Epoch 18, change: 0.00323704\n",
      "Epoch 19, change: 0.00317663\n",
      "Epoch 20, change: 0.00313845\n",
      "Epoch 21, change: 0.00308866\n",
      "Epoch 22, change: 0.00306360\n",
      "Epoch 23, change: 0.00303443\n",
      "Epoch 24, change: 0.00300900\n",
      "Epoch 25, change: 0.00296859\n",
      "Epoch 26, change: 0.00294248\n",
      "Epoch 27, change: 0.00291729\n",
      "Epoch 28, change: 0.00289259\n",
      "Epoch 29, change: 0.00286814\n",
      "Epoch 30, change: 0.00284392\n",
      "Epoch 31, change: 0.00282000\n",
      "Epoch 32, change: 0.00279636\n",
      "Epoch 33, change: 0.00277298\n",
      "Epoch 34, change: 0.00274987\n",
      "Epoch 35, change: 0.00272701\n",
      "Epoch 36, change: 0.00270440\n",
      "Epoch 37, change: 0.00268205\n",
      "Epoch 38, change: 0.00265993\n",
      "Epoch 39, change: 0.00263806\n",
      "Epoch 40, change: 0.00261642\n",
      "Epoch 41, change: 0.00259501\n",
      "Epoch 42, change: 0.00257384\n",
      "Epoch 43, change: 0.00255289\n",
      "Epoch 44, change: 0.00253216\n",
      "Epoch 45, change: 0.00251166\n",
      "Epoch 46, change: 0.00249137\n",
      "Epoch 47, change: 0.00247129\n",
      "Epoch 48, change: 0.00245143\n",
      "Epoch 49, change: 0.00243177\n",
      "Epoch 50, change: 0.00241232\n",
      "Epoch 51, change: 0.00239307\n",
      "Epoch 52, change: 0.00237310\n",
      "Epoch 53, change: 0.00235429\n",
      "Epoch 54, change: 0.00233558\n",
      "Epoch 55, change: 0.00231710\n",
      "Epoch 56, change: 0.00229883\n",
      "Epoch 57, change: 0.00228074\n",
      "Epoch 58, change: 0.00226282\n",
      "Epoch 59, change: 0.00224510\n",
      "Epoch 60, change: 0.00222754\n",
      "Epoch 61, change: 0.00221017\n",
      "Epoch 62, change: 0.00219297\n",
      "Epoch 63, change: 0.00217594\n",
      "Epoch 64, change: 0.00215908\n",
      "Epoch 65, change: 0.00214238\n",
      "Epoch 66, change: 0.00212585\n",
      "Epoch 67, change: 0.00210949\n",
      "Epoch 68, change: 0.00209328\n",
      "Epoch 69, change: 0.00207723\n",
      "Epoch 70, change: 0.00206106\n",
      "Epoch 71, change: 0.00204514\n",
      "Epoch 72, change: 0.00202959\n",
      "Epoch 73, change: 0.00201408\n",
      "Epoch 74, change: 0.00199879\n",
      "Epoch 75, change: 0.00198365\n",
      "Epoch 76, change: 0.00196874\n",
      "Epoch 77, change: 0.00195375\n",
      "Epoch 78, change: 0.00193905\n",
      "Epoch 79, change: 0.00192444\n",
      "Epoch 80, change: 0.00191002\n",
      "Epoch 81, change: 0.00189569\n",
      "Epoch 82, change: 0.00188151\n",
      "Epoch 83, change: 0.00186747\n",
      "Epoch 84, change: 0.00185357\n",
      "Epoch 85, change: 0.00183979\n",
      "Epoch 86, change: 0.00182615\n",
      "Epoch 87, change: 0.00181262\n",
      "Epoch 88, change: 0.00179922\n",
      "Epoch 89, change: 0.00178595\n",
      "Epoch 90, change: 0.00177280\n",
      "Epoch 91, change: 0.00153851\n",
      "convergence after 92 epochs took 41 seconds\n",
      "\n",
      "<Test Report>\n",
      "Precision: [no diabetes] 0.8859613763787607, [pre-diabetes] 0.27347642775009584, [diabetes] 0.016063331027592036\n",
      "Recall: [no diabetes] 0.565662946585246, [pre-diabetes] 0.4037346159287028, [diabetes] 0.22570194384449244\n",
      "F1-Score: [no diabetes] 0.6904755104955019, [pre-diabetes] 0.3260782633533276, [diabetes] 0.02999210734017364\n",
      "Support: [no diabetes] 42741, [pre-diabetes] 7069, [diabetes] 926\n",
      "Accuracy: 53.6897%\n",
      "Macro-F1: 0.3488\n"
     ]
    }
   ],
   "source": [
    "# generate lookup for models\n",
    "models = {\n",
    "    # \"tree\": TreeClassifier(target=\"diabetes\", path=\"../datasets/pre_split_processed.parquet\", upsample=True),\n",
    "    # \"ffnn\": MLPClassifier(target=\"diabetes\", path=\"../datasets/pre_split_processed.parquet\", upsample=False, loss_balance=False),\n",
    "    \"log\": LogClassifier(target=\"diabetes\", path=\"../datasets/pre_split_processed.parquet\", upsample=True)\n",
    "}\n",
    "\n",
    "# manual search\n",
    "# models[\"tree\"].set_hyperparams({\n",
    "#     \"loss\": \"log_loss\",\n",
    "#     \"learning_rate\": 0.01,\n",
    "#     \"n_estimators\": 100,\n",
    "#     \"criterion\": \"friedman_mse\",\n",
    "#     \"min_samples_split\": 5,\n",
    "#     \"min_samples_leaf\": 5,\n",
    "#     \"max_depth\": 8,\n",
    "#     \"n_iter_no_change\": 5,\n",
    "#     \"max_features\": \"sqrt\",\n",
    "#     \"tol\": 0.0001\n",
    "# })\n",
    "# models[\"ffnn\"].set_hyperparams({\n",
    "#     \"learning_rate\": .0005,\n",
    "#     \"batch_size\": 256,\n",
    "#     \"num_hidden\": 8,\n",
    "#     \"hidden_size\": [2048, 1024, 512, 256, 128, 64, 32, 32],\n",
    "#     \"num_epochs\": 50,\n",
    "#     \"dropout_rate\": [0.875, 0.75, 0.75, 0.5, 0.5, 0.25, 0.25],\n",
    "#     \"classify_fn\": \"sigmoid\"\n",
    "# })\n",
    "# models[\"ffnn\"].set_hyperparams({\n",
    "#     \"learning_rate\": .001,\n",
    "#     \"batch_size\": 32,\n",
    "#     \"num_hidden\": 4,\n",
    "#     \"hidden_size\": [128, 64, 64, 32],\n",
    "#     \"num_epochs\": 50,\n",
    "#     \"dropout_rate\": [0.5, 0.4, 0.3, 0.2],\n",
    "#     \"classify_fn\": \"sigmoid\"\n",
    "# # })\n",
    "# models[\"ffnn\"].set_hyperparams({\n",
    "#     \"input_size\": 21,\n",
    "#     \"output_size\": 3,\n",
    "#     \"hidden_size\": 1024,\n",
    "#     \"num_hidden\": 4,\n",
    "#     \"num_epochs\": 50,\n",
    "#     \"batch_size\": 64,\n",
    "#     \"learning_rate\": 5e-05,\n",
    "#     \"dropout_rate\": 0.9,\n",
    "#     \"classify_fn\": \"sigmoid\"\n",
    "# })\n",
    "# models[\"ffnn\"].set_hyperparams({\n",
    "#     \"input_size\": 21,\n",
    "#     \"output_size\": 3,\n",
    "#     \"hidden_size\": 512,\n",
    "#     \"num_hidden\": 2,\n",
    "#     \"num_epochs\": 50,\n",
    "#     \"batch_size\": 128,\n",
    "#     \"dropout_rate\": 0.4,\n",
    "#     \"learning_rate\": 0.0005\n",
    "# })\n",
    "\n",
    "# train & test basic model\n",
    "skip_models = [\"log\"]#[\"ffnn\", \"log\"]\n",
    "for mt, model in models.items():\n",
    "    # attempt to load, else train and test\n",
    "    if (mt in skip_models) or (not model.load_model()):\n",
    "        model.train_model(verbose=2)\n",
    "    model.test_model()"
   ]
  },
  {
   "cell_type": "markdown",
   "metadata": {},
   "source": [
    "***\n",
    "## Hyperparameter Optimization"
   ]
  },
  {
   "cell_type": "code",
   "execution_count": 3,
   "metadata": {},
   "outputs": [],
   "source": [
    "# optimize hyperparams\n",
    "# optimizer_results = {model_type: model.optimize_hyperparams(kfold=2) for model_type, model in models.items()}\n",
    "# print(optimizer_results)"
   ]
  },
  {
   "cell_type": "markdown",
   "metadata": {},
   "source": [
    "***\n",
    "## Fine-Tuning + Other Adjustments"
   ]
  },
  {
   "cell_type": "code",
   "execution_count": null,
   "metadata": {},
   "outputs": [],
   "source": []
  },
  {
   "cell_type": "markdown",
   "metadata": {},
   "source": [
    "***\n",
    "## Best Model Report"
   ]
  },
  {
   "cell_type": "code",
   "execution_count": 4,
   "metadata": {},
   "outputs": [
    {
     "data": {
      "text/plain": [
       "{'high_bp': 0.0,\n",
       " 'high_chol': 0.04005244483501908,\n",
       " 'chol_check': 0.14368574427711195,\n",
       " 'bmi': -0.3341266441218481,\n",
       " 'smoker': 0.0,\n",
       " 'stroke': 0.0046318919658423375,\n",
       " 'heart_disease': 0.0,\n",
       " 'physical_activity': -0.15132506947633687,\n",
       " 'fruits': 0.0,\n",
       " 'veggies': 0.0,\n",
       " 'heavy_drinker': 0.05994501018275361,\n",
       " 'healthcare': -0.05123929528640949,\n",
       " 'no_doc_bc_cost': 0.0,\n",
       " 'general_health': 0.08061386743733423,\n",
       " 'mental_health': -0.4073858118266818,\n",
       " 'physical_health': -0.40283705380462387,\n",
       " 'diff_walk': -0.0249101951252151,\n",
       " 'sex': -0.639927900219654,\n",
       " 'age': -0.233271780474539,\n",
       " 'education': 0.022629078161513983,\n",
       " 'income': 0.014953609073340274}"
      ]
     },
     "execution_count": 4,
     "metadata": {},
     "output_type": "execute_result"
    }
   ],
   "source": [
    "models[\"log\"].explain_model()"
   ]
  },
  {
   "cell_type": "markdown",
   "metadata": {},
   "source": [
    "***\n",
    "## Interpretation"
   ]
  },
  {
   "cell_type": "markdown",
   "metadata": {},
   "source": []
  },
  {
   "cell_type": "markdown",
   "metadata": {},
   "source": [
    "***\n",
    "## Conclusion"
   ]
  }
 ],
 "metadata": {
  "kernelspec": {
   "display_name": "base",
   "language": "python",
   "name": "python3"
  },
  "language_info": {
   "codemirror_mode": {
    "name": "ipython",
    "version": 3
   },
   "file_extension": ".py",
   "mimetype": "text/x-python",
   "name": "python",
   "nbconvert_exporter": "python",
   "pygments_lexer": "ipython3",
   "version": "3.11.5"
  }
 },
 "nbformat": 4,
 "nbformat_minor": 2
}
