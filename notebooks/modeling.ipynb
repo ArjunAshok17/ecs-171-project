{
 "cells": [
  {
   "cell_type": "markdown",
   "metadata": {},
   "source": [
    "# Modeling\n",
    "In this notebook, we'll be modeling the data we've previously prepared. Out notebook will be laid out as follows:\n",
    "\n",
    "1. Model Selection & Generation\n",
    "2. Hyperparameter Optimization\n",
    "3. Fine-Tuning (if needed)\n",
    "4. Reporting Best Model(s) + Settings\n",
    "5. Interpretation\n",
    "6. Conclusion\n",
    "\n",
    "Our eventual goal here is two-fold:\n",
    "\n",
    "1. Accurately [and fairly] model the diabetes dataset\n",
    "2. Interpret the results to find something worth recommending to those wanting to reduce risk of diabetes. This can be via LIME/SHAP (i.e. some interpretable model that approximates the neural network) or via analyzing a more simple model's structure (i.e. regression coefficients, random forest decision boundaries)"
   ]
  },
  {
   "cell_type": "code",
   "execution_count": 1,
   "metadata": {},
   "outputs": [],
   "source": [
    "# Environment Setup\n",
    "from utils.model import *\n",
    "from utils.dataset import *"
   ]
  },
  {
   "cell_type": "markdown",
   "metadata": {},
   "source": [
    "***\n",
    "## Model Selection & Generation"
   ]
  },
  {
   "cell_type": "code",
   "execution_count": 2,
   "metadata": {},
   "outputs": [
    {
     "name": "stdout",
     "output_type": "stream",
     "text": [
      "<Train-Test Split Report>\n",
      "Train: 202944 obs, 170962 no diabetes [0], 3705 pre-diabetes [1], 28277 diabetes [2]\n",
      "Test: 50736 obs, 42741 no diabetes [0], 926 pre-diabetes [1], 7069 diabetes [2]\n",
      "<Train-Test Split Report>\n",
      "Train: 202944 obs, 170962 no diabetes [0], 3705 pre-diabetes [1], 28277 diabetes [2]\n",
      "Test: 50736 obs, 42741 no diabetes [0], 926 pre-diabetes [1], 7069 diabetes [2]\n",
      "<Train-Test Split Report>\n",
      "Train: 202944 obs, 170962 no diabetes [0], 3705 pre-diabetes [1], 28277 diabetes [2]\n",
      "Test: 50736 obs, 42741 no diabetes [0], 926 pre-diabetes [1], 7069 diabetes [2]\n"
     ]
    },
    {
     "name": "stderr",
     "output_type": "stream",
     "text": [
      "/home/arjun/anaconda3/lib/python3.11/site-packages/sklearn/metrics/_classification.py:1509: UndefinedMetricWarning: Precision is ill-defined and being set to 0.0 in labels with no predicted samples. Use `zero_division` parameter to control this behavior.\n",
      "  _warn_prf(average, modifier, f\"{metric.capitalize()} is\", len(result))\n",
      "/home/arjun/anaconda3/lib/python3.11/site-packages/sklearn/metrics/_classification.py:1509: UndefinedMetricWarning: Precision is ill-defined and being set to 0.0 in labels with no predicted samples. Use `zero_division` parameter to control this behavior.\n",
      "  _warn_prf(average, modifier, f\"{metric.capitalize()} is\", len(result))\n"
     ]
    },
    {
     "name": "stdout",
     "output_type": "stream",
     "text": [
      "\n",
      "<Test Report>\n",
      "Precision: [no diabetes] 0.8427103669959968, [pre-diabetes] 0.6666666666666666, [diabetes] 0.0\n",
      "Recall: [no diabetes] 0.9998128260920428, [pre-diabetes] 0.002546329042297355, [diabetes] 0.0\n",
      "F1-Score: [no diabetes] 0.9145639379347245, [pre-diabetes] 0.005073280721533258, [diabetes] 0.0\n",
      "Support: [no diabetes] 42741, [pre-diabetes] 7069, [diabetes] 926\n",
      "Accuracy: 84.2617%\n",
      "Macro-F1: 0.3065\n",
      "\n",
      "<Test Report>\n",
      "Precision: [no diabetes] 0.8424195837275308, [pre-diabetes] 0.0, [diabetes] 0.0\n",
      "Recall: [no diabetes] 1.0, [pre-diabetes] 0.0, [diabetes] 0.0\n",
      "F1-Score: [no diabetes] 0.9144709393754613, [pre-diabetes] 0.0, [diabetes] 0.0\n",
      "Support: [no diabetes] 42741, [pre-diabetes] 926, [diabetes] 7069\n",
      "Accuracy: 84.2420%\n",
      "Macro-F1: 0.3048\n",
      "\n",
      "<Test Report>\n",
      "Precision: [no diabetes] 0.85290689351956, [pre-diabetes] 0.402724795640327, [diabetes] 0.0\n",
      "Recall: [no diabetes] 0.9758311691350225, [pre-diabetes] 0.10454095345876362, [diabetes] 0.0\n",
      "F1-Score: [no diabetes] 0.9102376639532093, [pre-diabetes] 0.16599281221922732, [diabetes] 0.0\n",
      "Support: [no diabetes] 42741, [pre-diabetes] 7069, [diabetes] 926\n",
      "Accuracy: 83.6625%\n",
      "Macro-F1: 0.3587\n"
     ]
    },
    {
     "name": "stderr",
     "output_type": "stream",
     "text": [
      "/home/arjun/anaconda3/lib/python3.11/site-packages/sklearn/metrics/_classification.py:1509: UndefinedMetricWarning: Precision is ill-defined and being set to 0.0 in labels with no predicted samples. Use `zero_division` parameter to control this behavior.\n",
      "  _warn_prf(average, modifier, f\"{metric.capitalize()} is\", len(result))\n"
     ]
    }
   ],
   "source": [
    "# generate lookup for models\n",
    "models = {\n",
    "    \"tree\": TreeClassifier(target=\"diabetes\", path=\"../datasets/pre_split_processed.parquet\"),\n",
    "    \"ffnn\": MLPClassifier(target=\"diabetes\", path=\"../datasets/pre_split_processed.parquet\"),\n",
    "    \"log\": LogClassifier(target=\"diabetes\", path=\"../datasets/pre_split_processed.parquet\")\n",
    "}\n",
    "\n",
    "# manual search\n",
    "models[\"tree\"].set_hyperparams({\n",
    "    \"loss\": \"log_loss\",\n",
    "    \"learning_rate\": 0.01,\n",
    "    \"n_estimators\": 100,\n",
    "    \"criterion\": \"friedman_mse\",\n",
    "    \"min_samples_split\": 5,\n",
    "    \"min_samples_leaf\": 5,\n",
    "    \"max_depth\": 8,\n",
    "    \"n_iter_no_change\": 5,\n",
    "    \"max_features\": \"sqrt\",\n",
    "    \"tol\": 0.0001\n",
    "})\n",
    "# models[\"ffnn\"].set_hyperparams({\n",
    "#     \"learning_rate\": .0005,\n",
    "#     \"batch_size\": 256,\n",
    "#     \"num_hidden\": 8,\n",
    "#     \"hidden_size\": [2048, 1024, 512, 256, 128, 64, 32, 32],\n",
    "#     \"num_epochs\": 50,\n",
    "#     \"dropout_rate\": [0.875, 0.75, 0.75, 0.5, 0.5, 0.25, 0.25],\n",
    "#     \"classify_fn\": \"sigmoid\"\n",
    "# })\n",
    "# models[\"ffnn\"].set_hyperparams({\n",
    "#     \"learning_rate\": .001,\n",
    "#     \"batch_size\": 32,\n",
    "#     \"num_hidden\": 4,\n",
    "#     \"hidden_size\": [128, 64, 64, 32],\n",
    "#     \"num_epochs\": 50,\n",
    "#     \"dropout_rate\": [0.5, 0.4, 0.3, 0.2],\n",
    "#     \"classify_fn\": \"sigmoid\"\n",
    "# # })\n",
    "models[\"ffnn\"].set_hyperparams({\n",
    "    \"learning_rate\": .00005,\n",
    "    \"batch_size\": 64,\n",
    "    \"num_hidden\": 4,\n",
    "    \"hidden_size\": 512,\n",
    "    \"num_epochs\": 50,\n",
    "    \"dropout_rate\": 0.7,\n",
    "    \"classify_fn\": \"sigmoid\"\n",
    "})\n",
    "# models[\"ffnn\"].set_hyperparams({\n",
    "#     \"input_size\": 21,\n",
    "#     \"output_size\": 3,\n",
    "#     \"hidden_size\": 512,\n",
    "#     \"num_hidden\": 2,\n",
    "#     \"num_epochs\": 50,\n",
    "#     \"batch_size\": 128,\n",
    "#     \"dropout_rate\": 0.4,\n",
    "#     \"learning_rate\": 0.0005\n",
    "# })\n",
    "\n",
    "# train & test basic model\n",
    "skip_models = []#[\"ffnn\", \"log\"]\n",
    "for mt, model in models.items():\n",
    "    # attempt to load, else train and test\n",
    "    if mt in skip_models or not model.load_model():\n",
    "        model.train_model(verbose=2)\n",
    "    model.test_model()"
   ]
  },
  {
   "cell_type": "markdown",
   "metadata": {},
   "source": [
    "***\n",
    "## Hyperparameter Optimization"
   ]
  },
  {
   "cell_type": "code",
   "execution_count": 3,
   "metadata": {},
   "outputs": [],
   "source": [
    "# optimize hyperparams\n",
    "# optimizer_results = {model_type: model.optimize_hyperparams(kfold=2) for model_type, model in models.items()}\n",
    "# print(optimizer_results)"
   ]
  },
  {
   "cell_type": "markdown",
   "metadata": {},
   "source": [
    "***\n",
    "## Fine-Tuning + Other Adjustments"
   ]
  },
  {
   "cell_type": "code",
   "execution_count": null,
   "metadata": {},
   "outputs": [],
   "source": []
  },
  {
   "cell_type": "markdown",
   "metadata": {},
   "source": [
    "***\n",
    "## Best Model Report"
   ]
  },
  {
   "cell_type": "code",
   "execution_count": null,
   "metadata": {},
   "outputs": [],
   "source": []
  },
  {
   "cell_type": "markdown",
   "metadata": {},
   "source": [
    "***\n",
    "## Interpretation"
   ]
  },
  {
   "cell_type": "markdown",
   "metadata": {},
   "source": []
  },
  {
   "cell_type": "markdown",
   "metadata": {},
   "source": [
    "***\n",
    "## Conclusion"
   ]
  }
 ],
 "metadata": {
  "kernelspec": {
   "display_name": "base",
   "language": "python",
   "name": "python3"
  },
  "language_info": {
   "codemirror_mode": {
    "name": "ipython",
    "version": 3
   },
   "file_extension": ".py",
   "mimetype": "text/x-python",
   "name": "python",
   "nbconvert_exporter": "python",
   "pygments_lexer": "ipython3",
   "version": "3.12.0"
  }
 },
 "nbformat": 4,
 "nbformat_minor": 2
}
