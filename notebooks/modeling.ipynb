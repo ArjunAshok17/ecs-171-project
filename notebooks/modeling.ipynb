{
 "cells": [
  {
   "cell_type": "markdown",
   "metadata": {},
   "source": [
    "# Modeling\n",
    "In this notebook, we'll be modeling the data we've previously prepared. Out notebook will be laid out as follows:\n",
    "\n",
    "1. Model Selection & Generation\n",
    "2. Hyperparameter Optimization\n",
    "3. Fine-Tuning (if needed)\n",
    "4. Reporting Best Model(s) + Settings\n",
    "5. Interpretation\n",
    "6. Conclusion\n",
    "\n",
    "Our eventual goal here is two-fold:\n",
    "\n",
    "1. Accurately [and fairly] model the diabetes dataset\n",
    "2. Interpret the results to find something worth recommending to those wanting to reduce risk of diabetes. This can be via LIME/SHAP (i.e. some interpretable model that approximates the neural network) or via analyzing a more simple model's structure (i.e. regression coefficients, random forest decision boundaries)"
   ]
  },
  {
   "cell_type": "code",
   "execution_count": 1,
   "metadata": {},
   "outputs": [],
   "source": [
    "# Environment Setup\n",
    "from utils.model import *\n",
    "from utils.dataset import *"
   ]
  },
  {
   "cell_type": "markdown",
   "metadata": {},
   "source": [
    "***\n",
    "## Model Selection & Generation"
   ]
  },
  {
   "cell_type": "code",
   "execution_count": 7,
   "metadata": {},
   "outputs": [
    {
     "name": "stdout",
     "output_type": "stream",
     "text": [
      "<Train-Test Split Report>\n",
      "Train: 512887 obs, 170945 no diabetes [0], 171126 pre-diabetes [1], 170816 diabetes [2]\n",
      "Test: 128222 obs, 42758 no diabetes [0], 42577 pre-diabetes [1], 42887 diabetes [2]\n"
     ]
    },
    {
     "name": "stderr",
     "output_type": "stream",
     "text": [
      "100%|██████████| 8014/8014 [00:16<00:00, 473.49it/s]\n"
     ]
    },
    {
     "name": "stdout",
     "output_type": "stream",
     "text": [
      "Epoch 1/50, Loss: 0.9859840509627923\n"
     ]
    },
    {
     "name": "stderr",
     "output_type": "stream",
     "text": [
      "100%|██████████| 8014/8014 [00:17<00:00, 456.88it/s]\n"
     ]
    },
    {
     "name": "stdout",
     "output_type": "stream",
     "text": [
      "Epoch 2/50, Loss: 0.978113356993506\n"
     ]
    },
    {
     "name": "stderr",
     "output_type": "stream",
     "text": [
      "100%|██████████| 8014/8014 [00:16<00:00, 492.53it/s]\n"
     ]
    },
    {
     "name": "stdout",
     "output_type": "stream",
     "text": [
      "Epoch 3/50, Loss: 0.9721252312528126\n"
     ]
    },
    {
     "name": "stderr",
     "output_type": "stream",
     "text": [
      "100%|██████████| 8014/8014 [00:17<00:00, 470.79it/s]\n"
     ]
    },
    {
     "name": "stdout",
     "output_type": "stream",
     "text": [
      "Epoch 4/50, Loss: 0.9591944650696911\n"
     ]
    },
    {
     "name": "stderr",
     "output_type": "stream",
     "text": [
      "100%|██████████| 8014/8014 [00:17<00:00, 461.34it/s]\n"
     ]
    },
    {
     "name": "stdout",
     "output_type": "stream",
     "text": [
      "Epoch 5/50, Loss: 0.9434594016718335\n"
     ]
    },
    {
     "name": "stderr",
     "output_type": "stream",
     "text": [
      "100%|██████████| 8014/8014 [00:17<00:00, 462.65it/s]\n"
     ]
    },
    {
     "name": "stdout",
     "output_type": "stream",
     "text": [
      "Epoch 6/50, Loss: 0.9299253725800277\n"
     ]
    },
    {
     "name": "stderr",
     "output_type": "stream",
     "text": [
      "100%|██████████| 8014/8014 [00:17<00:00, 453.95it/s]\n"
     ]
    },
    {
     "name": "stdout",
     "output_type": "stream",
     "text": [
      "Epoch 7/50, Loss: 0.9189981278603827\n"
     ]
    },
    {
     "name": "stderr",
     "output_type": "stream",
     "text": [
      "100%|██████████| 8014/8014 [00:17<00:00, 456.51it/s]\n"
     ]
    },
    {
     "name": "stdout",
     "output_type": "stream",
     "text": [
      "Epoch 8/50, Loss: 0.909109007644332\n"
     ]
    },
    {
     "name": "stderr",
     "output_type": "stream",
     "text": [
      "100%|██████████| 8014/8014 [00:17<00:00, 465.25it/s]\n"
     ]
    },
    {
     "name": "stdout",
     "output_type": "stream",
     "text": [
      "Epoch 9/50, Loss: 0.9011274860971492\n"
     ]
    },
    {
     "name": "stderr",
     "output_type": "stream",
     "text": [
      "100%|██████████| 8014/8014 [00:17<00:00, 465.03it/s]\n"
     ]
    },
    {
     "name": "stdout",
     "output_type": "stream",
     "text": [
      "Epoch 10/50, Loss: 0.8982348591052061\n"
     ]
    },
    {
     "name": "stderr",
     "output_type": "stream",
     "text": [
      "100%|██████████| 8014/8014 [00:16<00:00, 479.13it/s]\n"
     ]
    },
    {
     "name": "stdout",
     "output_type": "stream",
     "text": [
      "Epoch 11/50, Loss: 0.8903890494801083\n"
     ]
    },
    {
     "name": "stderr",
     "output_type": "stream",
     "text": [
      "100%|██████████| 8014/8014 [00:17<00:00, 457.35it/s]\n"
     ]
    },
    {
     "name": "stdout",
     "output_type": "stream",
     "text": [
      "Epoch 12/50, Loss: 0.8875726325303086\n"
     ]
    },
    {
     "name": "stderr",
     "output_type": "stream",
     "text": [
      "100%|██████████| 8014/8014 [00:16<00:00, 474.60it/s]\n"
     ]
    },
    {
     "name": "stdout",
     "output_type": "stream",
     "text": [
      "Epoch 13/50, Loss: 0.8865164354729896\n"
     ]
    },
    {
     "name": "stderr",
     "output_type": "stream",
     "text": [
      "100%|██████████| 8014/8014 [00:17<00:00, 454.74it/s]\n"
     ]
    },
    {
     "name": "stdout",
     "output_type": "stream",
     "text": [
      "Epoch 14/50, Loss: 0.8802428725564869\n"
     ]
    },
    {
     "name": "stderr",
     "output_type": "stream",
     "text": [
      "100%|██████████| 8014/8014 [00:17<00:00, 470.88it/s]\n"
     ]
    },
    {
     "name": "stdout",
     "output_type": "stream",
     "text": [
      "Epoch 15/50, Loss: 0.8779654382380102\n"
     ]
    },
    {
     "name": "stderr",
     "output_type": "stream",
     "text": [
      "100%|██████████| 8014/8014 [00:16<00:00, 474.96it/s]\n"
     ]
    },
    {
     "name": "stdout",
     "output_type": "stream",
     "text": [
      "Epoch 16/50, Loss: 0.8752753020210519\n"
     ]
    },
    {
     "name": "stderr",
     "output_type": "stream",
     "text": [
      "100%|██████████| 8014/8014 [00:17<00:00, 454.72it/s]\n"
     ]
    },
    {
     "name": "stdout",
     "output_type": "stream",
     "text": [
      "Epoch 17/50, Loss: 0.8702641290814496\n"
     ]
    },
    {
     "name": "stderr",
     "output_type": "stream",
     "text": [
      "100%|██████████| 8014/8014 [00:17<00:00, 459.79it/s]\n"
     ]
    },
    {
     "name": "stdout",
     "output_type": "stream",
     "text": [
      "Epoch 18/50, Loss: 0.8722536684956846\n"
     ]
    },
    {
     "name": "stderr",
     "output_type": "stream",
     "text": [
      "100%|██████████| 8014/8014 [00:17<00:00, 461.29it/s]\n"
     ]
    },
    {
     "name": "stdout",
     "output_type": "stream",
     "text": [
      "Epoch 19/50, Loss: 0.8744876040152727\n"
     ]
    },
    {
     "name": "stderr",
     "output_type": "stream",
     "text": [
      "100%|██████████| 8014/8014 [00:17<00:00, 459.22it/s]\n"
     ]
    },
    {
     "name": "stdout",
     "output_type": "stream",
     "text": [
      "Epoch 20/50, Loss: 0.8695496388257576\n"
     ]
    },
    {
     "name": "stderr",
     "output_type": "stream",
     "text": [
      "100%|██████████| 8014/8014 [00:17<00:00, 450.85it/s]\n"
     ]
    },
    {
     "name": "stdout",
     "output_type": "stream",
     "text": [
      "Epoch 21/50, Loss: 0.8643697466685464\n"
     ]
    },
    {
     "name": "stderr",
     "output_type": "stream",
     "text": [
      "100%|██████████| 8014/8014 [00:17<00:00, 462.35it/s]\n"
     ]
    },
    {
     "name": "stdout",
     "output_type": "stream",
     "text": [
      "Epoch 22/50, Loss: 0.8613728264159385\n"
     ]
    },
    {
     "name": "stderr",
     "output_type": "stream",
     "text": [
      "100%|██████████| 8014/8014 [00:17<00:00, 462.39it/s]\n"
     ]
    },
    {
     "name": "stdout",
     "output_type": "stream",
     "text": [
      "Epoch 23/50, Loss: 0.8601708793345609\n"
     ]
    },
    {
     "name": "stderr",
     "output_type": "stream",
     "text": [
      "100%|██████████| 8014/8014 [00:17<00:00, 461.66it/s]\n"
     ]
    },
    {
     "name": "stdout",
     "output_type": "stream",
     "text": [
      "Epoch 24/50, Loss: 0.8565260812636472\n"
     ]
    },
    {
     "name": "stderr",
     "output_type": "stream",
     "text": [
      "100%|██████████| 8014/8014 [00:17<00:00, 462.83it/s]\n"
     ]
    },
    {
     "name": "stdout",
     "output_type": "stream",
     "text": [
      "Epoch 25/50, Loss: 0.8598311676968949\n"
     ]
    },
    {
     "name": "stderr",
     "output_type": "stream",
     "text": [
      "100%|██████████| 8014/8014 [00:17<00:00, 469.44it/s]\n"
     ]
    },
    {
     "name": "stdout",
     "output_type": "stream",
     "text": [
      "Epoch 26/50, Loss: 0.8549457167356366\n"
     ]
    },
    {
     "name": "stderr",
     "output_type": "stream",
     "text": [
      "100%|██████████| 8014/8014 [00:17<00:00, 461.66it/s]\n"
     ]
    },
    {
     "name": "stdout",
     "output_type": "stream",
     "text": [
      "Epoch 27/50, Loss: 0.854540077935498\n"
     ]
    },
    {
     "name": "stderr",
     "output_type": "stream",
     "text": [
      "100%|██████████| 8014/8014 [00:17<00:00, 460.04it/s]\n"
     ]
    },
    {
     "name": "stdout",
     "output_type": "stream",
     "text": [
      "Epoch 28/50, Loss: 0.8483058482609338\n"
     ]
    },
    {
     "name": "stderr",
     "output_type": "stream",
     "text": [
      "100%|██████████| 8014/8014 [00:17<00:00, 466.06it/s]\n"
     ]
    },
    {
     "name": "stdout",
     "output_type": "stream",
     "text": [
      "Epoch 29/50, Loss: 0.8563944715007095\n"
     ]
    },
    {
     "name": "stderr",
     "output_type": "stream",
     "text": [
      "100%|██████████| 8014/8014 [00:16<00:00, 473.15it/s]\n"
     ]
    },
    {
     "name": "stdout",
     "output_type": "stream",
     "text": [
      "Epoch 30/50, Loss: 0.8533650489186062\n"
     ]
    },
    {
     "name": "stderr",
     "output_type": "stream",
     "text": [
      "100%|██████████| 8014/8014 [00:16<00:00, 482.64it/s]\n"
     ]
    },
    {
     "name": "stdout",
     "output_type": "stream",
     "text": [
      "Epoch 31/50, Loss: 0.8631086107468944\n"
     ]
    },
    {
     "name": "stderr",
     "output_type": "stream",
     "text": [
      "100%|██████████| 8014/8014 [00:16<00:00, 482.85it/s]\n"
     ]
    },
    {
     "name": "stdout",
     "output_type": "stream",
     "text": [
      "Epoch 32/50, Loss: 0.8476130192955742\n"
     ]
    },
    {
     "name": "stderr",
     "output_type": "stream",
     "text": [
      "100%|██████████| 8014/8014 [00:17<00:00, 461.90it/s]\n"
     ]
    },
    {
     "name": "stdout",
     "output_type": "stream",
     "text": [
      "Epoch 33/50, Loss: 0.8496551217805545\n"
     ]
    },
    {
     "name": "stderr",
     "output_type": "stream",
     "text": [
      "100%|██████████| 8014/8014 [00:17<00:00, 460.92it/s]\n"
     ]
    },
    {
     "name": "stdout",
     "output_type": "stream",
     "text": [
      "Epoch 34/50, Loss: 0.8420476784633525\n"
     ]
    },
    {
     "name": "stderr",
     "output_type": "stream",
     "text": [
      "100%|██████████| 8014/8014 [00:17<00:00, 464.87it/s]\n"
     ]
    },
    {
     "name": "stdout",
     "output_type": "stream",
     "text": [
      "Epoch 35/50, Loss: 0.8393999480133137\n"
     ]
    },
    {
     "name": "stderr",
     "output_type": "stream",
     "text": [
      "100%|██████████| 8014/8014 [00:16<00:00, 476.75it/s]\n"
     ]
    },
    {
     "name": "stdout",
     "output_type": "stream",
     "text": [
      "Epoch 36/50, Loss: 0.8448388025904642\n"
     ]
    },
    {
     "name": "stderr",
     "output_type": "stream",
     "text": [
      "100%|██████████| 8014/8014 [00:17<00:00, 453.02it/s]\n"
     ]
    },
    {
     "name": "stdout",
     "output_type": "stream",
     "text": [
      "Epoch 37/50, Loss: 0.8491686717333983\n"
     ]
    },
    {
     "name": "stderr",
     "output_type": "stream",
     "text": [
      "100%|██████████| 8014/8014 [00:17<00:00, 469.40it/s]\n"
     ]
    },
    {
     "name": "stdout",
     "output_type": "stream",
     "text": [
      "Epoch 38/50, Loss: 0.8356242845978914\n"
     ]
    },
    {
     "name": "stderr",
     "output_type": "stream",
     "text": [
      "100%|██████████| 8014/8014 [00:17<00:00, 468.98it/s]\n"
     ]
    },
    {
     "name": "stdout",
     "output_type": "stream",
     "text": [
      "Epoch 39/50, Loss: 0.8432380623849575\n"
     ]
    },
    {
     "name": "stderr",
     "output_type": "stream",
     "text": [
      "100%|██████████| 8014/8014 [00:17<00:00, 463.81it/s]\n"
     ]
    },
    {
     "name": "stdout",
     "output_type": "stream",
     "text": [
      "Epoch 40/50, Loss: 0.8442884803948808\n"
     ]
    },
    {
     "name": "stderr",
     "output_type": "stream",
     "text": [
      "100%|██████████| 8014/8014 [00:17<00:00, 457.11it/s]\n"
     ]
    },
    {
     "name": "stdout",
     "output_type": "stream",
     "text": [
      "Epoch 41/50, Loss: 0.8389939781002252\n"
     ]
    },
    {
     "name": "stderr",
     "output_type": "stream",
     "text": [
      "100%|██████████| 8014/8014 [00:17<00:00, 451.93it/s]\n"
     ]
    },
    {
     "name": "stdout",
     "output_type": "stream",
     "text": [
      "Epoch 42/50, Loss: 0.8395128786296121\n"
     ]
    },
    {
     "name": "stderr",
     "output_type": "stream",
     "text": [
      "100%|██████████| 8014/8014 [00:16<00:00, 474.91it/s]\n"
     ]
    },
    {
     "name": "stdout",
     "output_type": "stream",
     "text": [
      "Epoch 43/50, Loss: 0.8710140213723607\n"
     ]
    },
    {
     "name": "stderr",
     "output_type": "stream",
     "text": [
      "100%|██████████| 8014/8014 [00:17<00:00, 458.79it/s]\n"
     ]
    },
    {
     "name": "stdout",
     "output_type": "stream",
     "text": [
      "Epoch 44/50, Loss: 0.8568723185537818\n"
     ]
    },
    {
     "name": "stderr",
     "output_type": "stream",
     "text": [
      "100%|██████████| 8014/8014 [00:17<00:00, 463.58it/s]\n"
     ]
    },
    {
     "name": "stdout",
     "output_type": "stream",
     "text": [
      "Epoch 45/50, Loss: 0.8377546460470238\n"
     ]
    },
    {
     "name": "stderr",
     "output_type": "stream",
     "text": [
      "100%|██████████| 8014/8014 [00:17<00:00, 457.56it/s]\n"
     ]
    },
    {
     "name": "stdout",
     "output_type": "stream",
     "text": [
      "Epoch 46/50, Loss: 0.8499360855809167\n"
     ]
    },
    {
     "name": "stderr",
     "output_type": "stream",
     "text": [
      "100%|██████████| 8014/8014 [00:17<00:00, 462.59it/s]\n"
     ]
    },
    {
     "name": "stdout",
     "output_type": "stream",
     "text": [
      "Epoch 47/50, Loss: 0.8476901885976451\n"
     ]
    },
    {
     "name": "stderr",
     "output_type": "stream",
     "text": [
      "100%|██████████| 8014/8014 [00:17<00:00, 465.84it/s]\n"
     ]
    },
    {
     "name": "stdout",
     "output_type": "stream",
     "text": [
      "Epoch 48/50, Loss: 0.8329552982568681\n"
     ]
    },
    {
     "name": "stderr",
     "output_type": "stream",
     "text": [
      "100%|██████████| 8014/8014 [00:17<00:00, 461.74it/s]\n"
     ]
    },
    {
     "name": "stdout",
     "output_type": "stream",
     "text": [
      "Epoch 49/50, Loss: 0.8318900789053089\n"
     ]
    },
    {
     "name": "stderr",
     "output_type": "stream",
     "text": [
      "100%|██████████| 8014/8014 [00:17<00:00, 452.85it/s]\n"
     ]
    },
    {
     "name": "stdout",
     "output_type": "stream",
     "text": [
      "Epoch 50/50, Loss: 0.8256360343679514\n",
      "\n",
      "<Test Report>\n",
      "Precision: [no diabetes] 0.6871986127277478, [pre-diabetes] 0.7103934968064675, [diabetes] 0.6428519602389533\n",
      "Recall: [no diabetes] 0.6765751438327331, [pre-diabetes] 0.7471169880451887, [diabetes] 0.6197682281343997\n",
      "F1-Score: [no diabetes] 0.6818455011490189, [pre-diabetes] 0.7282925991643294, [diabetes] 0.6310990811311347\n",
      "Support: [no diabetes] 42758, [pre-diabetes] 42577, [diabetes] 42887\n",
      "Accuracy: 68.0999%\n"
     ]
    }
   ],
   "source": [
    "# generate lookup for models\n",
    "models = {\n",
    "    # \"tree\": TreeClassifier(target=\"diabetes\", path=\"../datasets/processed.parquet\"),\n",
    "    \"ffnn\": MLPClassifier(target=\"diabetes\", path=\"../datasets/processed.parquet\")\n",
    "}\n",
    "\n",
    "# manual search\n",
    "models[\"ffnn\"].set_hyperparams({\n",
    "    \"learning_rate\": .001,\n",
    "    \"batch_size\": 64,\n",
    "    \"num_hidden\": 16,\n",
    "    \"hidden_size\": 64,\n",
    "    \"num_epochs\": 50\n",
    "})\n",
    "\n",
    "# train & test basic model\n",
    "for mt, model in models.items():\n",
    "    # attempt to load, else train and test\n",
    "    # if not model.load_model():\n",
    "    model.train_model(verbose=1)\n",
    "    model.test_model()"
   ]
  },
  {
   "cell_type": "markdown",
   "metadata": {},
   "source": [
    "***\n",
    "## Hyperparameter Optimization"
   ]
  },
  {
   "cell_type": "code",
   "execution_count": null,
   "metadata": {},
   "outputs": [
    {
     "name": "stdout",
     "output_type": "stream",
     "text": [
      "Fitting 2 folds for each of 360 candidates, totalling 720 fits\n"
     ]
    },
    {
     "name": "stdout",
     "output_type": "stream",
     "text": [
      "[CV 1/2] END batch_size=32, hidden_size=32, input_size=21, learning_rate=1, num_epochs=10, num_hidden=1, output_size=3;, score=nan total time=   0.2s\n",
      "[CV 1/2] END batch_size=32, hidden_size=32, input_size=21, learning_rate=1, num_epochs=10, num_hidden=3, output_size=3;, score=nan total time=   0.2s\n",
      "[CV 2/2] END batch_size=32, hidden_size=32, input_size=21, learning_rate=1, num_epochs=10, num_hidden=1, output_size=3;, score=nan total time=   0.2s\n",
      "[CV 2/2] END batch_size=32, hidden_size=32, input_size=21, learning_rate=1, num_epochs=10, num_hidden=2, output_size=3;, score=nan total time=   0.3s\n",
      "[CV 2/2] END batch_size=32, hidden_size=32, input_size=21, learning_rate=1, num_epochs=25, num_hidden=1, output_size=3;, score=nan total time=   0.3s\n",
      "[CV 1/2] END batch_size=32, hidden_size=32, input_size=21, learning_rate=1, num_epochs=10, num_hidden=2, output_size=3;, score=nan total time=   0.3s\n",
      "[CV 1/2] END batch_size=32, hidden_size=32, input_size=21, learning_rate=1, num_epochs=25, num_hidden=1, output_size=3;, score=nan total time=   0.3s\n",
      "[CV 2/2] END batch_size=32, hidden_size=32, input_size=21, learning_rate=1, num_epochs=10, num_hidden=3, output_size=3;, score=nan total time=   0.3s\n",
      "[CV 1/2] END batch_size=32, hidden_size=32, input_size=21, learning_rate=1, num_epochs=25, num_hidden=2, output_size=3;, score=nan total time=   0.2s\n",
      "[CV 2/2] END batch_size=32, hidden_size=32, input_size=21, learning_rate=1, num_epochs=25, num_hidden=3, output_size=3;, score=nan total time=   0.2s\n",
      "[CV 1/2] END batch_size=32, hidden_size=32, input_size=21, learning_rate=1, num_epochs=25, num_hidden=3, output_size=3;, score=nan total time=   0.2s\n",
      "[CV 1/2] END batch_size=32, hidden_size=32, input_size=21, learning_rate=0.1, num_epochs=10, num_hidden=1, output_size=3;, score=nan total time=   0.2s\n",
      "[CV 2/2] END batch_size=32, hidden_size=32, input_size=21, learning_rate=1, num_epochs=25, num_hidden=2, output_size=3;, score=nan total time=   0.3s\n",
      "[CV 2/2] END batch_size=32, hidden_size=32, input_size=21, learning_rate=0.1, num_epochs=10, num_hidden=1, output_size=3;, score=nan total time=   0.2s\n",
      "[CV 1/2] END batch_size=32, hidden_size=32, input_size=21, learning_rate=0.1, num_epochs=10, num_hidden=2, output_size=3;, score=nan total time=   0.3s\n",
      "[CV 2/2] END batch_size=32, hidden_size=32, input_size=21, learning_rate=0.1, num_epochs=10, num_hidden=2, output_size=3;, score=nan total time=   0.3s\n",
      "[CV 1/2] END batch_size=32, hidden_size=32, input_size=21, learning_rate=0.1, num_epochs=10, num_hidden=3, output_size=3;, score=nan total time=   0.3s\n",
      "[CV 1/2] END batch_size=32, hidden_size=32, input_size=21, learning_rate=0.1, num_epochs=25, num_hidden=1, output_size=3;, score=nan total time=   0.3s\n",
      "[CV 2/2] END batch_size=32, hidden_size=32, input_size=21, learning_rate=0.1, num_epochs=25, num_hidden=1, output_size=3;, score=nan total time=   0.3s\n",
      "[CV 1/2] END batch_size=32, hidden_size=32, input_size=21, learning_rate=0.1, num_epochs=25, num_hidden=2, output_size=3;, score=nan total time=   0.3s\n",
      "[CV 2/2] END batch_size=32, hidden_size=32, input_size=21, learning_rate=0.1, num_epochs=10, num_hidden=3, output_size=3;, score=nan total time=   0.3s\n",
      "[CV 2/2] END batch_size=32, hidden_size=32, input_size=21, learning_rate=0.1, num_epochs=25, num_hidden=2, output_size=3;, score=nan total time=   0.3s\n",
      "[CV 1/2] END batch_size=32, hidden_size=32, input_size=21, learning_rate=0.1, num_epochs=25, num_hidden=3, output_size=3;, score=nan total time=   0.3s\n",
      "[CV 2/2] END batch_size=32, hidden_size=32, input_size=21, learning_rate=0.01, num_epochs=10, num_hidden=1, output_size=3;, score=nan total time=   0.3s\n",
      "[CV 1/2] END batch_size=32, hidden_size=32, input_size=21, learning_rate=0.01, num_epochs=10, num_hidden=1, output_size=3;, score=nan total time=   0.3s\n",
      "[CV 1/2] END batch_size=32, hidden_size=32, input_size=21, learning_rate=0.01, num_epochs=10, num_hidden=3, output_size=3;, score=nan total time=   0.3s\n",
      "[CV 2/2] END batch_size=32, hidden_size=32, input_size=21, learning_rate=0.01, num_epochs=10, num_hidden=2, output_size=3;, score=nan total time=   0.3s\n",
      "[CV 2/2] END batch_size=32, hidden_size=32, input_size=21, learning_rate=0.1, num_epochs=25, num_hidden=3, output_size=3;, score=nan total time=   0.3s\n",
      "[CV 2/2] END batch_size=32, hidden_size=32, input_size=21, learning_rate=0.01, num_epochs=10, num_hidden=3, output_size=3;, score=nan total time=   0.3s\n",
      "[CV 1/2] END batch_size=32, hidden_size=32, input_size=21, learning_rate=0.01, num_epochs=10, num_hidden=2, output_size=3;, score=nan total time=   0.3s\n",
      "[CV 1/2] END batch_size=32, hidden_size=32, input_size=21, learning_rate=0.01, num_epochs=25, num_hidden=1, output_size=3;, score=nan total time=   0.3s\n",
      "[CV 1/2] END batch_size=32, hidden_size=32, input_size=21, learning_rate=0.01, num_epochs=25, num_hidden=2, output_size=3;, score=nan total time=   0.3s[CV 1/2] END batch_size=32, hidden_size=32, input_size=21, learning_rate=0.01, num_epochs=25, num_hidden=3, output_size=3;, score=nan total time=   0.3s\n",
      "\n",
      "[CV 2/2] END batch_size=32, hidden_size=32, input_size=21, learning_rate=0.01, num_epochs=25, num_hidden=2, output_size=3;, score=nan total time=   0.3s\n",
      "[CV 2/2] END batch_size=32, hidden_size=32, input_size=21, learning_rate=0.01, num_epochs=25, num_hidden=1, output_size=3;, score=nan total time=   0.3s\n",
      "[CV 2/2] END batch_size=32, hidden_size=32, input_size=21, learning_rate=0.001, num_epochs=10, num_hidden=1, output_size=3;, score=nan total time=   0.3s\n",
      "[CV 2/2] END batch_size=32, hidden_size=32, input_size=21, learning_rate=0.01, num_epochs=25, num_hidden=3, output_size=3;, score=nan total time=   0.3s\n",
      "[CV 1/2] END batch_size=32, hidden_size=32, input_size=21, learning_rate=0.001, num_epochs=10, num_hidden=1, output_size=3;, score=nan total time=   0.3s\n",
      "[CV 1/2] END batch_size=32, hidden_size=32, input_size=21, learning_rate=0.001, num_epochs=10, num_hidden=2, output_size=3;, score=nan total time=   0.2s\n",
      "[CV 1/2] END batch_size=32, hidden_size=32, input_size=21, learning_rate=0.001, num_epochs=25, num_hidden=1, output_size=3;, score=nan total time=   0.3s\n",
      "[CV 1/2] END batch_size=32, hidden_size=32, input_size=21, learning_rate=0.001, num_epochs=10, num_hidden=3, output_size=3;, score=nan total time=   0.3s\n",
      "[CV 2/2] END batch_size=32, hidden_size=32, input_size=21, learning_rate=0.001, num_epochs=10, num_hidden=3, output_size=3;, score=nan total time=   0.3s\n",
      "[CV 1/2] END batch_size=32, hidden_size=32, input_size=21, learning_rate=0.001, num_epochs=25, num_hidden=2, output_size=3;, score=nan total time=   0.3s\n",
      "[CV 2/2] END batch_size=32, hidden_size=32, input_size=21, learning_rate=0.001, num_epochs=10, num_hidden=2, output_size=3;, score=nan total time=   0.3s[CV 2/2] END batch_size=32, hidden_size=32, input_size=21, learning_rate=0.001, num_epochs=25, num_hidden=1, output_size=3;, score=nan total time=   0.3s\n",
      "\n",
      "[CV 2/2] END batch_size=32, hidden_size=32, input_size=21, learning_rate=0.001, num_epochs=25, num_hidden=2, output_size=3;, score=nan total time=   0.3s\n",
      "[CV 1/2] END batch_size=32, hidden_size=32, input_size=21, learning_rate=0.001, num_epochs=25, num_hidden=3, output_size=3;, score=nan total time=   0.3s\n",
      "[CV 2/2] END batch_size=32, hidden_size=32, input_size=21, learning_rate=0.001, num_epochs=25, num_hidden=3, output_size=3;, score=nan total time=   0.3s\n",
      "[CV 1/2] END batch_size=32, hidden_size=32, input_size=21, learning_rate=0.0001, num_epochs=10, num_hidden=1, output_size=3;, score=nan total time=   0.3s\n",
      "[CV 2/2] END batch_size=32, hidden_size=32, input_size=21, learning_rate=0.0001, num_epochs=10, num_hidden=1, output_size=3;, score=nan total time=   0.3s\n",
      "[CV 2/2] END batch_size=32, hidden_size=32, input_size=21, learning_rate=0.0001, num_epochs=10, num_hidden=2, output_size=3;, score=nan total time=   0.3s\n",
      "[CV 1/2] END batch_size=32, hidden_size=32, input_size=21, learning_rate=0.0001, num_epochs=10, num_hidden=2, output_size=3;, score=nan total time=   0.3s\n",
      "[CV 2/2] END batch_size=32, hidden_size=32, input_size=21, learning_rate=0.0001, num_epochs=10, num_hidden=3, output_size=3;, score=nan total time=   0.3s\n",
      "[CV 1/2] END batch_size=32, hidden_size=32, input_size=21, learning_rate=0.0001, num_epochs=10, num_hidden=3, output_size=3;, score=nan total time=   0.3s\n",
      "[CV 1/2] END batch_size=32, hidden_size=32, input_size=21, learning_rate=0.0001, num_epochs=25, num_hidden=1, output_size=3;, score=nan total time=   0.3s\n",
      "[CV 2/2] END batch_size=32, hidden_size=32, input_size=21, learning_rate=0.0001, num_epochs=25, num_hidden=2, output_size=3;, score=nan total time=   0.3s\n",
      "[CV 1/2] END batch_size=32, hidden_size=32, input_size=21, learning_rate=0.0001, num_epochs=25, num_hidden=3, output_size=3;, score=nan total time=   0.3s\n",
      "[CV 1/2] END batch_size=32, hidden_size=64, input_size=21, learning_rate=1, num_epochs=10, num_hidden=1, output_size=3;, score=nan total time=   0.3s\n",
      "[CV 2/2] END batch_size=32, hidden_size=32, input_size=21, learning_rate=0.0001, num_epochs=25, num_hidden=1, output_size=3;, score=nan total time=   0.3s\n",
      "[CV 2/2] END batch_size=32, hidden_size=32, input_size=21, learning_rate=0.0001, num_epochs=25, num_hidden=3, output_size=3;, score=nan total time=   0.3s\n",
      "[CV 1/2] END batch_size=32, hidden_size=32, input_size=21, learning_rate=0.0001, num_epochs=25, num_hidden=2, output_size=3;, score=nan total time=   0.3s\n",
      "[CV 2/2] END batch_size=32, hidden_size=64, input_size=21, learning_rate=1, num_epochs=10, num_hidden=1, output_size=3;, score=nan total time=   0.3s\n",
      "[CV 1/2] END batch_size=32, hidden_size=64, input_size=21, learning_rate=1, num_epochs=10, num_hidden=2, output_size=3;, score=nan total time=   0.3s\n",
      "[CV 1/2] END batch_size=32, hidden_size=64, input_size=21, learning_rate=1, num_epochs=10, num_hidden=3, output_size=3;, score=nan total time=   0.3s[CV 1/2] END batch_size=32, hidden_size=64, input_size=21, learning_rate=1, num_epochs=25, num_hidden=1, output_size=3;, score=nan total time=   0.3s\n",
      "\n",
      "[CV 2/2] END batch_size=32, hidden_size=64, input_size=21, learning_rate=1, num_epochs=10, num_hidden=3, output_size=3;, score=nan total time=   0.3s\n",
      "[CV 2/2] END batch_size=32, hidden_size=64, input_size=21, learning_rate=1, num_epochs=25, num_hidden=2, output_size=3;, score=nan total time=   0.3s\n",
      "[CV 1/2] END batch_size=32, hidden_size=64, input_size=21, learning_rate=1, num_epochs=25, num_hidden=2, output_size=3;, score=nan total time=   0.3s\n",
      "[CV 2/2] END batch_size=32, hidden_size=64, input_size=21, learning_rate=1, num_epochs=25, num_hidden=1, output_size=3;, score=nan total time=   0.3s\n",
      "[CV 2/2] END batch_size=32, hidden_size=64, input_size=21, learning_rate=1, num_epochs=10, num_hidden=2, output_size=3;, score=nan total time=   0.3s\n",
      "[CV 1/2] END batch_size=32, hidden_size=64, input_size=21, learning_rate=1, num_epochs=25, num_hidden=3, output_size=3;, score=nan total time=   0.3s\n",
      "[CV 1/2] END batch_size=32, hidden_size=64, input_size=21, learning_rate=0.1, num_epochs=10, num_hidden=2, output_size=3;, score=nan total time=   0.3s[CV 1/2] END batch_size=32, hidden_size=64, input_size=21, learning_rate=0.1, num_epochs=10, num_hidden=1, output_size=3;, score=nan total time=   0.3s\n",
      "\n",
      "[CV 2/2] END batch_size=32, hidden_size=64, input_size=21, learning_rate=0.1, num_epochs=10, num_hidden=1, output_size=3;, score=nan total time=   0.3s\n",
      "[CV 1/2] END batch_size=32, hidden_size=64, input_size=21, learning_rate=0.1, num_epochs=10, num_hidden=3, output_size=3;, score=nan total time=   0.3s\n",
      "[CV 2/2] END batch_size=32, hidden_size=64, input_size=21, learning_rate=1, num_epochs=25, num_hidden=3, output_size=3;, score=nan total time=   0.3s\n",
      "[CV 2/2] END batch_size=32, hidden_size=64, input_size=21, learning_rate=0.1, num_epochs=10, num_hidden=2, output_size=3;, score=nan total time=   0.3s[CV 2/2] END batch_size=32, hidden_size=64, input_size=21, learning_rate=0.1, num_epochs=10, num_hidden=3, output_size=3;, score=nan total time=   0.3s\n",
      "\n",
      "[CV 1/2] END batch_size=32, hidden_size=64, input_size=21, learning_rate=0.1, num_epochs=25, num_hidden=1, output_size=3;, score=nan total time=   0.3s\n",
      "[CV 2/2] END batch_size=32, hidden_size=64, input_size=21, learning_rate=0.1, num_epochs=25, num_hidden=1, output_size=3;, score=nan total time=   0.3s\n",
      "[CV 1/2] END batch_size=32, hidden_size=64, input_size=21, learning_rate=0.1, num_epochs=25, num_hidden=3, output_size=3;, score=nan total time=   0.3s\n",
      "[CV 1/2] END batch_size=32, hidden_size=64, input_size=21, learning_rate=0.1, num_epochs=25, num_hidden=2, output_size=3;, score=nan total time=   0.3s\n",
      "[CV 2/2] END batch_size=32, hidden_size=64, input_size=21, learning_rate=0.1, num_epochs=25, num_hidden=3, output_size=3;, score=nan total time=   0.3s\n",
      "[CV 2/2] END batch_size=32, hidden_size=64, input_size=21, learning_rate=0.01, num_epochs=10, num_hidden=1, output_size=3;, score=nan total time=   0.3s\n",
      "[CV 1/2] END batch_size=32, hidden_size=64, input_size=21, learning_rate=0.01, num_epochs=10, num_hidden=1, output_size=3;, score=nan total time=   0.3s[CV 2/2] END batch_size=32, hidden_size=64, input_size=21, learning_rate=0.1, num_epochs=25, num_hidden=2, output_size=3;, score=nan total time=   0.3s\n",
      "\n",
      "[CV 1/2] END batch_size=32, hidden_size=64, input_size=21, learning_rate=0.01, num_epochs=10, num_hidden=2, output_size=3;, score=nan total time=   0.2s\n",
      "[CV 2/2] END batch_size=32, hidden_size=64, input_size=21, learning_rate=0.01, num_epochs=10, num_hidden=2, output_size=3;, score=nan total time=   0.3s\n",
      "[CV 2/2] END batch_size=32, hidden_size=64, input_size=21, learning_rate=0.01, num_epochs=10, num_hidden=3, output_size=3;, score=nan total time=   0.3s\n",
      "[CV 1/2] END batch_size=32, hidden_size=64, input_size=21, learning_rate=0.01, num_epochs=25, num_hidden=2, output_size=3;, score=nan total time=   0.3s[CV 1/2] END batch_size=32, hidden_size=64, input_size=21, learning_rate=0.01, num_epochs=25, num_hidden=1, output_size=3;, score=nan total time=   0.3s\n",
      "\n",
      "[CV 2/2] END batch_size=32, hidden_size=64, input_size=21, learning_rate=0.01, num_epochs=25, num_hidden=1, output_size=3;, score=nan total time=   0.3s\n",
      "[CV 1/2] END batch_size=32, hidden_size=64, input_size=21, learning_rate=0.01, num_epochs=10, num_hidden=3, output_size=3;, score=nan total time=   0.3s\n",
      "[CV 1/2] END batch_size=32, hidden_size=64, input_size=21, learning_rate=0.01, num_epochs=25, num_hidden=3, output_size=3;, score=nan total time=   0.3s\n",
      "[CV 2/2] END batch_size=32, hidden_size=64, input_size=21, learning_rate=0.01, num_epochs=25, num_hidden=2, output_size=3;, score=nan total time=   0.3s\n",
      "[CV 2/2] END batch_size=32, hidden_size=64, input_size=21, learning_rate=0.01, num_epochs=25, num_hidden=3, output_size=3;, score=nan total time=   0.3s\n",
      "[CV 2/2] END batch_size=32, hidden_size=64, input_size=21, learning_rate=0.001, num_epochs=10, num_hidden=1, output_size=3;, score=nan total time=   0.3s\n",
      "[CV 1/2] END batch_size=32, hidden_size=64, input_size=21, learning_rate=0.001, num_epochs=10, num_hidden=1, output_size=3;, score=nan total time=   0.3s\n",
      "[CV 2/2] END batch_size=32, hidden_size=64, input_size=21, learning_rate=0.001, num_epochs=10, num_hidden=2, output_size=3;, score=nan total time=   0.3s\n",
      "[CV 1/2] END batch_size=32, hidden_size=64, input_size=21, learning_rate=0.001, num_epochs=10, num_hidden=3, output_size=3;, score=nan total time=   0.3s\n",
      "[CV 2/2] END batch_size=32, hidden_size=64, input_size=21, learning_rate=0.001, num_epochs=10, num_hidden=3, output_size=3;, score=nan total time=   0.3s\n",
      "[CV 1/2] END batch_size=32, hidden_size=64, input_size=21, learning_rate=0.001, num_epochs=25, num_hidden=1, output_size=3;, score=nan total time=   0.3s\n",
      "[CV 1/2] END batch_size=32, hidden_size=64, input_size=21, learning_rate=0.001, num_epochs=10, num_hidden=2, output_size=3;, score=nan total time=   0.3s\n",
      "[CV 2/2] END batch_size=32, hidden_size=64, input_size=21, learning_rate=0.001, num_epochs=25, num_hidden=1, output_size=3;, score=nan total time=   0.3s\n",
      "[CV 1/2] END batch_size=32, hidden_size=64, input_size=21, learning_rate=0.001, num_epochs=25, num_hidden=2, output_size=3;, score=nan total time=   0.3s\n",
      "[CV 1/2] END batch_size=32, hidden_size=64, input_size=21, learning_rate=0.001, num_epochs=25, num_hidden=3, output_size=3;, score=nan total time=   0.3s\n",
      "[CV 2/2] END batch_size=32, hidden_size=64, input_size=21, learning_rate=0.001, num_epochs=25, num_hidden=3, output_size=3;, score=nan total time=   0.3s\n",
      "[CV 2/2] END batch_size=32, hidden_size=64, input_size=21, learning_rate=0.001, num_epochs=25, num_hidden=2, output_size=3;, score=nan total time=   0.3s\n",
      "[CV 1/2] END batch_size=32, hidden_size=64, input_size=21, learning_rate=0.0001, num_epochs=10, num_hidden=1, output_size=3;, score=nan total time=   0.3s\n",
      "[CV 1/2] END batch_size=32, hidden_size=64, input_size=21, learning_rate=0.0001, num_epochs=10, num_hidden=2, output_size=3;, score=nan total time=   0.3s\n",
      "[CV 2/2] END batch_size=32, hidden_size=64, input_size=21, learning_rate=0.0001, num_epochs=10, num_hidden=1, output_size=3;, score=nan total time=   0.3s\n",
      "[CV 2/2] END batch_size=32, hidden_size=64, input_size=21, learning_rate=0.0001, num_epochs=10, num_hidden=2, output_size=3;, score=nan total time=   0.3s\n",
      "[CV 2/2] END batch_size=32, hidden_size=64, input_size=21, learning_rate=0.0001, num_epochs=10, num_hidden=3, output_size=3;, score=nan total time=   0.3s\n",
      "[CV 1/2] END batch_size=32, hidden_size=64, input_size=21, learning_rate=0.0001, num_epochs=25, num_hidden=1, output_size=3;, score=nan total time=   0.3s\n",
      "[CV 2/2] END batch_size=32, hidden_size=64, input_size=21, learning_rate=0.0001, num_epochs=25, num_hidden=2, output_size=3;, score=nan total time=   0.3s\n",
      "[CV 1/2] END batch_size=32, hidden_size=64, input_size=21, learning_rate=0.0001, num_epochs=25, num_hidden=2, output_size=3;, score=nan total time=   0.3s\n",
      "[CV 1/2] END batch_size=32, hidden_size=64, input_size=21, learning_rate=0.0001, num_epochs=25, num_hidden=3, output_size=3;, score=nan total time=   0.3s\n",
      "[CV 2/2] END batch_size=32, hidden_size=64, input_size=21, learning_rate=0.0001, num_epochs=25, num_hidden=1, output_size=3;, score=nan total time=   0.3s\n",
      "[CV 1/2] END batch_size=32, hidden_size=64, input_size=21, learning_rate=0.0001, num_epochs=10, num_hidden=3, output_size=3;, score=nan total time=   0.3s\n",
      "[CV 2/2] END batch_size=32, hidden_size=64, input_size=21, learning_rate=0.0001, num_epochs=25, num_hidden=3, output_size=3;, score=nan total time=   0.3s\n",
      "[CV 1/2] END batch_size=32, hidden_size=96, input_size=21, learning_rate=1, num_epochs=10, num_hidden=1, output_size=3;, score=nan total time=   0.3s\n",
      "[CV 1/2] END batch_size=32, hidden_size=96, input_size=21, learning_rate=1, num_epochs=10, num_hidden=2, output_size=3;, score=nan total time=   0.3s[CV 1/2] END batch_size=32, hidden_size=96, input_size=21, learning_rate=1, num_epochs=10, num_hidden=3, output_size=3;, score=nan total time=   0.3s\n",
      "\n",
      "[CV 2/2] END batch_size=32, hidden_size=96, input_size=21, learning_rate=1, num_epochs=10, num_hidden=1, output_size=3;, score=nan total time=   0.3s\n",
      "[CV 2/2] END batch_size=32, hidden_size=96, input_size=21, learning_rate=1, num_epochs=10, num_hidden=3, output_size=3;, score=nan total time=   0.3s\n",
      "[CV 1/2] END batch_size=32, hidden_size=96, input_size=21, learning_rate=1, num_epochs=25, num_hidden=1, output_size=3;, score=nan total time=   0.3s\n",
      "[CV 2/2] END batch_size=32, hidden_size=96, input_size=21, learning_rate=1, num_epochs=10, num_hidden=2, output_size=3;, score=nan total time=   0.3s\n",
      "[CV 2/2] END batch_size=32, hidden_size=96, input_size=21, learning_rate=1, num_epochs=25, num_hidden=1, output_size=3;, score=nan total time=   0.3s\n",
      "[CV 1/2] END batch_size=32, hidden_size=96, input_size=21, learning_rate=1, num_epochs=25, num_hidden=2, output_size=3;, score=nan total time=   0.3s\n",
      "[CV 1/2] END batch_size=32, hidden_size=96, input_size=21, learning_rate=1, num_epochs=25, num_hidden=3, output_size=3;, score=nan total time=   0.3s\n",
      "[CV 2/2] END batch_size=32, hidden_size=96, input_size=21, learning_rate=1, num_epochs=25, num_hidden=3, output_size=3;, score=nan total time=   0.3s\n",
      "[CV 1/2] END batch_size=32, hidden_size=96, input_size=21, learning_rate=0.1, num_epochs=10, num_hidden=1, output_size=3;, score=nan total time=   0.3s\n",
      "[CV 2/2] END batch_size=32, hidden_size=96, input_size=21, learning_rate=0.1, num_epochs=10, num_hidden=1, output_size=3;, score=nan total time=   0.3s\n",
      "[CV 1/2] END batch_size=32, hidden_size=96, input_size=21, learning_rate=0.1, num_epochs=10, num_hidden=2, output_size=3;, score=nan total time=   0.3s\n",
      "[CV 2/2] END batch_size=32, hidden_size=96, input_size=21, learning_rate=1, num_epochs=25, num_hidden=2, output_size=3;, score=nan total time=   0.3s\n",
      "[CV 2/2] END batch_size=32, hidden_size=96, input_size=21, learning_rate=0.1, num_epochs=10, num_hidden=2, output_size=3;, score=nan total time=   0.3s\n",
      "[CV 2/2] END batch_size=32, hidden_size=96, input_size=21, learning_rate=0.1, num_epochs=10, num_hidden=3, output_size=3;, score=nan total time=   0.3s\n",
      "[CV 1/2] END batch_size=32, hidden_size=96, input_size=21, learning_rate=0.1, num_epochs=25, num_hidden=1, output_size=3;, score=nan total time=   0.3s\n",
      "[CV 2/2] END batch_size=32, hidden_size=96, input_size=21, learning_rate=0.1, num_epochs=25, num_hidden=1, output_size=3;, score=nan total time=   0.3s\n",
      "[CV 1/2] END batch_size=32, hidden_size=96, input_size=21, learning_rate=0.1, num_epochs=25, num_hidden=2, output_size=3;, score=nan total time=   0.3s\n",
      "[CV 1/2] END batch_size=32, hidden_size=96, input_size=21, learning_rate=0.1, num_epochs=10, num_hidden=3, output_size=3;, score=nan total time=   0.3s\n",
      "[CV 2/2] END batch_size=32, hidden_size=96, input_size=21, learning_rate=0.1, num_epochs=25, num_hidden=2, output_size=3;, score=nan total time=   0.3s\n",
      "[CV 1/2] END batch_size=32, hidden_size=96, input_size=21, learning_rate=0.1, num_epochs=25, num_hidden=3, output_size=3;, score=nan total time=   0.3s\n",
      "[CV 1/2] END batch_size=32, hidden_size=96, input_size=21, learning_rate=0.01, num_epochs=10, num_hidden=1, output_size=3;, score=nan total time=   0.3s\n",
      "[CV 2/2] END batch_size=32, hidden_size=96, input_size=21, learning_rate=0.01, num_epochs=10, num_hidden=1, output_size=3;, score=nan total time=   0.3s\n",
      "[CV 2/2] END batch_size=32, hidden_size=96, input_size=21, learning_rate=0.1, num_epochs=25, num_hidden=3, output_size=3;, score=nan total time=   0.3s[CV 1/2] END batch_size=32, hidden_size=96, input_size=21, learning_rate=0.01, num_epochs=10, num_hidden=2, output_size=3;, score=nan total time=   0.3s\n",
      "\n",
      "[CV 1/2] END batch_size=32, hidden_size=96, input_size=21, learning_rate=0.01, num_epochs=10, num_hidden=3, output_size=3;, score=nan total time=   0.3s\n",
      "[CV 2/2] END batch_size=32, hidden_size=96, input_size=21, learning_rate=0.01, num_epochs=10, num_hidden=2, output_size=3;, score=nan total time=   0.3s\n",
      "[CV 2/2] END batch_size=32, hidden_size=96, input_size=21, learning_rate=0.01, num_epochs=10, num_hidden=3, output_size=3;, score=nan total time=   0.3s\n",
      "[CV 1/2] END batch_size=32, hidden_size=96, input_size=21, learning_rate=0.01, num_epochs=25, num_hidden=1, output_size=3;, score=nan total time=   0.3s\n",
      "[CV 2/2] END batch_size=32, hidden_size=96, input_size=21, learning_rate=0.01, num_epochs=25, num_hidden=2, output_size=3;, score=nan total time=   0.3s[CV 1/2] END batch_size=32, hidden_size=96, input_size=21, learning_rate=0.01, num_epochs=25, num_hidden=2, output_size=3;, score=nan total time=   0.3s\n",
      "\n",
      "[CV 1/2] END batch_size=32, hidden_size=96, input_size=21, learning_rate=0.01, num_epochs=25, num_hidden=3, output_size=3;, score=nan total time=   0.3s\n",
      "[CV 2/2] END batch_size=32, hidden_size=96, input_size=21, learning_rate=0.01, num_epochs=25, num_hidden=3, output_size=3;, score=nan total time=   0.3s\n",
      "[CV 1/2] END batch_size=32, hidden_size=96, input_size=21, learning_rate=0.001, num_epochs=10, num_hidden=1, output_size=3;, score=nan total time=   0.3s\n",
      "[CV 2/2] END batch_size=32, hidden_size=96, input_size=21, learning_rate=0.001, num_epochs=10, num_hidden=1, output_size=3;, score=nan total time=   0.3s\n",
      "[CV 2/2] END batch_size=32, hidden_size=96, input_size=21, learning_rate=0.01, num_epochs=25, num_hidden=1, output_size=3;, score=nan total time=   0.3s\n",
      "[CV 1/2] END batch_size=32, hidden_size=96, input_size=21, learning_rate=0.001, num_epochs=10, num_hidden=2, output_size=3;, score=nan total time=   0.3s\n",
      "[CV 2/2] END batch_size=32, hidden_size=96, input_size=21, learning_rate=0.001, num_epochs=10, num_hidden=3, output_size=3;, score=nan total time=   0.3s\n",
      "[CV 2/2] END batch_size=32, hidden_size=96, input_size=21, learning_rate=0.001, num_epochs=10, num_hidden=2, output_size=3;, score=nan total time=   0.3s\n",
      "[CV 1/2] END batch_size=32, hidden_size=96, input_size=21, learning_rate=0.001, num_epochs=25, num_hidden=1, output_size=3;, score=nan total time=   0.3s\n",
      "[CV 2/2] END batch_size=32, hidden_size=96, input_size=21, learning_rate=0.001, num_epochs=25, num_hidden=2, output_size=3;, score=nan total time=   0.3s\n",
      "[CV 1/2] END batch_size=32, hidden_size=96, input_size=21, learning_rate=0.001, num_epochs=25, num_hidden=2, output_size=3;, score=nan total time=   0.3s\n",
      "[CV 2/2] END batch_size=32, hidden_size=96, input_size=21, learning_rate=0.001, num_epochs=25, num_hidden=1, output_size=3;, score=nan total time=   0.3s\n",
      "[CV 1/2] END batch_size=32, hidden_size=96, input_size=21, learning_rate=0.001, num_epochs=10, num_hidden=3, output_size=3;, score=nan total time=   0.3s\n",
      "[CV 1/2] END batch_size=32, hidden_size=96, input_size=21, learning_rate=0.001, num_epochs=25, num_hidden=3, output_size=3;, score=nan total time=   0.3s\n",
      "[CV 2/2] END batch_size=32, hidden_size=96, input_size=21, learning_rate=0.001, num_epochs=25, num_hidden=3, output_size=3;, score=nan total time=   0.3s\n",
      "[CV 1/2] END batch_size=32, hidden_size=96, input_size=21, learning_rate=0.0001, num_epochs=10, num_hidden=1, output_size=3;, score=nan total time=   0.3s\n",
      "[CV 2/2] END batch_size=32, hidden_size=96, input_size=21, learning_rate=0.0001, num_epochs=10, num_hidden=2, output_size=3;, score=nan total time=   0.3s\n",
      "[CV 2/2] END batch_size=32, hidden_size=96, input_size=21, learning_rate=0.0001, num_epochs=10, num_hidden=3, output_size=3;, score=nan total time=   0.3s\n",
      "[CV 2/2] END batch_size=32, hidden_size=96, input_size=21, learning_rate=0.0001, num_epochs=10, num_hidden=1, output_size=3;, score=nan total time=   0.3s\n",
      "[CV 1/2] END batch_size=32, hidden_size=96, input_size=21, learning_rate=0.0001, num_epochs=10, num_hidden=2, output_size=3;, score=nan total time=   0.3s\n",
      "[CV 1/2] END batch_size=32, hidden_size=96, input_size=21, learning_rate=0.0001, num_epochs=25, num_hidden=2, output_size=3;, score=nan total time=   0.2s\n",
      "[CV 2/2] END batch_size=32, hidden_size=96, input_size=21, learning_rate=0.0001, num_epochs=25, num_hidden=1, output_size=3;, score=nan total time=   0.2s\n",
      "[CV 2/2] END batch_size=32, hidden_size=96, input_size=21, learning_rate=0.0001, num_epochs=25, num_hidden=2, output_size=3;, score=nan total time=   0.2s\n",
      "[CV 1/2] END batch_size=32, hidden_size=96, input_size=21, learning_rate=0.0001, num_epochs=25, num_hidden=3, output_size=3;, score=nan total time=   0.2s\n",
      "[CV 1/2] END batch_size=32, hidden_size=128, input_size=21, learning_rate=1, num_epochs=10, num_hidden=1, output_size=3;, score=nan total time=   0.2s\n",
      "[CV 1/2] END batch_size=32, hidden_size=128, input_size=21, learning_rate=1, num_epochs=10, num_hidden=2, output_size=3;, score=nan total time=   0.1s\n"
     ]
    },
    {
     "ename": "KeyboardInterrupt",
     "evalue": "",
     "output_type": "error",
     "traceback": [
      "\u001b[0;31m---------------------------------------------------------------------------\u001b[0m",
      "\u001b[0;31mKeyboardInterrupt\u001b[0m                         Traceback (most recent call last)",
      "Cell \u001b[0;32mIn[3], line 2\u001b[0m\n\u001b[1;32m      1\u001b[0m \u001b[38;5;66;03m# optimize hyperparams\u001b[39;00m\n\u001b[0;32m----> 2\u001b[0m optimizer_results \u001b[38;5;241m=\u001b[39m \u001b[43m{\u001b[49m\u001b[43mmodel_type\u001b[49m\u001b[43m:\u001b[49m\u001b[43m \u001b[49m\u001b[43mmodel\u001b[49m\u001b[38;5;241;43m.\u001b[39;49m\u001b[43moptimize_hyperparams\u001b[49m\u001b[43m(\u001b[49m\u001b[43mkfold\u001b[49m\u001b[38;5;241;43m=\u001b[39;49m\u001b[38;5;241;43m2\u001b[39;49m\u001b[43m)\u001b[49m\u001b[43m \u001b[49m\u001b[38;5;28;43;01mfor\u001b[39;49;00m\u001b[43m \u001b[49m\u001b[43mmodel_type\u001b[49m\u001b[43m,\u001b[49m\u001b[43m \u001b[49m\u001b[43mmodel\u001b[49m\u001b[43m \u001b[49m\u001b[38;5;129;43;01min\u001b[39;49;00m\u001b[43m \u001b[49m\u001b[43mmodels\u001b[49m\u001b[38;5;241;43m.\u001b[39;49m\u001b[43mitems\u001b[49m\u001b[43m(\u001b[49m\u001b[43m)\u001b[49m\u001b[43m}\u001b[49m\n\u001b[1;32m      3\u001b[0m \u001b[38;5;28mprint\u001b[39m(optimizer_results)\n",
      "Cell \u001b[0;32mIn[3], line 2\u001b[0m, in \u001b[0;36m<dictcomp>\u001b[0;34m(.0)\u001b[0m\n\u001b[1;32m      1\u001b[0m \u001b[38;5;66;03m# optimize hyperparams\u001b[39;00m\n\u001b[0;32m----> 2\u001b[0m optimizer_results \u001b[38;5;241m=\u001b[39m {model_type: \u001b[43mmodel\u001b[49m\u001b[38;5;241;43m.\u001b[39;49m\u001b[43moptimize_hyperparams\u001b[49m\u001b[43m(\u001b[49m\u001b[43mkfold\u001b[49m\u001b[38;5;241;43m=\u001b[39;49m\u001b[38;5;241;43m2\u001b[39;49m\u001b[43m)\u001b[49m \u001b[38;5;28;01mfor\u001b[39;00m model_type, model \u001b[38;5;129;01min\u001b[39;00m models\u001b[38;5;241m.\u001b[39mitems()}\n\u001b[1;32m      3\u001b[0m \u001b[38;5;28mprint\u001b[39m(optimizer_results)\n",
      "File \u001b[0;32m~/ucdavis-courses/ecs-171/project/notebooks/utils/model.py:776\u001b[0m, in \u001b[0;36mMLPClassifier.optimize_hyperparams\u001b[0;34m(self, grid_search, kfold)\u001b[0m\n\u001b[1;32m    754\u001b[0m     grid_search \u001b[38;5;241m=\u001b[39m {\n\u001b[1;32m    755\u001b[0m         \u001b[38;5;124m\"\u001b[39m\u001b[38;5;124mlearning_rate\u001b[39m\u001b[38;5;124m\"\u001b[39m: [\u001b[38;5;241m10\u001b[39m \u001b[38;5;241m*\u001b[39m\u001b[38;5;241m*\u001b[39m (\u001b[38;5;241m-\u001b[39mi) \u001b[38;5;28;01mfor\u001b[39;00m i \u001b[38;5;129;01min\u001b[39;00m \u001b[38;5;28mrange\u001b[39m(\u001b[38;5;241m5\u001b[39m)],\n\u001b[1;32m    756\u001b[0m         \u001b[38;5;124m\"\u001b[39m\u001b[38;5;124minput_size\u001b[39m\u001b[38;5;124m\"\u001b[39m: [\u001b[38;5;28mself\u001b[39m\u001b[38;5;241m.\u001b[39mX_train\u001b[38;5;241m.\u001b[39mshape[\u001b[38;5;241m1\u001b[39m]],\n\u001b[0;32m   (...)\u001b[0m\n\u001b[1;32m    761\u001b[0m         \u001b[38;5;124m\"\u001b[39m\u001b[38;5;124mbatch_size\u001b[39m\u001b[38;5;124m\"\u001b[39m: [\u001b[38;5;241m32\u001b[39m, \u001b[38;5;241m64\u001b[39m, \u001b[38;5;241m128\u001b[39m]\n\u001b[1;32m    762\u001b[0m     }\n\u001b[1;32m    764\u001b[0m \u001b[38;5;66;03m# conduct search\u001b[39;00m\n\u001b[1;32m    765\u001b[0m searcher \u001b[38;5;241m=\u001b[39m \u001b[43mGridSearchCV\u001b[49m\u001b[43m(\u001b[49m\n\u001b[1;32m    766\u001b[0m \u001b[43m    \u001b[49m\u001b[43mNeuralNetClassifier\u001b[49m\u001b[43m(\u001b[49m\n\u001b[1;32m    767\u001b[0m \u001b[43m        \u001b[49m\u001b[43mLinearNN\u001b[49m\u001b[43m,\u001b[49m\n\u001b[1;32m    768\u001b[0m \u001b[43m        \u001b[49m\u001b[38;5;241;43m*\u001b[39;49m\u001b[38;5;241;43m*\u001b[39;49m\u001b[38;5;28;43mself\u001b[39;49m\u001b[38;5;241;43m.\u001b[39;49m\u001b[43mhyperparams\u001b[49m\n\u001b[1;32m    769\u001b[0m \u001b[43m    \u001b[49m\u001b[43m)\u001b[49m\u001b[43m,\u001b[49m\n\u001b[1;32m    770\u001b[0m \u001b[43m    \u001b[49m\u001b[43mgrid_search\u001b[49m\u001b[43m,\u001b[49m\n\u001b[1;32m    771\u001b[0m \u001b[43m    \u001b[49m\u001b[43mscoring\u001b[49m\u001b[38;5;241;43m=\u001b[39;49m\u001b[38;5;124;43m\"\u001b[39;49m\u001b[38;5;124;43maccuracy\u001b[39;49m\u001b[38;5;124;43m\"\u001b[39;49m\u001b[43m,\u001b[49m\n\u001b[1;32m    772\u001b[0m \u001b[43m    \u001b[49m\u001b[43mrefit\u001b[49m\u001b[38;5;241;43m=\u001b[39;49m\u001b[38;5;28;43;01mTrue\u001b[39;49;00m\u001b[43m,\u001b[49m\n\u001b[1;32m    773\u001b[0m \u001b[43m    \u001b[49m\u001b[43mcv\u001b[49m\u001b[38;5;241;43m=\u001b[39;49m\u001b[43mkfold\u001b[49m\u001b[43m,\u001b[49m\n\u001b[1;32m    774\u001b[0m \u001b[43m    \u001b[49m\u001b[43mverbose\u001b[49m\u001b[38;5;241;43m=\u001b[39;49m\u001b[38;5;241;43m3\u001b[39;49m\u001b[43m,\u001b[49m\n\u001b[1;32m    775\u001b[0m \u001b[43m    \u001b[49m\u001b[43mn_jobs\u001b[49m\u001b[38;5;241;43m=\u001b[39;49m\u001b[38;5;241;43m-\u001b[39;49m\u001b[38;5;241;43m1\u001b[39;49m\n\u001b[0;32m--> 776\u001b[0m \u001b[43m\u001b[49m\u001b[43m)\u001b[49m\u001b[38;5;241;43m.\u001b[39;49m\u001b[43mfit\u001b[49m\u001b[43m(\u001b[49m\u001b[38;5;28;43mself\u001b[39;49m\u001b[38;5;241;43m.\u001b[39;49m\u001b[43mX_train\u001b[49m\u001b[43m,\u001b[49m\u001b[43m \u001b[49m\u001b[38;5;28;43mself\u001b[39;49m\u001b[38;5;241;43m.\u001b[39;49m\u001b[43my_train\u001b[49m\u001b[43m)\u001b[49m\n\u001b[1;32m    778\u001b[0m searcher_df \u001b[38;5;241m=\u001b[39m pd\u001b[38;5;241m.\u001b[39mDataFrame\u001b[38;5;241m.\u001b[39mfrom_dict(searcher\u001b[38;5;241m.\u001b[39mcv_results_)\n\u001b[1;32m    779\u001b[0m accuracy \u001b[38;5;241m=\u001b[39m searcher\u001b[38;5;241m.\u001b[39mbest_score_\n",
      "File \u001b[0;32m~/anaconda3/lib/python3.11/site-packages/sklearn/base.py:1474\u001b[0m, in \u001b[0;36m_fit_context.<locals>.decorator.<locals>.wrapper\u001b[0;34m(estimator, *args, **kwargs)\u001b[0m\n\u001b[1;32m   1467\u001b[0m     estimator\u001b[38;5;241m.\u001b[39m_validate_params()\n\u001b[1;32m   1469\u001b[0m \u001b[38;5;28;01mwith\u001b[39;00m config_context(\n\u001b[1;32m   1470\u001b[0m     skip_parameter_validation\u001b[38;5;241m=\u001b[39m(\n\u001b[1;32m   1471\u001b[0m         prefer_skip_nested_validation \u001b[38;5;129;01mor\u001b[39;00m global_skip_validation\n\u001b[1;32m   1472\u001b[0m     )\n\u001b[1;32m   1473\u001b[0m ):\n\u001b[0;32m-> 1474\u001b[0m     \u001b[38;5;28;01mreturn\u001b[39;00m \u001b[43mfit_method\u001b[49m\u001b[43m(\u001b[49m\u001b[43mestimator\u001b[49m\u001b[43m,\u001b[49m\u001b[43m \u001b[49m\u001b[38;5;241;43m*\u001b[39;49m\u001b[43margs\u001b[49m\u001b[43m,\u001b[49m\u001b[43m \u001b[49m\u001b[38;5;241;43m*\u001b[39;49m\u001b[38;5;241;43m*\u001b[39;49m\u001b[43mkwargs\u001b[49m\u001b[43m)\u001b[49m\n",
      "File \u001b[0;32m~/anaconda3/lib/python3.11/site-packages/sklearn/model_selection/_search.py:970\u001b[0m, in \u001b[0;36mBaseSearchCV.fit\u001b[0;34m(self, X, y, **params)\u001b[0m\n\u001b[1;32m    964\u001b[0m     results \u001b[38;5;241m=\u001b[39m \u001b[38;5;28mself\u001b[39m\u001b[38;5;241m.\u001b[39m_format_results(\n\u001b[1;32m    965\u001b[0m         all_candidate_params, n_splits, all_out, all_more_results\n\u001b[1;32m    966\u001b[0m     )\n\u001b[1;32m    968\u001b[0m     \u001b[38;5;28;01mreturn\u001b[39;00m results\n\u001b[0;32m--> 970\u001b[0m \u001b[38;5;28;43mself\u001b[39;49m\u001b[38;5;241;43m.\u001b[39;49m\u001b[43m_run_search\u001b[49m\u001b[43m(\u001b[49m\u001b[43mevaluate_candidates\u001b[49m\u001b[43m)\u001b[49m\n\u001b[1;32m    972\u001b[0m \u001b[38;5;66;03m# multimetric is determined here because in the case of a callable\u001b[39;00m\n\u001b[1;32m    973\u001b[0m \u001b[38;5;66;03m# self.scoring the return type is only known after calling\u001b[39;00m\n\u001b[1;32m    974\u001b[0m first_test_score \u001b[38;5;241m=\u001b[39m all_out[\u001b[38;5;241m0\u001b[39m][\u001b[38;5;124m\"\u001b[39m\u001b[38;5;124mtest_scores\u001b[39m\u001b[38;5;124m\"\u001b[39m]\n",
      "File \u001b[0;32m~/anaconda3/lib/python3.11/site-packages/sklearn/model_selection/_search.py:1527\u001b[0m, in \u001b[0;36mGridSearchCV._run_search\u001b[0;34m(self, evaluate_candidates)\u001b[0m\n\u001b[1;32m   1525\u001b[0m \u001b[38;5;28;01mdef\u001b[39;00m \u001b[38;5;21m_run_search\u001b[39m(\u001b[38;5;28mself\u001b[39m, evaluate_candidates):\n\u001b[1;32m   1526\u001b[0m \u001b[38;5;250m    \u001b[39m\u001b[38;5;124;03m\"\"\"Search all candidates in param_grid\"\"\"\u001b[39;00m\n\u001b[0;32m-> 1527\u001b[0m     \u001b[43mevaluate_candidates\u001b[49m\u001b[43m(\u001b[49m\u001b[43mParameterGrid\u001b[49m\u001b[43m(\u001b[49m\u001b[38;5;28;43mself\u001b[39;49m\u001b[38;5;241;43m.\u001b[39;49m\u001b[43mparam_grid\u001b[49m\u001b[43m)\u001b[49m\u001b[43m)\u001b[49m\n",
      "File \u001b[0;32m~/anaconda3/lib/python3.11/site-packages/sklearn/model_selection/_search.py:916\u001b[0m, in \u001b[0;36mBaseSearchCV.fit.<locals>.evaluate_candidates\u001b[0;34m(candidate_params, cv, more_results)\u001b[0m\n\u001b[1;32m    908\u001b[0m \u001b[38;5;28;01mif\u001b[39;00m \u001b[38;5;28mself\u001b[39m\u001b[38;5;241m.\u001b[39mverbose \u001b[38;5;241m>\u001b[39m \u001b[38;5;241m0\u001b[39m:\n\u001b[1;32m    909\u001b[0m     \u001b[38;5;28mprint\u001b[39m(\n\u001b[1;32m    910\u001b[0m         \u001b[38;5;124m\"\u001b[39m\u001b[38;5;124mFitting \u001b[39m\u001b[38;5;132;01m{0}\u001b[39;00m\u001b[38;5;124m folds for each of \u001b[39m\u001b[38;5;132;01m{1}\u001b[39;00m\u001b[38;5;124m candidates,\u001b[39m\u001b[38;5;124m\"\u001b[39m\n\u001b[1;32m    911\u001b[0m         \u001b[38;5;124m\"\u001b[39m\u001b[38;5;124m totalling \u001b[39m\u001b[38;5;132;01m{2}\u001b[39;00m\u001b[38;5;124m fits\u001b[39m\u001b[38;5;124m\"\u001b[39m\u001b[38;5;241m.\u001b[39mformat(\n\u001b[1;32m    912\u001b[0m             n_splits, n_candidates, n_candidates \u001b[38;5;241m*\u001b[39m n_splits\n\u001b[1;32m    913\u001b[0m         )\n\u001b[1;32m    914\u001b[0m     )\n\u001b[0;32m--> 916\u001b[0m out \u001b[38;5;241m=\u001b[39m \u001b[43mparallel\u001b[49m\u001b[43m(\u001b[49m\n\u001b[1;32m    917\u001b[0m \u001b[43m    \u001b[49m\u001b[43mdelayed\u001b[49m\u001b[43m(\u001b[49m\u001b[43m_fit_and_score\u001b[49m\u001b[43m)\u001b[49m\u001b[43m(\u001b[49m\n\u001b[1;32m    918\u001b[0m \u001b[43m        \u001b[49m\u001b[43mclone\u001b[49m\u001b[43m(\u001b[49m\u001b[43mbase_estimator\u001b[49m\u001b[43m)\u001b[49m\u001b[43m,\u001b[49m\n\u001b[1;32m    919\u001b[0m \u001b[43m        \u001b[49m\u001b[43mX\u001b[49m\u001b[43m,\u001b[49m\n\u001b[1;32m    920\u001b[0m \u001b[43m        \u001b[49m\u001b[43my\u001b[49m\u001b[43m,\u001b[49m\n\u001b[1;32m    921\u001b[0m \u001b[43m        \u001b[49m\u001b[43mtrain\u001b[49m\u001b[38;5;241;43m=\u001b[39;49m\u001b[43mtrain\u001b[49m\u001b[43m,\u001b[49m\n\u001b[1;32m    922\u001b[0m \u001b[43m        \u001b[49m\u001b[43mtest\u001b[49m\u001b[38;5;241;43m=\u001b[39;49m\u001b[43mtest\u001b[49m\u001b[43m,\u001b[49m\n\u001b[1;32m    923\u001b[0m \u001b[43m        \u001b[49m\u001b[43mparameters\u001b[49m\u001b[38;5;241;43m=\u001b[39;49m\u001b[43mparameters\u001b[49m\u001b[43m,\u001b[49m\n\u001b[1;32m    924\u001b[0m \u001b[43m        \u001b[49m\u001b[43msplit_progress\u001b[49m\u001b[38;5;241;43m=\u001b[39;49m\u001b[43m(\u001b[49m\u001b[43msplit_idx\u001b[49m\u001b[43m,\u001b[49m\u001b[43m \u001b[49m\u001b[43mn_splits\u001b[49m\u001b[43m)\u001b[49m\u001b[43m,\u001b[49m\n\u001b[1;32m    925\u001b[0m \u001b[43m        \u001b[49m\u001b[43mcandidate_progress\u001b[49m\u001b[38;5;241;43m=\u001b[39;49m\u001b[43m(\u001b[49m\u001b[43mcand_idx\u001b[49m\u001b[43m,\u001b[49m\u001b[43m \u001b[49m\u001b[43mn_candidates\u001b[49m\u001b[43m)\u001b[49m\u001b[43m,\u001b[49m\n\u001b[1;32m    926\u001b[0m \u001b[43m        \u001b[49m\u001b[38;5;241;43m*\u001b[39;49m\u001b[38;5;241;43m*\u001b[39;49m\u001b[43mfit_and_score_kwargs\u001b[49m\u001b[43m,\u001b[49m\n\u001b[1;32m    927\u001b[0m \u001b[43m    \u001b[49m\u001b[43m)\u001b[49m\n\u001b[1;32m    928\u001b[0m \u001b[43m    \u001b[49m\u001b[38;5;28;43;01mfor\u001b[39;49;00m\u001b[43m \u001b[49m\u001b[43m(\u001b[49m\u001b[43mcand_idx\u001b[49m\u001b[43m,\u001b[49m\u001b[43m \u001b[49m\u001b[43mparameters\u001b[49m\u001b[43m)\u001b[49m\u001b[43m,\u001b[49m\u001b[43m \u001b[49m\u001b[43m(\u001b[49m\u001b[43msplit_idx\u001b[49m\u001b[43m,\u001b[49m\u001b[43m \u001b[49m\u001b[43m(\u001b[49m\u001b[43mtrain\u001b[49m\u001b[43m,\u001b[49m\u001b[43m \u001b[49m\u001b[43mtest\u001b[49m\u001b[43m)\u001b[49m\u001b[43m)\u001b[49m\u001b[43m \u001b[49m\u001b[38;5;129;43;01min\u001b[39;49;00m\u001b[43m \u001b[49m\u001b[43mproduct\u001b[49m\u001b[43m(\u001b[49m\n\u001b[1;32m    929\u001b[0m \u001b[43m        \u001b[49m\u001b[38;5;28;43menumerate\u001b[39;49m\u001b[43m(\u001b[49m\u001b[43mcandidate_params\u001b[49m\u001b[43m)\u001b[49m\u001b[43m,\u001b[49m\n\u001b[1;32m    930\u001b[0m \u001b[43m        \u001b[49m\u001b[38;5;28;43menumerate\u001b[39;49m\u001b[43m(\u001b[49m\u001b[43mcv\u001b[49m\u001b[38;5;241;43m.\u001b[39;49m\u001b[43msplit\u001b[49m\u001b[43m(\u001b[49m\u001b[43mX\u001b[49m\u001b[43m,\u001b[49m\u001b[43m \u001b[49m\u001b[43my\u001b[49m\u001b[43m,\u001b[49m\u001b[43m \u001b[49m\u001b[38;5;241;43m*\u001b[39;49m\u001b[38;5;241;43m*\u001b[39;49m\u001b[43mrouted_params\u001b[49m\u001b[38;5;241;43m.\u001b[39;49m\u001b[43msplitter\u001b[49m\u001b[38;5;241;43m.\u001b[39;49m\u001b[43msplit\u001b[49m\u001b[43m)\u001b[49m\u001b[43m)\u001b[49m\u001b[43m,\u001b[49m\n\u001b[1;32m    931\u001b[0m \u001b[43m    \u001b[49m\u001b[43m)\u001b[49m\n\u001b[1;32m    932\u001b[0m \u001b[43m\u001b[49m\u001b[43m)\u001b[49m\n\u001b[1;32m    934\u001b[0m \u001b[38;5;28;01mif\u001b[39;00m \u001b[38;5;28mlen\u001b[39m(out) \u001b[38;5;241m<\u001b[39m \u001b[38;5;241m1\u001b[39m:\n\u001b[1;32m    935\u001b[0m     \u001b[38;5;28;01mraise\u001b[39;00m \u001b[38;5;167;01mValueError\u001b[39;00m(\n\u001b[1;32m    936\u001b[0m         \u001b[38;5;124m\"\u001b[39m\u001b[38;5;124mNo fits were performed. \u001b[39m\u001b[38;5;124m\"\u001b[39m\n\u001b[1;32m    937\u001b[0m         \u001b[38;5;124m\"\u001b[39m\u001b[38;5;124mWas the CV iterator empty? \u001b[39m\u001b[38;5;124m\"\u001b[39m\n\u001b[1;32m    938\u001b[0m         \u001b[38;5;124m\"\u001b[39m\u001b[38;5;124mWere there no candidates?\u001b[39m\u001b[38;5;124m\"\u001b[39m\n\u001b[1;32m    939\u001b[0m     )\n",
      "File \u001b[0;32m~/anaconda3/lib/python3.11/site-packages/sklearn/utils/parallel.py:67\u001b[0m, in \u001b[0;36mParallel.__call__\u001b[0;34m(self, iterable)\u001b[0m\n\u001b[1;32m     62\u001b[0m config \u001b[38;5;241m=\u001b[39m get_config()\n\u001b[1;32m     63\u001b[0m iterable_with_config \u001b[38;5;241m=\u001b[39m (\n\u001b[1;32m     64\u001b[0m     (_with_config(delayed_func, config), args, kwargs)\n\u001b[1;32m     65\u001b[0m     \u001b[38;5;28;01mfor\u001b[39;00m delayed_func, args, kwargs \u001b[38;5;129;01min\u001b[39;00m iterable\n\u001b[1;32m     66\u001b[0m )\n\u001b[0;32m---> 67\u001b[0m \u001b[38;5;28;01mreturn\u001b[39;00m \u001b[38;5;28;43msuper\u001b[39;49m\u001b[43m(\u001b[49m\u001b[43m)\u001b[49m\u001b[38;5;241;43m.\u001b[39;49m\u001b[38;5;21;43m__call__\u001b[39;49m\u001b[43m(\u001b[49m\u001b[43miterable_with_config\u001b[49m\u001b[43m)\u001b[49m\n",
      "File \u001b[0;32m~/anaconda3/lib/python3.11/site-packages/joblib/parallel.py:1952\u001b[0m, in \u001b[0;36mParallel.__call__\u001b[0;34m(self, iterable)\u001b[0m\n\u001b[1;32m   1946\u001b[0m \u001b[38;5;66;03m# The first item from the output is blank, but it makes the interpreter\u001b[39;00m\n\u001b[1;32m   1947\u001b[0m \u001b[38;5;66;03m# progress until it enters the Try/Except block of the generator and\u001b[39;00m\n\u001b[1;32m   1948\u001b[0m \u001b[38;5;66;03m# reach the first `yield` statement. This starts the aynchronous\u001b[39;00m\n\u001b[1;32m   1949\u001b[0m \u001b[38;5;66;03m# dispatch of the tasks to the workers.\u001b[39;00m\n\u001b[1;32m   1950\u001b[0m \u001b[38;5;28mnext\u001b[39m(output)\n\u001b[0;32m-> 1952\u001b[0m \u001b[38;5;28;01mreturn\u001b[39;00m output \u001b[38;5;28;01mif\u001b[39;00m \u001b[38;5;28mself\u001b[39m\u001b[38;5;241m.\u001b[39mreturn_generator \u001b[38;5;28;01melse\u001b[39;00m \u001b[38;5;28;43mlist\u001b[39;49m\u001b[43m(\u001b[49m\u001b[43moutput\u001b[49m\u001b[43m)\u001b[49m\n",
      "File \u001b[0;32m~/anaconda3/lib/python3.11/site-packages/joblib/parallel.py:1595\u001b[0m, in \u001b[0;36mParallel._get_outputs\u001b[0;34m(self, iterator, pre_dispatch)\u001b[0m\n\u001b[1;32m   1592\u001b[0m     \u001b[38;5;28;01myield\u001b[39;00m\n\u001b[1;32m   1594\u001b[0m     \u001b[38;5;28;01mwith\u001b[39;00m \u001b[38;5;28mself\u001b[39m\u001b[38;5;241m.\u001b[39m_backend\u001b[38;5;241m.\u001b[39mretrieval_context():\n\u001b[0;32m-> 1595\u001b[0m         \u001b[38;5;28;01myield from\u001b[39;00m \u001b[38;5;28mself\u001b[39m\u001b[38;5;241m.\u001b[39m_retrieve()\n\u001b[1;32m   1597\u001b[0m \u001b[38;5;28;01mexcept\u001b[39;00m \u001b[38;5;167;01mGeneratorExit\u001b[39;00m:\n\u001b[1;32m   1598\u001b[0m     \u001b[38;5;66;03m# The generator has been garbage collected before being fully\u001b[39;00m\n\u001b[1;32m   1599\u001b[0m     \u001b[38;5;66;03m# consumed. This aborts the remaining tasks if possible and warn\u001b[39;00m\n\u001b[1;32m   1600\u001b[0m     \u001b[38;5;66;03m# the user if necessary.\u001b[39;00m\n\u001b[1;32m   1601\u001b[0m     \u001b[38;5;28mself\u001b[39m\u001b[38;5;241m.\u001b[39m_exception \u001b[38;5;241m=\u001b[39m \u001b[38;5;28;01mTrue\u001b[39;00m\n",
      "File \u001b[0;32m~/anaconda3/lib/python3.11/site-packages/joblib/parallel.py:1707\u001b[0m, in \u001b[0;36mParallel._retrieve\u001b[0;34m(self)\u001b[0m\n\u001b[1;32m   1702\u001b[0m \u001b[38;5;66;03m# If the next job is not ready for retrieval yet, we just wait for\u001b[39;00m\n\u001b[1;32m   1703\u001b[0m \u001b[38;5;66;03m# async callbacks to progress.\u001b[39;00m\n\u001b[1;32m   1704\u001b[0m \u001b[38;5;28;01mif\u001b[39;00m ((\u001b[38;5;28mlen\u001b[39m(\u001b[38;5;28mself\u001b[39m\u001b[38;5;241m.\u001b[39m_jobs) \u001b[38;5;241m==\u001b[39m \u001b[38;5;241m0\u001b[39m) \u001b[38;5;129;01mor\u001b[39;00m\n\u001b[1;32m   1705\u001b[0m     (\u001b[38;5;28mself\u001b[39m\u001b[38;5;241m.\u001b[39m_jobs[\u001b[38;5;241m0\u001b[39m]\u001b[38;5;241m.\u001b[39mget_status(\n\u001b[1;32m   1706\u001b[0m         timeout\u001b[38;5;241m=\u001b[39m\u001b[38;5;28mself\u001b[39m\u001b[38;5;241m.\u001b[39mtimeout) \u001b[38;5;241m==\u001b[39m TASK_PENDING)):\n\u001b[0;32m-> 1707\u001b[0m     time\u001b[38;5;241m.\u001b[39msleep(\u001b[38;5;241m0.01\u001b[39m)\n\u001b[1;32m   1708\u001b[0m     \u001b[38;5;28;01mcontinue\u001b[39;00m\n\u001b[1;32m   1710\u001b[0m \u001b[38;5;66;03m# We need to be careful: the job list can be filling up as\u001b[39;00m\n\u001b[1;32m   1711\u001b[0m \u001b[38;5;66;03m# we empty it and Python list are not thread-safe by\u001b[39;00m\n\u001b[1;32m   1712\u001b[0m \u001b[38;5;66;03m# default hence the use of the lock\u001b[39;00m\n",
      "\u001b[0;31mKeyboardInterrupt\u001b[0m: "
     ]
    }
   ],
   "source": [
    "# optimize hyperparams\n",
    "optimizer_results = {model_type: model.optimize_hyperparams(kfold=2) for model_type, model in models.items()}\n",
    "print(optimizer_results)"
   ]
  },
  {
   "cell_type": "markdown",
   "metadata": {},
   "source": [
    "***\n",
    "## Fine-Tuning + Other Adjustments"
   ]
  },
  {
   "cell_type": "code",
   "execution_count": null,
   "metadata": {},
   "outputs": [],
   "source": []
  },
  {
   "cell_type": "markdown",
   "metadata": {},
   "source": [
    "***\n",
    "## Best Model Report"
   ]
  },
  {
   "cell_type": "code",
   "execution_count": null,
   "metadata": {},
   "outputs": [],
   "source": []
  },
  {
   "cell_type": "markdown",
   "metadata": {},
   "source": [
    "***\n",
    "## Interpretation"
   ]
  },
  {
   "cell_type": "markdown",
   "metadata": {},
   "source": []
  },
  {
   "cell_type": "markdown",
   "metadata": {},
   "source": [
    "***\n",
    "## Conclusion"
   ]
  }
 ],
 "metadata": {
  "kernelspec": {
   "display_name": "base",
   "language": "python",
   "name": "python3"
  },
  "language_info": {
   "codemirror_mode": {
    "name": "ipython",
    "version": 3
   },
   "file_extension": ".py",
   "mimetype": "text/x-python",
   "name": "python",
   "nbconvert_exporter": "python",
   "pygments_lexer": "ipython3",
   "version": "3.11.5"
  }
 },
 "nbformat": 4,
 "nbformat_minor": 2
}
